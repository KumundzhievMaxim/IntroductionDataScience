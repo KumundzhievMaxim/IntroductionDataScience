{
 "cells": [
  {
   "cell_type": "markdown",
   "metadata": {},
   "source": [
    "This notebook provides main Exploration and Visualisation insights based on customers credit history data.\n",
    "\n",
    "## Assumed steps: \n",
    "**Data set basic analysis**\n",
    "    - @TODO denote WARNING columns which has imbalanced distribution\n",
    "    - @TODO add decoding of labels for pie charts e.g.: A13 - male, divorced  \n",
    "**Customers statistical insights**"
   ]
  },
  {
   "cell_type": "code",
   "execution_count": 283,
   "metadata": {},
   "outputs": [],
   "source": [
    "# imports \n",
    "import pandas as pd\n",
    "import matplotlib.pyplot as plt\n",
    "from scipy.stats import entropy"
   ]
  },
  {
   "cell_type": "code",
   "execution_count": 284,
   "metadata": {},
   "outputs": [],
   "source": [
    "# util functions\n",
    "\n",
    "def rename_columns(dataset: pd.DataFrame):\n",
    "        \"\"\"Rename dataframe columns names.\n",
    "        Notes:\n",
    "            target column names based on provided data_description.txt\n",
    "        Returns:\n",
    "            pd.DataFrame - dataframe with renamed columns \n",
    "        \"\"\"\n",
    "    \n",
    "        target_columns = {\n",
    "            'X01': 'account_status',\n",
    "            'X06': 'account_savings',\n",
    "            'X02': 'credit_duration',\n",
    "            'X03': 'credit_history',\n",
    "            'X04': 'credit_purpose',\n",
    "            'X05': 'credit_amount',\n",
    "            'X07': 'employment_status',\n",
    "            'X17': 'employment_description',\n",
    "            'X08': 'income_installment_rate',\n",
    "            'X09': 'gender_status',\n",
    "            'X10': 'credit_guarantors',\n",
    "            'X11': 'residence',\n",
    "            'X12': 'owned_property',\n",
    "            'X13': 'age',\n",
    "            'X14': 'installment_plans',\n",
    "            'X15': 'accomondation_type',\n",
    "            'X16': 'credit_existing_number',\n",
    "            'X18': 'liable_maintain',\n",
    "            'X19': 'phone_number',\n",
    "            'X20': 'foreign_worker',\n",
    "            'Y': 'y'\n",
    "        }\n",
    "        return dataset.rename(columns=target_columns)    "
   ]
  },
  {
   "cell_type": "code",
   "execution_count": 285,
   "metadata": {},
   "outputs": [
    {
     "data": {
      "text/html": [
       "<div>\n",
       "<style scoped>\n",
       "    .dataframe tbody tr th:only-of-type {\n",
       "        vertical-align: middle;\n",
       "    }\n",
       "\n",
       "    .dataframe tbody tr th {\n",
       "        vertical-align: top;\n",
       "    }\n",
       "\n",
       "    .dataframe thead th {\n",
       "        text-align: right;\n",
       "    }\n",
       "</style>\n",
       "<table border=\"1\" class=\"dataframe\">\n",
       "  <thead>\n",
       "    <tr style=\"text-align: right;\">\n",
       "      <th></th>\n",
       "      <th>account_status</th>\n",
       "      <th>credit_duration</th>\n",
       "      <th>credit_history</th>\n",
       "      <th>credit_purpose</th>\n",
       "      <th>credit_amount</th>\n",
       "      <th>account_savings</th>\n",
       "      <th>employment_status</th>\n",
       "      <th>income_installment_rate</th>\n",
       "      <th>gender_status</th>\n",
       "      <th>credit_guarantors</th>\n",
       "      <th>...</th>\n",
       "      <th>owned_property</th>\n",
       "      <th>age</th>\n",
       "      <th>installment_plans</th>\n",
       "      <th>accomondation_type</th>\n",
       "      <th>credit_existing_number</th>\n",
       "      <th>employment_description</th>\n",
       "      <th>liable_maintain</th>\n",
       "      <th>phone_number</th>\n",
       "      <th>foreign_worker</th>\n",
       "      <th>y</th>\n",
       "    </tr>\n",
       "  </thead>\n",
       "  <tbody>\n",
       "    <tr>\n",
       "      <th>0</th>\n",
       "      <td>A11</td>\n",
       "      <td>6</td>\n",
       "      <td>A34</td>\n",
       "      <td>A43</td>\n",
       "      <td>1169</td>\n",
       "      <td>A65</td>\n",
       "      <td>A75</td>\n",
       "      <td>4</td>\n",
       "      <td>A93</td>\n",
       "      <td>A101</td>\n",
       "      <td>...</td>\n",
       "      <td>A121</td>\n",
       "      <td>67</td>\n",
       "      <td>A143</td>\n",
       "      <td>A152</td>\n",
       "      <td>2</td>\n",
       "      <td>A173</td>\n",
       "      <td>1</td>\n",
       "      <td>A192</td>\n",
       "      <td>A201</td>\n",
       "      <td>1</td>\n",
       "    </tr>\n",
       "    <tr>\n",
       "      <th>1</th>\n",
       "      <td>A12</td>\n",
       "      <td>48</td>\n",
       "      <td>A32</td>\n",
       "      <td>A43</td>\n",
       "      <td>5951</td>\n",
       "      <td>A61</td>\n",
       "      <td>A73</td>\n",
       "      <td>2</td>\n",
       "      <td>A92</td>\n",
       "      <td>A101</td>\n",
       "      <td>...</td>\n",
       "      <td>A121</td>\n",
       "      <td>22</td>\n",
       "      <td>A143</td>\n",
       "      <td>A152</td>\n",
       "      <td>1</td>\n",
       "      <td>A173</td>\n",
       "      <td>1</td>\n",
       "      <td>A191</td>\n",
       "      <td>A201</td>\n",
       "      <td>2</td>\n",
       "    </tr>\n",
       "    <tr>\n",
       "      <th>2</th>\n",
       "      <td>A14</td>\n",
       "      <td>12</td>\n",
       "      <td>A34</td>\n",
       "      <td>A46</td>\n",
       "      <td>2096</td>\n",
       "      <td>A61</td>\n",
       "      <td>A74</td>\n",
       "      <td>2</td>\n",
       "      <td>A93</td>\n",
       "      <td>A101</td>\n",
       "      <td>...</td>\n",
       "      <td>A121</td>\n",
       "      <td>49</td>\n",
       "      <td>A143</td>\n",
       "      <td>A152</td>\n",
       "      <td>1</td>\n",
       "      <td>A172</td>\n",
       "      <td>2</td>\n",
       "      <td>A191</td>\n",
       "      <td>A201</td>\n",
       "      <td>1</td>\n",
       "    </tr>\n",
       "    <tr>\n",
       "      <th>3</th>\n",
       "      <td>A11</td>\n",
       "      <td>42</td>\n",
       "      <td>A32</td>\n",
       "      <td>A42</td>\n",
       "      <td>7882</td>\n",
       "      <td>A61</td>\n",
       "      <td>A74</td>\n",
       "      <td>2</td>\n",
       "      <td>A93</td>\n",
       "      <td>A103</td>\n",
       "      <td>...</td>\n",
       "      <td>A122</td>\n",
       "      <td>45</td>\n",
       "      <td>A143</td>\n",
       "      <td>A153</td>\n",
       "      <td>1</td>\n",
       "      <td>A173</td>\n",
       "      <td>2</td>\n",
       "      <td>A191</td>\n",
       "      <td>A201</td>\n",
       "      <td>1</td>\n",
       "    </tr>\n",
       "    <tr>\n",
       "      <th>4</th>\n",
       "      <td>A11</td>\n",
       "      <td>24</td>\n",
       "      <td>A33</td>\n",
       "      <td>A40</td>\n",
       "      <td>4870</td>\n",
       "      <td>A61</td>\n",
       "      <td>A73</td>\n",
       "      <td>3</td>\n",
       "      <td>A93</td>\n",
       "      <td>A101</td>\n",
       "      <td>...</td>\n",
       "      <td>A124</td>\n",
       "      <td>53</td>\n",
       "      <td>A143</td>\n",
       "      <td>A153</td>\n",
       "      <td>2</td>\n",
       "      <td>A173</td>\n",
       "      <td>2</td>\n",
       "      <td>A191</td>\n",
       "      <td>A201</td>\n",
       "      <td>2</td>\n",
       "    </tr>\n",
       "    <tr>\n",
       "      <th>...</th>\n",
       "      <td>...</td>\n",
       "      <td>...</td>\n",
       "      <td>...</td>\n",
       "      <td>...</td>\n",
       "      <td>...</td>\n",
       "      <td>...</td>\n",
       "      <td>...</td>\n",
       "      <td>...</td>\n",
       "      <td>...</td>\n",
       "      <td>...</td>\n",
       "      <td>...</td>\n",
       "      <td>...</td>\n",
       "      <td>...</td>\n",
       "      <td>...</td>\n",
       "      <td>...</td>\n",
       "      <td>...</td>\n",
       "      <td>...</td>\n",
       "      <td>...</td>\n",
       "      <td>...</td>\n",
       "      <td>...</td>\n",
       "      <td>...</td>\n",
       "    </tr>\n",
       "    <tr>\n",
       "      <th>995</th>\n",
       "      <td>A14</td>\n",
       "      <td>12</td>\n",
       "      <td>A32</td>\n",
       "      <td>A42</td>\n",
       "      <td>1736</td>\n",
       "      <td>A61</td>\n",
       "      <td>A74</td>\n",
       "      <td>3</td>\n",
       "      <td>A92</td>\n",
       "      <td>A101</td>\n",
       "      <td>...</td>\n",
       "      <td>A121</td>\n",
       "      <td>31</td>\n",
       "      <td>A143</td>\n",
       "      <td>A152</td>\n",
       "      <td>1</td>\n",
       "      <td>A172</td>\n",
       "      <td>1</td>\n",
       "      <td>A191</td>\n",
       "      <td>A201</td>\n",
       "      <td>1</td>\n",
       "    </tr>\n",
       "    <tr>\n",
       "      <th>996</th>\n",
       "      <td>A11</td>\n",
       "      <td>30</td>\n",
       "      <td>A32</td>\n",
       "      <td>A41</td>\n",
       "      <td>3857</td>\n",
       "      <td>A61</td>\n",
       "      <td>A73</td>\n",
       "      <td>4</td>\n",
       "      <td>A91</td>\n",
       "      <td>A101</td>\n",
       "      <td>...</td>\n",
       "      <td>A122</td>\n",
       "      <td>40</td>\n",
       "      <td>A143</td>\n",
       "      <td>A152</td>\n",
       "      <td>1</td>\n",
       "      <td>A174</td>\n",
       "      <td>1</td>\n",
       "      <td>A192</td>\n",
       "      <td>A201</td>\n",
       "      <td>1</td>\n",
       "    </tr>\n",
       "    <tr>\n",
       "      <th>997</th>\n",
       "      <td>A14</td>\n",
       "      <td>12</td>\n",
       "      <td>A32</td>\n",
       "      <td>A43</td>\n",
       "      <td>804</td>\n",
       "      <td>A61</td>\n",
       "      <td>A75</td>\n",
       "      <td>4</td>\n",
       "      <td>A93</td>\n",
       "      <td>A101</td>\n",
       "      <td>...</td>\n",
       "      <td>A123</td>\n",
       "      <td>38</td>\n",
       "      <td>A143</td>\n",
       "      <td>A152</td>\n",
       "      <td>1</td>\n",
       "      <td>A173</td>\n",
       "      <td>1</td>\n",
       "      <td>A191</td>\n",
       "      <td>A201</td>\n",
       "      <td>1</td>\n",
       "    </tr>\n",
       "    <tr>\n",
       "      <th>998</th>\n",
       "      <td>A11</td>\n",
       "      <td>45</td>\n",
       "      <td>A32</td>\n",
       "      <td>A43</td>\n",
       "      <td>1845</td>\n",
       "      <td>A61</td>\n",
       "      <td>A73</td>\n",
       "      <td>4</td>\n",
       "      <td>A93</td>\n",
       "      <td>A101</td>\n",
       "      <td>...</td>\n",
       "      <td>A124</td>\n",
       "      <td>23</td>\n",
       "      <td>A143</td>\n",
       "      <td>A153</td>\n",
       "      <td>1</td>\n",
       "      <td>A173</td>\n",
       "      <td>1</td>\n",
       "      <td>A192</td>\n",
       "      <td>A201</td>\n",
       "      <td>2</td>\n",
       "    </tr>\n",
       "    <tr>\n",
       "      <th>999</th>\n",
       "      <td>A12</td>\n",
       "      <td>45</td>\n",
       "      <td>A34</td>\n",
       "      <td>A41</td>\n",
       "      <td>4576</td>\n",
       "      <td>A62</td>\n",
       "      <td>A71</td>\n",
       "      <td>3</td>\n",
       "      <td>A93</td>\n",
       "      <td>A101</td>\n",
       "      <td>...</td>\n",
       "      <td>A123</td>\n",
       "      <td>27</td>\n",
       "      <td>A143</td>\n",
       "      <td>A152</td>\n",
       "      <td>1</td>\n",
       "      <td>A173</td>\n",
       "      <td>1</td>\n",
       "      <td>A191</td>\n",
       "      <td>A201</td>\n",
       "      <td>1</td>\n",
       "    </tr>\n",
       "  </tbody>\n",
       "</table>\n",
       "<p>1000 rows × 21 columns</p>\n",
       "</div>"
      ],
      "text/plain": [
       "    account_status  credit_duration credit_history credit_purpose  \\\n",
       "0              A11                6            A34            A43   \n",
       "1              A12               48            A32            A43   \n",
       "2              A14               12            A34            A46   \n",
       "3              A11               42            A32            A42   \n",
       "4              A11               24            A33            A40   \n",
       "..             ...              ...            ...            ...   \n",
       "995            A14               12            A32            A42   \n",
       "996            A11               30            A32            A41   \n",
       "997            A14               12            A32            A43   \n",
       "998            A11               45            A32            A43   \n",
       "999            A12               45            A34            A41   \n",
       "\n",
       "     credit_amount account_savings employment_status  income_installment_rate  \\\n",
       "0             1169             A65               A75                        4   \n",
       "1             5951             A61               A73                        2   \n",
       "2             2096             A61               A74                        2   \n",
       "3             7882             A61               A74                        2   \n",
       "4             4870             A61               A73                        3   \n",
       "..             ...             ...               ...                      ...   \n",
       "995           1736             A61               A74                        3   \n",
       "996           3857             A61               A73                        4   \n",
       "997            804             A61               A75                        4   \n",
       "998           1845             A61               A73                        4   \n",
       "999           4576             A62               A71                        3   \n",
       "\n",
       "    gender_status credit_guarantors  ...  owned_property age  \\\n",
       "0             A93              A101  ...            A121  67   \n",
       "1             A92              A101  ...            A121  22   \n",
       "2             A93              A101  ...            A121  49   \n",
       "3             A93              A103  ...            A122  45   \n",
       "4             A93              A101  ...            A124  53   \n",
       "..            ...               ...  ...             ...  ..   \n",
       "995           A92              A101  ...            A121  31   \n",
       "996           A91              A101  ...            A122  40   \n",
       "997           A93              A101  ...            A123  38   \n",
       "998           A93              A101  ...            A124  23   \n",
       "999           A93              A101  ...            A123  27   \n",
       "\n",
       "     installment_plans accomondation_type credit_existing_number  \\\n",
       "0                 A143               A152                      2   \n",
       "1                 A143               A152                      1   \n",
       "2                 A143               A152                      1   \n",
       "3                 A143               A153                      1   \n",
       "4                 A143               A153                      2   \n",
       "..                 ...                ...                    ...   \n",
       "995               A143               A152                      1   \n",
       "996               A143               A152                      1   \n",
       "997               A143               A152                      1   \n",
       "998               A143               A153                      1   \n",
       "999               A143               A152                      1   \n",
       "\n",
       "     employment_description liable_maintain  phone_number foreign_worker  y  \n",
       "0                      A173               1          A192           A201  1  \n",
       "1                      A173               1          A191           A201  2  \n",
       "2                      A172               2          A191           A201  1  \n",
       "3                      A173               2          A191           A201  1  \n",
       "4                      A173               2          A191           A201  2  \n",
       "..                      ...             ...           ...            ... ..  \n",
       "995                    A172               1          A191           A201  1  \n",
       "996                    A174               1          A192           A201  1  \n",
       "997                    A173               1          A191           A201  1  \n",
       "998                    A173               1          A192           A201  2  \n",
       "999                    A173               1          A191           A201  1  \n",
       "\n",
       "[1000 rows x 21 columns]"
      ]
     },
     "execution_count": 285,
     "metadata": {},
     "output_type": "execute_result"
    }
   ],
   "source": [
    "row_dataset = pd.read_csv('./dataset/project_data.csv', delimiter=';')\n",
    "df = rename_columns(row_dataset) # we will rename encoded columns for better undersatnding of data set\n",
    "\n",
    "df "
   ]
  },
  {
   "cell_type": "markdown",
   "metadata": {},
   "source": [
    "### Data set basic analysis\n",
    "    1. Explore data set in terms of categorical vs numerical columns\n",
    "    2. Explore data set in terms of missing/nan values\n",
    "    3. Explore data set in terms of values distribution (plot per each column)\n",
    "        - @TODO denote WARNING columns which has imbalanced distribution\n",
    "        - @TODO add decoding of labels for pie charts e.g.: A13 - male, divorced  "
   ]
  },
  {
   "cell_type": "markdown",
   "metadata": {},
   "source": [
    "#### Explore data set in terms of categorical vs numerical columns (plot pie_chart)"
   ]
  },
  {
   "cell_type": "code",
   "execution_count": 286,
   "metadata": {},
   "outputs": [
    {
     "name": "stdout",
     "output_type": "stream",
     "text": [
      "Categorical cloumns: 13\n",
      "Numerical cloumns: 8\n"
     ]
    },
    {
     "data": {
      "image/png": "[encoded data removed]",
      "text/plain": [
       "<Figure size 432x288 with 1 Axes>"
      ]
     },
     "metadata": {},
     "output_type": "display_data"
    }
   ],
   "source": [
    "# Explore data set in terms of categorical vs numerical columns (plot pie_chart)\n",
    "numerical_cols = list(df._get_numeric_data().columns)\n",
    "categorical_cols = list(set(df.columns) - set(numerical_cols))\n",
    "\n",
    "print(f'Categorical cloumns: {len(categorical_cols)}')\n",
    "print(f'Numerical cloumns: {len(numerical_cols)}')\n",
    "\n",
    "labels = ['numerical_columns', 'categorical_columns']\n",
    "sizes = [len(numerical_cols), len(categorical_cols)]\n",
    "explode = (0, 0.1)  # only \"explode\" the 2nd slice (i.e. 'Hogs')\n",
    "\n",
    "fig1, ax1 = plt.subplots()\n",
    "ax1.pie(sizes, explode=explode, labels=labels, autopct='%1.1f%%',\n",
    "        shadow=True, startangle=90)\n",
    "ax1.axis('equal')  \n",
    "\n",
    "plt.show()\n"
   ]
  },
  {
   "cell_type": "markdown",
   "metadata": {},
   "source": [
    "#### Explore data set in terms of missing/nan values "
   ]
  },
  {
   "cell_type": "code",
   "execution_count": 287,
   "metadata": {},
   "outputs": [
    {
     "name": "stdout",
     "output_type": "stream",
     "text": [
      "Data set has 0 missing values\n"
     ]
    }
   ],
   "source": [
    "# Explore data set in terms of missing/nan values \n",
    "nans = df.isnull().sum().sum()\n",
    "print(f'Data set has {nans} missing values')"
   ]
  },
  {
   "cell_type": "markdown",
   "metadata": {},
   "source": [
    "#### Explore data set in terms of values distribution (plot per each column)\n",
    "    - denote WARNING columns which has imbalanced distribution  "
   ]
  },
  {
   "cell_type": "code",
   "execution_count": 288,
   "metadata": {},
   "outputs": [
    {
     "data": {
      "image/png": "[encoded data removed]",
      "text/plain": [
       "<Figure size 432x288 with 1 Axes>"
      ]
     },
     "metadata": {},
     "output_type": "display_data"
    },
    {
     "name": "stdout",
     "output_type": "stream",
     "text": [
      "count     1000\n",
      "unique       4\n",
      "top        A14\n",
      "freq       394\n",
      "Name: account_status, dtype: object\n"
     ]
    },
    {
     "data": {
      "image/png": "[encoded data removed]",
      "text/plain": [
       "<Figure size 432x288 with 1 Axes>"
      ]
     },
     "metadata": {
      "needs_background": "light"
     },
     "output_type": "display_data"
    },
    {
     "data": {
      "image/png": "[encoded data removed]",
      "text/plain": [
       "<Figure size 432x288 with 1 Axes>"
      ]
     },
     "metadata": {},
     "output_type": "display_data"
    },
    {
     "name": "stdout",
     "output_type": "stream",
     "text": [
      "count     1000\n",
      "unique       5\n",
      "top        A32\n",
      "freq       530\n",
      "Name: credit_history, dtype: object\n"
     ]
    },
    {
     "data": {
      "image/png": "[encoded data removed]",
      "text/plain": [
       "<Figure size 432x288 with 1 Axes>"
      ]
     },
     "metadata": {},
     "output_type": "display_data"
    },
    {
     "name": "stdout",
     "output_type": "stream",
     "text": [
      "count     1000\n",
      "unique      10\n",
      "top        A43\n",
      "freq       280\n",
      "Name: credit_purpose, dtype: object\n"
     ]
    },
    {
     "data": {
      "image/png": "[encoded data removed]",
      "text/plain": [
       "<Figure size 432x288 with 1 Axes>"
      ]
     },
     "metadata": {
      "needs_background": "light"
     },
     "output_type": "display_data"
    },
    {
     "data": {
      "image/png": "[encoded data removed]",
      "text/plain": [
       "<Figure size 432x288 with 1 Axes>"
      ]
     },
     "metadata": {},
     "output_type": "display_data"
    },
    {
     "name": "stdout",
     "output_type": "stream",
     "text": [
      "count     1000\n",
      "unique       5\n",
      "top        A61\n",
      "freq       603\n",
      "Name: account_savings, dtype: object\n"
     ]
    },
    {
     "data": {
      "image/png": "[encoded data removed]",
      "text/plain": [
       "<Figure size 432x288 with 1 Axes>"
      ]
     },
     "metadata": {},
     "output_type": "display_data"
    },
    {
     "name": "stdout",
     "output_type": "stream",
     "text": [
      "count     1000\n",
      "unique       5\n",
      "top        A73\n",
      "freq       339\n",
      "Name: employment_status, dtype: object\n"
     ]
    },
    {
     "data": {
      "image/png": "[encoded data removed]",
      "text/plain": [
       "<Figure size 432x288 with 1 Axes>"
      ]
     },
     "metadata": {},
     "output_type": "display_data"
    },
    {
     "name": "stdout",
     "output_type": "stream",
     "text": [
      "count    1000.000000\n",
      "mean        2.973000\n",
      "std         1.118715\n",
      "min         1.000000\n",
      "25%         2.000000\n",
      "50%         3.000000\n",
      "75%         4.000000\n",
      "max         4.000000\n",
      "Name: income_installment_rate, dtype: float64\n"
     ]
    },
    {
     "data": {
      "image/png": "[encoded data removed]",
      "text/plain": [
       "<Figure size 432x288 with 1 Axes>"
      ]
     },
     "metadata": {},
     "output_type": "display_data"
    },
    {
     "name": "stdout",
     "output_type": "stream",
     "text": [
      "count     1000\n",
      "unique       4\n",
      "top        A93\n",
      "freq       548\n",
      "Name: gender_status, dtype: object\n"
     ]
    },
    {
     "data": {
      "image/png": "[encoded data removed]",
      "text/plain": [
       "<Figure size 432x288 with 1 Axes>"
      ]
     },
     "metadata": {},
     "output_type": "display_data"
    },
    {
     "name": "stdout",
     "output_type": "stream",
     "text": [
      "count     1000\n",
      "unique       3\n",
      "top       A101\n",
      "freq       907\n",
      "Name: credit_guarantors, dtype: object\n"
     ]
    },
    {
     "data": {
      "image/png": "[encoded data removed]",
      "text/plain": [
       "<Figure size 432x288 with 1 Axes>"
      ]
     },
     "metadata": {},
     "output_type": "display_data"
    },
    {
     "name": "stdout",
     "output_type": "stream",
     "text": [
      "count    1000.000000\n",
      "mean        2.845000\n",
      "std         1.103718\n",
      "min         1.000000\n",
      "25%         2.000000\n",
      "50%         3.000000\n",
      "75%         4.000000\n",
      "max         4.000000\n",
      "Name: residence, dtype: float64\n"
     ]
    },
    {
     "data": {
      "image/png": "[encoded data removed]",
      "text/plain": [
       "<Figure size 432x288 with 1 Axes>"
      ]
     },
     "metadata": {},
     "output_type": "display_data"
    },
    {
     "name": "stdout",
     "output_type": "stream",
     "text": [
      "count     1000\n",
      "unique       4\n",
      "top       A123\n",
      "freq       332\n",
      "Name: owned_property, dtype: object\n"
     ]
    },
    {
     "data": {
      "image/png": "[encoded data removed]",
      "text/plain": [
       "<Figure size 432x288 with 1 Axes>"
      ]
     },
     "metadata": {},
     "output_type": "display_data"
    },
    {
     "name": "stdout",
     "output_type": "stream",
     "text": [
      "count    1000.000000\n",
      "mean       35.546000\n",
      "std        11.375469\n",
      "min        19.000000\n",
      "25%        27.000000\n",
      "50%        33.000000\n",
      "75%        42.000000\n",
      "max        75.000000\n",
      "Name: age, dtype: float64\n"
     ]
    },
    {
     "data": {
      "image/png": "[encoded data removed]",
      "text/plain": [
       "<Figure size 432x288 with 1 Axes>"
      ]
     },
     "metadata": {},
     "output_type": "display_data"
    },
    {
     "name": "stdout",
     "output_type": "stream",
     "text": [
      "count     1000\n",
      "unique       3\n",
      "top       A143\n",
      "freq       814\n",
      "Name: installment_plans, dtype: object\n"
     ]
    },
    {
     "data": {
      "image/png": "[encoded data removed]",
      "text/plain": [
       "<Figure size 432x288 with 1 Axes>"
      ]
     },
     "metadata": {},
     "output_type": "display_data"
    },
    {
     "name": "stdout",
     "output_type": "stream",
     "text": [
      "count     1000\n",
      "unique       3\n",
      "top       A152\n",
      "freq       713\n",
      "Name: accomondation_type, dtype: object\n"
     ]
    },
    {
     "data": {
      "image/png": "[encoded data removed]",
      "text/plain": [
       "<Figure size 432x288 with 1 Axes>"
      ]
     },
     "metadata": {},
     "output_type": "display_data"
    },
    {
     "name": "stdout",
     "output_type": "stream",
     "text": [
      "count    1000.000000\n",
      "mean        1.407000\n",
      "std         0.577654\n",
      "min         1.000000\n",
      "25%         1.000000\n",
      "50%         1.000000\n",
      "75%         2.000000\n",
      "max         4.000000\n",
      "Name: credit_existing_number, dtype: float64\n"
     ]
    },
    {
     "data": {
      "image/png": "[encoded data removed]",
      "text/plain": [
       "<Figure size 432x288 with 1 Axes>"
      ]
     },
     "metadata": {},
     "output_type": "display_data"
    },
    {
     "name": "stdout",
     "output_type": "stream",
     "text": [
      "count     1000\n",
      "unique       4\n",
      "top       A173\n",
      "freq       630\n",
      "Name: employment_description, dtype: object\n"
     ]
    },
    {
     "data": {
      "image/png": "[encoded data removed]",
      "text/plain": [
       "<Figure size 432x288 with 1 Axes>"
      ]
     },
     "metadata": {},
     "output_type": "display_data"
    },
    {
     "name": "stdout",
     "output_type": "stream",
     "text": [
      "count    1000.000000\n",
      "mean        1.155000\n",
      "std         0.362086\n",
      "min         1.000000\n",
      "25%         1.000000\n",
      "50%         1.000000\n",
      "75%         1.000000\n",
      "max         2.000000\n",
      "Name: liable_maintain, dtype: float64\n"
     ]
    },
    {
     "data": {
      "image/png": "[encoded data removed]",
      "text/plain": [
       "<Figure size 432x288 with 1 Axes>"
      ]
     },
     "metadata": {},
     "output_type": "display_data"
    },
    {
     "name": "stdout",
     "output_type": "stream",
     "text": [
      "count     1000\n",
      "unique       2\n",
      "top       A191\n",
      "freq       596\n",
      "Name: phone_number, dtype: object\n"
     ]
    },
    {
     "data": {
      "image/png": "[encoded data removed]",
      "text/plain": [
       "<Figure size 432x288 with 1 Axes>"
      ]
     },
     "metadata": {},
     "output_type": "display_data"
    },
    {
     "name": "stdout",
     "output_type": "stream",
     "text": [
      "count     1000\n",
      "unique       2\n",
      "top       A201\n",
      "freq       963\n",
      "Name: foreign_worker, dtype: object\n"
     ]
    },
    {
     "data": {
      "image/png": "[encoded data removed]",
      "text/plain": [
       "<Figure size 432x288 with 1 Axes>"
      ]
     },
     "metadata": {},
     "output_type": "display_data"
    },
    {
     "name": "stdout",
     "output_type": "stream",
     "text": [
      "count    1000.000000\n",
      "mean        1.300000\n",
      "std         0.458487\n",
      "min         1.000000\n",
      "25%         1.000000\n",
      "50%         1.000000\n",
      "75%         2.000000\n",
      "max         2.000000\n",
      "Name: y, dtype: float64\n"
     ]
    }
   ],
   "source": [
    "# Explore data set in terms of values distribution (plot per each column)\n",
    "#    - denote WARNING columns which has imbalanced distribution  \n",
    "    \n",
    "for column in df.columns:    \n",
    "    ### Explore data set in terms of values distribution (plot per each column)\n",
    "    \n",
    "    # exceptional cases, for them pie chart is uninformative  \n",
    "    if column == 'credit_amount':\n",
    "        plt.xlabel('amount of credit')\n",
    "        plt.ylabel('number of customers')\n",
    "        plt.title(column)\n",
    "        plt.hist(df[column], bins=50, alpha=0.6, color='g')\n",
    "        continue\n",
    "        \n",
    "    elif column == 'credit_duration':\n",
    "        plt.xlabel('amount of months')\n",
    "        plt.ylabel('number of customers')\n",
    "        plt.title(column)\n",
    "        plt.hist(df[column], bins=50, alpha=0.6, color='g')\n",
    "        continue\n",
    "    \n",
    "    # other cases for pie chart     \n",
    "    labels = [] # values in column\n",
    "    sizes = [] # amount of value's entries   \n",
    "    column_stats = list(df[column].value_counts().items()) # initially zip; e.g.: [('A14', 394), ('A11', 274), ('A12', 269), ('A13', 63)]\n",
    "    \n",
    "    for pair in column_stats:\n",
    "        labels.append(str(pair[0])) # str because label\n",
    "        sizes.append(pair[1]) # amount of values of corresponding  label \n",
    "        \n",
    "    explode = (0, 0.1)\n",
    "    fig1, ax1 = plt.subplots()\n",
    "    ax1.pie(sizes, labels=labels, autopct='%1.1f%%',\n",
    "            shadow=True, startangle=90)\n",
    "    ax1.axis('equal')  \n",
    "    plt.title(column)\n",
    "    \n",
    "    plt.show()\n",
    "    \n",
    "    ### denote WARNING columns which has imbalanced distribution\n",
    "    # The freq is the most common value’s frequency\n",
    "    counts = df[column].describe()\n",
    "    print(counts)\n",
    "\n",
    "    "
   ]
  },
  {
   "cell_type": "code",
   "execution_count": 289,
   "metadata": {},
   "outputs": [],
   "source": [
    "# Conclusion: \n",
    "# - data set has no misssing values \n",
    "# - data set has more categorical (13) rather than numerical (8) columns \n",
    "# - data set statistics per each column can be found via pie charts + histograms  "
   ]
  },
  {
   "cell_type": "markdown",
   "metadata": {},
   "source": [
    "## Customers statistical insights\n",
    "    - Gender based analysis\n",
    "    - Highest Loans amount filtered by age\n",
    "       --> looking for which loan {duration, amount} is mostly frequent per each age group \n",
    "    \n",
    "    - Which purposes of credit are more frequent?\n",
    "        \n",
    "    - How often people with already existed credits make repeted loans?  "
   ]
  },
  {
   "cell_type": "markdown",
   "metadata": {},
   "source": [
    "#### Gender and Age based analysis\n",
    "    - What is the average age for male versus female?\n",
    "    - What is the average loan duration for male versus female?\n",
    "    - Max vs Min loans per gender\n",
    "    - Which gender is more suiatable client (based on target)\n",
    "    "
   ]
  },
  {
   "cell_type": "code",
   "execution_count": 290,
   "metadata": {},
   "outputs": [
    {
     "name": "stdout",
     "output_type": "stream",
     "text": [
      "Average age for Male vs Female customers\n",
      "Male: 36.778260869565216\n",
      "Female: 32.803225806451614\n",
      "Good amount of Male customers vs Good amount of Female customers\n",
      "499 vs 201\n",
      "Bad amount of Male customers vs Bad amount of Female customers\n",
      "191 vs 109\n"
     ]
    },
    {
     "data": {
      "image/png": "[encoded data removed]",
      "text/plain": [
       "<Figure size 432x288 with 1 Axes>"
      ]
     },
     "metadata": {
      "needs_background": "light"
     },
     "output_type": "display_data"
    },
    {
     "name": "stdout",
     "output_type": "stream",
     "text": [
      "Male customers 690\n",
      "Female customers 310\n"
     ]
    },
    {
     "data": {
      "image/png": "[encoded data removed]",
      "text/plain": [
       "<Figure size 432x288 with 1 Axes>"
      ]
     },
     "metadata": {
      "needs_background": "light"
     },
     "output_type": "display_data"
    },
    {
     "data": {
      "image/png": "[encoded data removed]",
      "text/plain": [
       "<Figure size 432x288 with 1 Axes>"
      ]
     },
     "metadata": {
      "needs_background": "light"
     },
     "output_type": "display_data"
    },
    {
     "data": {
      "image/png": "[encoded data removed]",
      "text/plain": [
       "<Figure size 432x288 with 1 Axes>"
      ]
     },
     "metadata": {
      "needs_background": "light"
     },
     "output_type": "display_data"
    },
    {
     "name": "stdout",
     "output_type": "stream",
     "text": [
      "Average credit duration in terms of age\n"
     ]
    },
    {
     "data": {
      "image/png": "[encoded data removed]",
      "text/plain": [
       "<Figure size 432x288 with 1 Axes>"
      ]
     },
     "metadata": {
      "needs_background": "light"
     },
     "output_type": "display_data"
    }
   ],
   "source": [
    "# add to dataframe dedicated genders by decoding \"gender_status\" column based on data description\n",
    "\"\"\"\n",
    "A91: male - divorced/separated\n",
    "A92: female - divorced/separated/married\n",
    "A93: male - single\n",
    "A94: male - married/widowed\n",
    "A95: female - single\n",
    "\"\"\"\n",
    "\n",
    "genders_dict = {'A91': 'male', 'A93': 'male', 'A94': 'male',\n",
    "                'A92': 'female', 'A95': 'female'}\n",
    "\n",
    "genders = df['gender_status'].map(genders_dict)\n",
    "df['gender'] = genders\n",
    "\n",
    "\n",
    "print('Average age for Male vs Female customers')\n",
    "print(f\"Male: {df[['age', 'gender']].groupby('gender').mean()['age'].male}\")\n",
    "print(f\"Female: {df[['age', 'gender']].groupby('gender').mean()['age'].female}\")\n",
    "\n",
    "# Good Male vs Good Female customers\n",
    "good_male = df[(df['gender'] == 'male') & (df['y'] == 1)]['y'].count()\n",
    "bad_male = df[(df['gender'] == 'male') & (df['y'] == 2)]['y'].count()\n",
    "\n",
    "good_female = df[(df['gender'] == 'female') & (df['y'] == 1)]['y'].count()\n",
    "bad_female = df[(df['gender'] == 'female') & (df['y'] == 2)]['y'].count()\n",
    "print('Good amount of Male customers vs Good amount of Female customers')\n",
    "print(f'{good_male} vs {good_female}')\n",
    "\n",
    "print('Bad amount of Male customers vs Bad amount of Female customers')\n",
    "print(f'{bad_male} vs {bad_female}')\n",
    "\n",
    "plt.title('Amount of male vs female customers')\n",
    "df['gender'].hist();\n",
    "plt.show()\n",
    "print(f'Male customers {df[df[\"gender\"] == \"male\"][\"gender\"].count()}');\n",
    "print(f'Female customers {df[df[\"gender\"] == \"female\"][\"gender\"].count()}');\n",
    "\n",
    "plt.title('Mean amount of loans splited by gender')\n",
    "df.groupby('gender')['credit_amount'].mean().sort_values().plot(kind='barh');\n",
    "plt.show()\n",
    "\n",
    "plt.title('Max amount of loans splited by gender')\n",
    "df.groupby('gender')['credit_amount'].max().sort_values().plot(kind='barh');\n",
    "plt.show()\n",
    "\n",
    "plt.title('Min amount of loans splited by gender')\n",
    "df.groupby('gender')['credit_amount'].min().sort_values().plot(kind='barh');\n",
    "plt.show()\n",
    "\n",
    "print('Average credit duration in terms of age')\n",
    "df[['age', 'gender', 'credit_duration']].groupby('credit_duration').mean().plot();\n",
    "\n",
    "# Consclusion\n",
    "# - The amount of male customers (690) exceeds female customers (310)\n",
    "# - Average age for Male (37 years) exceeds Female (33 years) in average of 4 years\n",
    "\n",
    "# - Male GOOD customers (499) exceeds GOOD Female customers (201) \n",
    "# - Male BAD customers (191) as well exceeds BAD Female customers (109)\n",
    "\n",
    "# BUT\n",
    "# - In average male GOOD customers exceeds GOOD female in ~2.5 times when BAD male exceeds BAD female in ~1.1\n",
    "\n",
    "# - In average male's amount of loan is more than female and equal ~3500\n",
    "# - In average female's amount of loan is less than male and ~2700\n",
    "# BUT\n",
    "# - Average MAXIMUM female loan amount exceeds MAXIMUM male loan amount\n",
    "# AND\n",
    "# - Average MINIMUN male loan amount exceeds MINIMUM female loan amount \n",
    "# - In average elder people have shorter credit duration rather than younger people"
   ]
  },
  {
   "cell_type": "markdown",
   "metadata": {},
   "source": [
    "### Higest Loans amount filtered by age\n",
    "   - Min vs Max loans per each period --> looking for which loan {duration, amount} is mostly frequent per each age group "
   ]
  },
  {
   "cell_type": "code",
   "execution_count": 293,
   "metadata": {},
   "outputs": [
    {
     "data": {
      "application/vnd.plotly.v1+json": {
       "config": {
        "plotlyServerURL": "https://plot.ly"
       },
       "data": [
        {
         "customdata": [
          [
           6
          ],
          [
           48
          ],
          [
           12
          ],
          [
           42
          ],
          [
           24
          ],
          [
           36
          ],
          [
           24
          ],
          [
           36
          ],
          [
           12
          ],
          [
           30
          ],
          [
           12
          ],
          [
           48
          ],
          [
           12
          ],
          [
           24
          ],
          [
           15
          ],
          [
           24
          ],
          [
           24
          ],
          [
           30
          ],
          [
           24
          ],
          [
           24
          ],
          [
           9
          ],
          [
           6
          ],
          [
           10
          ],
          [
           12
          ],
          [
           10
          ],
          [
           6
          ],
          [
           6
          ],
          [
           12
          ],
          [
           7
          ],
          [
           60
          ],
          [
           18
          ],
          [
           24
          ],
          [
           18
          ],
          [
           12
          ],
          [
           12
          ],
          [
           45
          ],
          [
           48
          ],
          [
           18
          ],
          [
           10
          ],
          [
           9
          ],
          [
           30
          ],
          [
           12
          ],
          [
           18
          ],
          [
           30
          ],
          [
           48
          ],
          [
           11
          ],
          [
           36
          ],
          [
           6
          ],
          [
           11
          ],
          [
           12
          ],
          [
           24
          ],
          [
           27
          ],
          [
           12
          ],
          [
           18
          ],
          [
           36
          ],
          [
           6
          ],
          [
           12
          ],
          [
           36
          ],
          [
           18
          ],
          [
           36
          ],
          [
           9
          ],
          [
           15
          ],
          [
           36
          ],
          [
           48
          ],
          [
           24
          ],
          [
           27
          ],
          [
           12
          ],
          [
           12
          ],
          [
           36
          ],
          [
           36
          ],
          [
           36
          ],
          [
           7
          ],
          [
           8
          ],
          [
           42
          ],
          [
           36
          ],
          [
           12
          ],
          [
           42
          ],
          [
           11
          ],
          [
           54
          ],
          [
           30
          ],
          [
           24
          ],
          [
           15
          ],
          [
           18
          ],
          [
           24
          ],
          [
           10
          ],
          [
           12
          ],
          [
           18
          ],
          [
           36
          ],
          [
           18
          ],
          [
           12
          ],
          [
           12
          ],
          [
           12
          ],
          [
           12
          ],
          [
           24
          ],
          [
           12
          ],
          [
           54
          ],
          [
           12
          ],
          [
           18
          ],
          [
           36
          ],
          [
           20
          ],
          [
           24
          ],
          [
           36
          ],
          [
           6
          ],
          [
           9
          ],
          [
           12
          ],
          [
           24
          ],
          [
           18
          ],
          [
           12
          ],
          [
           24
          ],
          [
           14
          ],
          [
           6
          ],
          [
           15
          ],
          [
           18
          ],
          [
           36
          ],
          [
           12
          ],
          [
           48
          ],
          [
           42
          ],
          [
           10
          ],
          [
           33
          ],
          [
           12
          ],
          [
           21
          ],
          [
           24
          ],
          [
           12
          ],
          [
           10
          ],
          [
           18
          ],
          [
           12
          ],
          [
           12
          ],
          [
           12
          ],
          [
           12
          ],
          [
           12
          ],
          [
           48
          ],
          [
           36
          ],
          [
           15
          ],
          [
           18
          ],
          [
           60
          ],
          [
           12
          ],
          [
           27
          ],
          [
           12
          ],
          [
           15
          ],
          [
           12
          ],
          [
           6
          ],
          [
           36
          ],
          [
           27
          ],
          [
           18
          ],
          [
           21
          ],
          [
           48
          ],
          [
           6
          ],
          [
           12
          ],
          [
           36
          ],
          [
           18
          ],
          [
           6
          ],
          [
           10
          ],
          [
           36
          ],
          [
           24
          ],
          [
           24
          ],
          [
           12
          ],
          [
           9
          ],
          [
           12
          ],
          [
           24
          ],
          [
           6
          ],
          [
           24
          ],
          [
           18
          ],
          [
           15
          ],
          [
           10
          ],
          [
           36
          ],
          [
           6
          ],
          [
           18
          ],
          [
           11
          ],
          [
           24
          ],
          [
           24
          ],
          [
           15
          ],
          [
           12
          ],
          [
           24
          ],
          [
           8
          ],
          [
           21
          ],
          [
           30
          ],
          [
           12
          ],
          [
           6
          ],
          [
           12
          ],
          [
           21
          ],
          [
           36
          ],
          [
           36
          ],
          [
           21
          ],
          [
           24
          ],
          [
           18
          ],
          [
           15
          ],
          [
           9
          ],
          [
           16
          ],
          [
           12
          ],
          [
           18
          ],
          [
           24
          ],
          [
           48
          ],
          [
           27
          ],
          [
           6
          ],
          [
           45
          ],
          [
           9
          ],
          [
           6
          ],
          [
           12
          ],
          [
           24
          ],
          [
           18
          ],
          [
           9
          ],
          [
           12
          ],
          [
           27
          ],
          [
           12
          ],
          [
           12
          ],
          [
           30
          ],
          [
           12
          ],
          [
           12
          ],
          [
           24
          ],
          [
           12
          ],
          [
           9
          ],
          [
           36
          ],
          [
           27
          ],
          [
           30
          ],
          [
           36
          ],
          [
           6
          ],
          [
           18
          ],
          [
           36
          ],
          [
           24
          ],
          [
           10
          ],
          [
           12
          ],
          [
           12
          ],
          [
           12
          ],
          [
           24
          ],
          [
           15
          ],
          [
           36
          ],
          [
           48
          ],
          [
           12
          ],
          [
           9
          ],
          [
           24
          ],
          [
           36
          ],
          [
           9
          ],
          [
           12
          ],
          [
           18
          ],
          [
           4
          ],
          [
           24
          ],
          [
           6
          ],
          [
           21
          ],
          [
           12
          ],
          [
           30
          ],
          [
           24
          ],
          [
           6
          ],
          [
           48
          ],
          [
           12
          ],
          [
           12
          ],
          [
           24
          ],
          [
           12
          ],
          [
           6
          ],
          [
           24
          ],
          [
           18
          ],
          [
           6
          ],
          [
           12
          ],
          [
           30
          ],
          [
           24
          ],
          [
           9
          ],
          [
           60
          ],
          [
           24
          ],
          [
           12
          ],
          [
           15
          ],
          [
           11
          ],
          [
           12
          ],
          [
           24
          ],
          [
           18
          ],
          [
           12
          ],
          [
           10
          ],
          [
           15
          ],
          [
           36
          ],
          [
           24
          ],
          [
           14
          ],
          [
           24
          ],
          [
           18
          ],
          [
           12
          ],
          [
           48
          ],
          [
           48
          ],
          [
           30
          ],
          [
           9
          ],
          [
           18
          ],
          [
           12
          ],
          [
           6
          ],
          [
           24
          ],
          [
           15
          ],
          [
           12
          ],
          [
           18
          ],
          [
           15
          ],
          [
           24
          ],
          [
           47
          ],
          [
           48
          ],
          [
           48
          ],
          [
           12
          ],
          [
           24
          ],
          [
           12
          ],
          [
           36
          ],
          [
           24
          ],
          [
           42
          ],
          [
           48
          ],
          [
           48
          ],
          [
           12
          ],
          [
           10
          ],
          [
           18
          ],
          [
           21
          ],
          [
           6
          ],
          [
           36
          ],
          [
           24
          ],
          [
           10
          ],
          [
           48
          ],
          [
           6
          ],
          [
           30
          ],
          [
           12
          ],
          [
           8
          ],
          [
           9
          ],
          [
           48
          ],
          [
           24
          ],
          [
           24
          ],
          [
           12
          ],
          [
           4
          ],
          [
           36
          ],
          [
           12
          ],
          [
           24
          ],
          [
           12
          ],
          [
           15
          ],
          [
           30
          ],
          [
           24
          ],
          [
           24
          ],
          [
           18
          ],
          [
           18
          ],
          [
           8
          ],
          [
           12
          ],
          [
           24
          ],
          [
           36
          ],
          [
           6
          ],
          [
           24
          ],
          [
           18
          ],
          [
           60
          ],
          [
           48
          ],
          [
           24
          ],
          [
           6
          ],
          [
           13
          ],
          [
           15
          ],
          [
           24
          ],
          [
           10
          ],
          [
           24
          ],
          [
           21
          ],
          [
           18
          ],
          [
           18
          ],
          [
           10
          ],
          [
           15
          ],
          [
           13
          ],
          [
           24
          ],
          [
           6
          ],
          [
           9
          ],
          [
           9
          ],
          [
           9
          ],
          [
           18
          ],
          [
           12
          ],
          [
           10
          ],
          [
           24
          ],
          [
           12
          ],
          [
           36
          ],
          [
           12
          ],
          [
           30
          ],
          [
           18
          ],
          [
           12
          ],
          [
           12
          ],
          [
           6
          ],
          [
           18
          ],
          [
           12
          ],
          [
           18
          ],
          [
           18
          ],
          [
           36
          ],
          [
           18
          ],
          [
           36
          ],
          [
           18
          ],
          [
           10
          ],
          [
           60
          ],
          [
           60
          ],
          [
           48
          ],
          [
           18
          ],
          [
           7
          ],
          [
           36
          ],
          [
           6
          ],
          [
           20
          ],
          [
           18
          ],
          [
           22
          ],
          [
           12
          ],
          [
           30
          ],
          [
           18
          ],
          [
           18
          ],
          [
           18
          ],
          [
           15
          ],
          [
           9
          ],
          [
           18
          ],
          [
           12
          ],
          [
           36
          ],
          [
           6
          ],
          [
           9
          ],
          [
           39
          ],
          [
           12
          ],
          [
           36
          ],
          [
           12
          ],
          [
           24
          ],
          [
           18
          ],
          [
           18
          ],
          [
           24
          ],
          [
           14
          ],
          [
           18
          ],
          [
           24
          ],
          [
           24
          ],
          [
           15
          ],
          [
           24
          ],
          [
           12
          ],
          [
           24
          ],
          [
           33
          ],
          [
           12
          ],
          [
           10
          ],
          [
           24
          ],
          [
           36
          ],
          [
           12
          ],
          [
           18
          ],
          [
           21
          ],
          [
           18
          ],
          [
           15
          ],
          [
           12
          ],
          [
           12
          ],
          [
           21
          ],
          [
           12
          ],
          [
           18
          ],
          [
           28
          ],
          [
           18
          ],
          [
           9
          ],
          [
           18
          ],
          [
           5
          ],
          [
           24
          ],
          [
           6
          ],
          [
           24
          ],
          [
           9
          ],
          [
           12
          ],
          [
           6
          ],
          [
           24
          ],
          [
           42
          ],
          [
           12
          ],
          [
           12
          ],
          [
           12
          ],
          [
           20
          ],
          [
           12
          ],
          [
           48
          ],
          [
           9
          ],
          [
           36
          ],
          [
           7
          ],
          [
           12
          ],
          [
           15
          ],
          [
           36
          ],
          [
           6
          ],
          [
           12
          ],
          [
           24
          ],
          [
           24
          ],
          [
           24
          ],
          [
           11
          ],
          [
           12
          ],
          [
           6
          ],
          [
           18
          ],
          [
           36
          ],
          [
           15
          ],
          [
           12
          ],
          [
           12
          ],
          [
           18
          ],
          [
           24
          ],
          [
           24
          ],
          [
           48
          ],
          [
           33
          ],
          [
           24
          ],
          [
           24
          ],
          [
           6
          ],
          [
           9
          ],
          [
           6
          ],
          [
           18
          ],
          [
           18
          ],
          [
           39
          ],
          [
           24
          ],
          [
           12
          ],
          [
           15
          ],
          [
           12
          ],
          [
           24
          ],
          [
           30
          ],
          [
           15
          ],
          [
           12
          ],
          [
           6
          ],
          [
           12
          ],
          [
           24
          ],
          [
           10
          ],
          [
           6
          ],
          [
           12
          ],
          [
           27
          ],
          [
           6
          ],
          [
           6
          ],
          [
           12
          ],
          [
           24
          ],
          [
           36
          ],
          [
           24
          ],
          [
           18
          ],
          [
           6
          ],
          [
           24
          ],
          [
           36
          ],
          [
           9
          ],
          [
           24
          ],
          [
           24
          ],
          [
           10
          ],
          [
           15
          ],
          [
           15
          ],
          [
           24
          ],
          [
           39
          ],
          [
           12
          ],
          [
           36
          ],
          [
           15
          ],
          [
           12
          ],
          [
           24
          ],
          [
           6
          ],
          [
           6
          ],
          [
           36
          ],
          [
           6
          ],
          [
           6
          ],
          [
           24
          ],
          [
           18
          ],
          [
           48
          ],
          [
           24
          ],
          [
           18
          ],
          [
           26
          ],
          [
           15
          ],
          [
           4
          ],
          [
           36
          ],
          [
           6
          ],
          [
           36
          ],
          [
           15
          ],
          [
           12
          ],
          [
           24
          ],
          [
           24
          ],
          [
           21
          ],
          [
           6
          ],
          [
           18
          ],
          [
           48
          ],
          [
           18
          ],
          [
           12
          ],
          [
           24
          ],
          [
           30
          ],
          [
           18
          ],
          [
           12
          ],
          [
           24
          ],
          [
           24
          ],
          [
           24
          ],
          [
           12
          ],
          [
           48
          ],
          [
           12
          ],
          [
           6
          ],
          [
           48
          ],
          [
           12
          ],
          [
           9
          ],
          [
           12
          ],
          [
           18
          ],
          [
           21
          ],
          [
           24
          ],
          [
           18
          ],
          [
           24
          ],
          [
           24
          ],
          [
           6
          ],
          [
           36
          ],
          [
           24
          ],
          [
           24
          ],
          [
           12
          ],
          [
           24
          ],
          [
           48
          ],
          [
           48
          ],
          [
           24
          ],
          [
           30
          ],
          [
           24
          ],
          [
           15
          ],
          [
           9
          ],
          [
           15
          ],
          [
           12
          ],
          [
           24
          ],
          [
           36
          ],
          [
           24
          ],
          [
           18
          ],
          [
           12
          ],
          [
           9
          ],
          [
           36
          ],
          [
           12
          ],
          [
           18
          ],
          [
           9
          ],
          [
           12
          ],
          [
           18
          ],
          [
           12
          ],
          [
           12
          ],
          [
           24
          ],
          [
           21
          ],
          [
           24
          ],
          [
           24
          ],
          [
           6
          ],
          [
           24
          ],
          [
           24
          ],
          [
           18
          ],
          [
           24
          ],
          [
           7
          ],
          [
           9
          ],
          [
           24
          ],
          [
           36
          ],
          [
           10
          ],
          [
           24
          ],
          [
           24
          ],
          [
           36
          ],
          [
           18
          ],
          [
           15
          ],
          [
           12
          ],
          [
           10
          ],
          [
           21
          ],
          [
           24
          ],
          [
           18
          ],
          [
           48
          ],
          [
           60
          ],
          [
           6
          ],
          [
           30
          ],
          [
           12
          ],
          [
           21
          ],
          [
           18
          ],
          [
           48
          ],
          [
           12
          ],
          [
           18
          ],
          [
           15
          ],
          [
           6
          ],
          [
           9
          ],
          [
           42
          ],
          [
           9
          ],
          [
           24
          ],
          [
           18
          ],
          [
           15
          ],
          [
           9
          ],
          [
           24
          ],
          [
           12
          ],
          [
           24
          ],
          [
           60
          ],
          [
           12
          ],
          [
           42
          ],
          [
           18
          ],
          [
           15
          ],
          [
           15
          ],
          [
           24
          ],
          [
           18
          ],
          [
           36
          ],
          [
           30
          ],
          [
           12
          ],
          [
           24
          ],
          [
           12
          ],
          [
           48
          ],
          [
           12
          ],
          [
           24
          ],
          [
           36
          ],
          [
           24
          ],
          [
           14
          ],
          [
           12
          ],
          [
           48
          ],
          [
           30
          ],
          [
           18
          ],
          [
           12
          ],
          [
           12
          ],
          [
           21
          ],
          [
           6
          ],
          [
           6
          ],
          [
           24
          ],
          [
           30
          ],
          [
           48
          ],
          [
           12
          ],
          [
           30
          ],
          [
           24
          ],
          [
           36
          ],
          [
           60
          ],
          [
           6
          ],
          [
           21
          ],
          [
           30
          ],
          [
           24
          ],
          [
           72
          ],
          [
           24
          ],
          [
           18
          ],
          [
           6
          ],
          [
           12
          ],
          [
           15
          ],
          [
           24
          ],
          [
           36
          ],
          [
           60
          ],
          [
           10
          ],
          [
           36
          ],
          [
           9
          ],
          [
           12
          ],
          [
           15
          ],
          [
           15
          ],
          [
           24
          ],
          [
           6
          ],
          [
           24
          ],
          [
           6
          ],
          [
           12
          ],
          [
           12
          ],
          [
           18
          ],
          [
           15
          ],
          [
           12
          ],
          [
           48
          ],
          [
           24
          ],
          [
           30
          ],
          [
           27
          ],
          [
           15
          ],
          [
           48
          ],
          [
           12
          ],
          [
           9
          ],
          [
           9
          ],
          [
           18
          ],
          [
           6
          ],
          [
           21
          ],
          [
           9
          ],
          [
           60
          ],
          [
           30
          ],
          [
           30
          ],
          [
           18
          ],
          [
           24
          ],
          [
           20
          ],
          [
           9
          ],
          [
           6
          ],
          [
           12
          ],
          [
           9
          ],
          [
           27
          ],
          [
           6
          ],
          [
           15
          ],
          [
           18
          ],
          [
           48
          ],
          [
           24
          ],
          [
           24
          ],
          [
           24
          ],
          [
           8
          ],
          [
           24
          ],
          [
           4
          ],
          [
           36
          ],
          [
           24
          ],
          [
           18
          ],
          [
           6
          ],
          [
           30
          ],
          [
           24
          ],
          [
           10
          ],
          [
           21
          ],
          [
           24
          ],
          [
           39
          ],
          [
           13
          ],
          [
           15
          ],
          [
           12
          ],
          [
           21
          ],
          [
           15
          ],
          [
           6
          ],
          [
           18
          ],
          [
           12
          ],
          [
           30
          ],
          [
           12
          ],
          [
           24
          ],
          [
           6
          ],
          [
           15
          ],
          [
           24
          ],
          [
           12
          ],
          [
           15
          ],
          [
           18
          ],
          [
           12
          ],
          [
           21
          ],
          [
           24
          ],
          [
           12
          ],
          [
           30
          ],
          [
           10
          ],
          [
           12
          ],
          [
           12
          ],
          [
           24
          ],
          [
           36
          ],
          [
           21
          ],
          [
           24
          ],
          [
           12
          ],
          [
           24
          ],
          [
           36
          ],
          [
           18
          ],
          [
           36
          ],
          [
           18
          ],
          [
           39
          ],
          [
           24
          ],
          [
           12
          ],
          [
           12
          ],
          [
           20
          ],
          [
           18
          ],
          [
           22
          ],
          [
           48
          ],
          [
           48
          ],
          [
           40
          ],
          [
           21
          ],
          [
           24
          ],
          [
           6
          ],
          [
           24
          ],
          [
           24
          ],
          [
           9
          ],
          [
           18
          ],
          [
           12
          ],
          [
           24
          ],
          [
           9
          ],
          [
           24
          ],
          [
           18
          ],
          [
           20
          ],
          [
           12
          ],
          [
           12
          ],
          [
           36
          ],
          [
           6
          ],
          [
           12
          ],
          [
           42
          ],
          [
           15
          ],
          [
           8
          ],
          [
           6
          ],
          [
           36
          ],
          [
           48
          ],
          [
           48
          ],
          [
           36
          ],
          [
           6
          ],
          [
           6
          ],
          [
           36
          ],
          [
           18
          ],
          [
           12
          ],
          [
           12
          ],
          [
           36
          ],
          [
           8
          ],
          [
           18
          ],
          [
           21
          ],
          [
           18
          ],
          [
           18
          ],
          [
           36
          ],
          [
           48
          ],
          [
           24
          ],
          [
           18
          ],
          [
           45
          ],
          [
           24
          ],
          [
           15
          ],
          [
           12
          ],
          [
           12
          ],
          [
           4
          ],
          [
           24
          ],
          [
           24
          ],
          [
           36
          ],
          [
           21
          ],
          [
           18
          ],
          [
           24
          ],
          [
           18
          ],
          [
           21
          ],
          [
           18
          ],
          [
           24
          ],
          [
           9
          ],
          [
           12
          ],
          [
           20
          ],
          [
           24
          ],
          [
           15
          ],
          [
           18
          ],
          [
           36
          ],
          [
           24
          ],
          [
           10
          ],
          [
           15
          ],
          [
           15
          ],
          [
           9
          ],
          [
           24
          ],
          [
           18
          ],
          [
           24
          ],
          [
           27
          ],
          [
           10
          ],
          [
           15
          ],
          [
           18
          ],
          [
           12
          ],
          [
           36
          ],
          [
           12
          ],
          [
           36
          ],
          [
           6
          ],
          [
           24
          ],
          [
           15
          ],
          [
           12
          ],
          [
           11
          ],
          [
           18
          ],
          [
           36
          ],
          [
           9
          ],
          [
           30
          ],
          [
           24
          ],
          [
           24
          ],
          [
           30
          ],
          [
           18
          ],
          [
           24
          ],
          [
           12
          ],
          [
           24
          ],
          [
           48
          ],
          [
           36
          ],
          [
           28
          ],
          [
           27
          ],
          [
           15
          ],
          [
           12
          ],
          [
           36
          ],
          [
           18
          ],
          [
           36
          ],
          [
           21
          ],
          [
           12
          ],
          [
           15
          ],
          [
           18
          ],
          [
           16
          ],
          [
           20
          ],
          [
           36
          ],
          [
           15
          ],
          [
           24
          ],
          [
           12
          ],
          [
           21
          ],
          [
           36
          ],
          [
           15
          ],
          [
           9
          ],
          [
           36
          ],
          [
           24
          ],
          [
           30
          ],
          [
           11
          ],
          [
           24
          ],
          [
           48
          ],
          [
           10
          ],
          [
           6
          ],
          [
           24
          ],
          [
           24
          ],
          [
           18
          ],
          [
           48
          ],
          [
           9
          ],
          [
           12
          ],
          [
           24
          ],
          [
           12
          ],
          [
           18
          ],
          [
           48
          ],
          [
           30
          ],
          [
           12
          ],
          [
           24
          ],
          [
           9
          ],
          [
           9
          ],
          [
           12
          ],
          [
           12
          ],
          [
           30
          ],
          [
           9
          ],
          [
           6
          ],
          [
           60
          ],
          [
           24
          ],
          [
           12
          ],
          [
           10
          ],
          [
           24
          ],
          [
           4
          ],
          [
           15
          ],
          [
           48
          ],
          [
           24
          ],
          [
           12
          ],
          [
           18
          ],
          [
           24
          ],
          [
           18
          ],
          [
           36
          ],
          [
           24
          ],
          [
           36
          ],
          [
           12
          ],
          [
           24
          ],
          [
           30
          ],
          [
           9
          ],
          [
           28
          ],
          [
           24
          ],
          [
           6
          ],
          [
           21
          ],
          [
           15
          ],
          [
           24
          ],
          [
           6
          ],
          [
           30
          ],
          [
           27
          ],
          [
           15
          ],
          [
           42
          ],
          [
           11
          ],
          [
           15
          ],
          [
           24
          ],
          [
           24
          ],
          [
           60
          ],
          [
           30
          ],
          [
           24
          ],
          [
           6
          ],
          [
           18
          ],
          [
           24
          ],
          [
           15
          ],
          [
           30
          ],
          [
           48
          ],
          [
           21
          ],
          [
           36
          ],
          [
           24
          ],
          [
           15
          ],
          [
           42
          ],
          [
           13
          ],
          [
           24
          ],
          [
           24
          ],
          [
           12
          ],
          [
           15
          ],
          [
           18
          ],
          [
           36
          ],
          [
           12
          ],
          [
           12
          ],
          [
           30
          ],
          [
           12
          ],
          [
           45
          ],
          [
           45
          ]
         ],
         "hovertemplate": "credit_duration=%{customdata[0]}<br>credit_amount=%{marker.size}<br>age=%{marker.color}<extra></extra>",
         "legendgroup": "",
         "marker": {
          "color": [
           67,
           22,
           49,
           45,
           53,
           35,
           53,
           35,
           61,
           28,
           25,
           24,
           22,
           60,
           28,
           32,
           53,
           25,
           44,
           31,
           48,
           44,
           48,
           44,
           26,
           36,
           39,
           42,
           34,
           63,
           36,
           27,
           30,
           57,
           33,
           25,
           31,
           37,
           37,
           24,
           30,
           26,
           44,
           24,
           58,
           35,
           39,
           23,
           39,
           28,
           29,
           30,
           25,
           31,
           57,
           26,
           52,
           31,
           23,
           23,
           27,
           50,
           61,
           25,
           26,
           48,
           29,
           22,
           37,
           25,
           30,
           46,
           51,
           41,
           40,
           66,
           34,
           51,
           39,
           22,
           44,
           47,
           24,
           58,
           52,
           29,
           27,
           47,
           30,
           28,
           56,
           54,
           33,
           20,
           54,
           58,
           61,
           34,
           36,
           36,
           41,
           24,
           24,
           35,
           26,
           39,
           39,
           32,
           30,
           35,
           31,
           23,
           28,
           25,
           35,
           47,
           30,
           27,
           23,
           36,
           25,
           41,
           24,
           63,
           27,
           30,
           40,
           30,
           34,
           29,
           24,
           29,
           27,
           47,
           21,
           38,
           27,
           66,
           35,
           44,
           27,
           30,
           27,
           22,
           23,
           30,
           39,
           51,
           28,
           46,
           42,
           38,
           24,
           29,
           36,
           20,
           48,
           45,
           38,
           34,
           36,
           30,
           36,
           70,
           36,
           32,
           33,
           20,
           25,
           31,
           33,
           26,
           34,
           33,
           26,
           53,
           42,
           52,
           31,
           65,
           28,
           30,
           40,
           50,
           36,
           31,
           74,
           68,
           20,
           33,
           54,
           34,
           36,
           29,
           21,
           34,
           28,
           27,
           36,
           40,
           52,
           27,
           26,
           21,
           38,
           38,
           43,
           26,
           21,
           55,
           33,
           45,
           50,
           66,
           51,
           39,
           31,
           23,
           24,
           64,
           26,
           23,
           30,
           32,
           30,
           27,
           27,
           53,
           22,
           22,
           26,
           51,
           35,
           25,
           42,
           30,
           23,
           61,
           35,
           39,
           29,
           51,
           24,
           27,
           35,
           25,
           52,
           35,
           26,
           22,
           39,
           46,
           24,
           35,
           24,
           27,
           35,
           29,
           23,
           57,
           27,
           55,
           36,
           57,
           32,
           37,
           36,
           38,
           45,
           25,
           32,
           37,
           36,
           28,
           34,
           32,
           26,
           49,
           32,
           29,
           23,
           50,
           49,
           63,
           37,
           35,
           26,
           31,
           49,
           48,
           26,
           28,
           44,
           56,
           46,
           26,
           20,
           45,
           43,
           32,
           54,
           42,
           37,
           49,
           44,
           33,
           24,
           33,
           24,
           22,
           40,
           25,
           26,
           25,
           29,
           31,
           38,
           48,
           32,
           27,
           28,
           32,
           34,
           28,
           36,
           39,
           49,
           34,
           31,
           28,
           75,
           30,
           24,
           24,
           23,
           44,
           23,
           24,
           28,
           31,
           24,
           26,
           25,
           33,
           37,
           43,
           23,
           23,
           34,
           32,
           23,
           29,
           38,
           28,
           46,
           23,
           49,
           26,
           28,
           23,
           61,
           37,
           36,
           21,
           25,
           36,
           27,
           22,
           42,
           40,
           36,
           33,
           23,
           63,
           60,
           37,
           34,
           36,
           57,
           52,
           39,
           38,
           25,
           26,
           26,
           25,
           21,
           40,
           27,
           27,
           30,
           19,
           39,
           31,
           31,
           32,
           55,
           46,
           46,
           43,
           39,
           28,
           27,
           27,
           43,
           22,
           43,
           27,
           26,
           28,
           20,
           35,
           42,
           40,
           35,
           35,
           33,
           23,
           31,
           33,
           20,
           30,
           47,
           34,
           25,
           21,
           29,
           46,
           20,
           55,
           74,
           29,
           36,
           33,
           25,
           25,
           23,
           37,
           65,
           26,
           39,
           30,
           29,
           41,
           30,
           41,
           34,
           35,
           55,
           61,
           30,
           29,
           34,
           35,
           31,
           29,
           36,
           35,
           27,
           32,
           37,
           36,
           34,
           38,
           34,
           63,
           29,
           32,
           26,
           35,
           22,
           23,
           28,
           36,
           33,
           26,
           24,
           25,
           39,
           44,
           23,
           26,
           57,
           30,
           44,
           47,
           52,
           62,
           35,
           26,
           26,
           42,
           27,
           38,
           39,
           20,
           29,
           40,
           32,
           28,
           27,
           42,
           49,
           38,
           24,
           27,
           36,
           34,
           28,
           45,
           26,
           32,
           26,
           20,
           54,
           37,
           40,
           23,
           43,
           36,
           44,
           24,
           53,
           23,
           26,
           30,
           31,
           42,
           31,
           41,
           32,
           28,
           41,
           26,
           25,
           33,
           75,
           37,
           42,
           45,
           23,
           60,
           31,
           34,
           61,
           43,
           37,
           32,
           24,
           35,
           23,
           45,
           34,
           27,
           67,
           22,
           28,
           29,
           27,
           31,
           49,
           24,
           29,
           37,
           37,
           23,
           36,
           34,
           41,
           31,
           23,
           38,
           26,
           22,
           27,
           24,
           27,
           33,
           27,
           27,
           30,
           49,
           26,
           33,
           52,
           20,
           36,
           21,
           47,
           60,
           58,
           42,
           36,
           20,
           40,
           32,
           23,
           36,
           31,
           32,
           45,
           30,
           34,
           28,
           23,
           22,
           74,
           50,
           33,
           45,
           22,
           48,
           29,
           22,
           22,
           48,
           27,
           37,
           21,
           49,
           27,
           32,
           38,
           22,
           65,
           35,
           41,
           29,
           36,
           64,
           28,
           44,
           23,
           19,
           25,
           47,
           28,
           21,
           34,
           26,
           27,
           38,
           40,
           33,
           32,
           27,
           32,
           26,
           38,
           40,
           50,
           37,
           45,
           42,
           35,
           22,
           41,
           37,
           28,
           41,
           23,
           23,
           50,
           35,
           50,
           27,
           34,
           27,
           43,
           47,
           27,
           31,
           42,
           24,
           41,
           26,
           33,
           24,
           64,
           26,
           56,
           37,
           33,
           47,
           31,
           34,
           27,
           30,
           35,
           31,
           25,
           25,
           29,
           44,
           28,
           50,
           29,
           38,
           24,
           40,
           29,
           46,
           47,
           41,
           32,
           35,
           24,
           25,
           25,
           37,
           32,
           35,
           46,
           25,
           27,
           63,
           40,
           32,
           31,
           31,
           34,
           24,
           24,
           66,
           21,
           41,
           47,
           25,
           59,
           36,
           33,
           21,
           44,
           28,
           37,
           29,
           23,
           35,
           45,
           26,
           32,
           23,
           41,
           22,
           30,
           28,
           23,
           37,
           26,
           33,
           49,
           23,
           23,
           25,
           55,
           32,
           74,
           39,
           31,
           35,
           59,
           24,
           24,
           30,
           27,
           40,
           31,
           31,
           28,
           63,
           26,
           25,
           36,
           52,
           66,
           25,
           37,
           25,
           38,
           67,
           25,
           60,
           31,
           23,
           60,
           35,
           40,
           38,
           50,
           27,
           39,
           41,
           27,
           51,
           32,
           22,
           51,
           22,
           54,
           35,
           54,
           48,
           24,
           35,
           24,
           24,
           26,
           65,
           55,
           26,
           26,
           28,
           24,
           54,
           46,
           54,
           62,
           24,
           43,
           26,
           27,
           24,
           41,
           47,
           35,
           30,
           33,
           36,
           47,
           38,
           44,
           23,
           29,
           42,
           25,
           48,
           21,
           23,
           63,
           46,
           29,
           28,
           23,
           50,
           47,
           35,
           68,
           28,
           59,
           57,
           33,
           43,
           35,
           32,
           45,
           33,
           40,
           28,
           29,
           26,
           27,
           28,
           35,
           32,
           25,
           20,
           27,
           42,
           37,
           24,
           40,
           46,
           26,
           24,
           29,
           40,
           36,
           28,
           27,
           36,
           38,
           48,
           36,
           65,
           43,
           53,
           34,
           23,
           34,
           40,
           43,
           46,
           38,
           34,
           29,
           31,
           28,
           35,
           33,
           42,
           43,
           44,
           42,
           40,
           36,
           20,
           24,
           27,
           46,
           33,
           34,
           25,
           25,
           28,
           31,
           32,
           32,
           68,
           33,
           39,
           28,
           37,
           22,
           30,
           55,
           46,
           21,
           39,
           58,
           43,
           24,
           22,
           30,
           42,
           23,
           30,
           28,
           30,
           42,
           46,
           45,
           31,
           31,
           42,
           46,
           30,
           30,
           38,
           43,
           31,
           40,
           24,
           28,
           26,
           29,
           57,
           49,
           37,
           45,
           30,
           30,
           47,
           29,
           35,
           22,
           26,
           23,
           54,
           29,
           40,
           22,
           43,
           29,
           36,
           33,
           57,
           64,
           42,
           47,
           25,
           49,
           33,
           28,
           26,
           30,
           25,
           33,
           64,
           29,
           48,
           37,
           34,
           23,
           30,
           50,
           31,
           40,
           38,
           23,
           27
          ],
          "coloraxis": "coloraxis",
          "size": [
           1169,
           5951,
           2096,
           7882,
           4870,
           9055,
           2835,
           6948,
           3059,
           5234,
           1295,
           4308,
           1567,
           1199,
           1403,
           1282,
           2424,
           8072,
           12579,
           3430,
           2134,
           2647,
           2241,
           1804,
           2069,
           1374,
           426,
           409,
           2415,
           6836,
           1913,
           4020,
           5866,
           1264,
           1474,
           4746,
           6110,
           2100,
           1225,
           458,
           2333,
           1158,
           6204,
           6187,
           6143,
           1393,
           2299,
           1352,
           7228,
           2073,
           2333,
           5965,
           1262,
           3378,
           2225,
           783,
           6468,
           9566,
           1961,
           6229,
           1391,
           1537,
           1953,
           14421,
           3181,
           5190,
           2171,
           1007,
           1819,
           2394,
           8133,
           730,
           1164,
           5954,
           1977,
           1526,
           3965,
           4771,
           9436,
           3832,
           5943,
           1213,
           1568,
           1755,
           2315,
           1412,
           1295,
           12612,
           2249,
           1108,
           618,
           1409,
           797,
           3617,
           1318,
           15945,
           2012,
           2622,
           2337,
           7057,
           1469,
           2323,
           932,
           1919,
           2445,
           11938,
           6458,
           6078,
           7721,
           1410,
           1449,
           392,
           6260,
           7855,
           1680,
           3578,
           7174,
           2132,
           4281,
           2366,
           1835,
           3868,
           1768,
           781,
           1924,
           2121,
           701,
           639,
           1860,
           3499,
           8487,
           6887,
           2708,
           1984,
           10144,
           1240,
           8613,
           766,
           2728,
           1881,
           709,
           4795,
           3416,
           2462,
           2288,
           3566,
           860,
           682,
           5371,
           1582,
           1346,
           1924,
           5848,
           7758,
           6967,
           1282,
           1288,
           339,
           3512,
           1898,
           2872,
           1055,
           1262,
           7308,
           909,
           2978,
           1131,
           1577,
           3972,
           1935,
           950,
           763,
           2064,
           1414,
           3414,
           7485,
           2577,
           338,
           1963,
           571,
           9572,
           4455,
           1647,
           3777,
           884,
           1360,
           5129,
           1175,
           674,
           3244,
           4591,
           3844,
           3915,
           2108,
           3031,
           1501,
           1382,
           951,
           2760,
           4297,
           936,
           1168,
           5117,
           902,
           1495,
           10623,
           1935,
           1424,
           6568,
           1413,
           3074,
           3835,
           5293,
           1908,
           3342,
           932,
           3104,
           3913,
           3021,
           1364,
           625,
           1200,
           707,
           2978,
           4657,
           2613,
           10961,
           7865,
           1478,
           3149,
           4210,
           2507,
           2141,
           866,
           1544,
           1823,
           14555,
           2767,
           1291,
           2522,
           915,
           1595,
           4605,
           1185,
           3447,
           1258,
           717,
           1204,
           1925,
           433,
           666,
           2251,
           2150,
           4151,
           2030,
           7418,
           2684,
           2149,
           3812,
           1154,
           1657,
           1603,
           5302,
           2748,
           1231,
           802,
           6304,
           1533,
           8978,
           999,
           2662,
           1402,
           12169,
           3060,
           11998,
           2697,
           2404,
           1262,
           4611,
           1901,
           3368,
           1574,
           1445,
           1520,
           3878,
           10722,
           4788,
           7582,
           1092,
           1024,
           1076,
           9398,
           6419,
           4796,
           7629,
           9960,
           4675,
           1287,
           2515,
           2745,
           672,
           3804,
           1344,
           1038,
           10127,
           1543,
           4811,
           727,
           1237,
           276,
           5381,
           5511,
           3749,
           685,
           1494,
           2746,
           708,
           4351,
           701,
           3643,
           4249,
           1938,
           2910,
           2659,
           1028,
           3398,
           5801,
           1525,
           4473,
           1068,
           6615,
           1864,
           7408,
           11590,
           4110,
           3384,
           2101,
           1275,
           4169,
           1521,
           5743,
           3599,
           3213,
           4439,
           3949,
           1459,
           882,
           3758,
           1743,
           1136,
           1236,
           959,
           3229,
           6199,
           727,
           1246,
           2331,
           4463,
           776,
           2406,
           1239,
           3399,
           2247,
           1766,
           2473,
           1542,
           3850,
           3650,
           3446,
           3001,
           3079,
           6070,
           2146,
           13756,
           14782,
           7685,
           2320,
           846,
           14318,
           362,
           2212,
           12976,
           1283,
           1330,
           4272,
           2238,
           1126,
           7374,
           2326,
           1449,
           1820,
           983,
           3249,
           1957,
           2406,
           11760,
           2578,
           2348,
           1223,
           1516,
           1473,
           1887,
           8648,
           802,
           2899,
           2039,
           2197,
           1053,
           3235,
           939,
           1967,
           7253,
           2292,
           1597,
           1381,
           5842,
           2579,
           8471,
           2782,
           1042,
           3186,
           2028,
           958,
           1591,
           2762,
           2779,
           2743,
           1149,
           1313,
           1190,
           3448,
           11328,
           1872,
           2058,
           2136,
           1484,
           660,
           1287,
           3394,
           609,
           1884,
           1620,
           2629,
           719,
           5096,
           1244,
           1842,
           2576,
           1424,
           1512,
           11054,
           518,
           2759,
           2670,
           4817,
           2679,
           3905,
           3386,
           343,
           4594,
           3620,
           1721,
           3017,
           754,
           1950,
           2924,
           1659,
           7238,
           2764,
           4679,
           3092,
           448,
           654,
           1238,
           1245,
           3114,
           2569,
           5152,
           1037,
           1478,
           3573,
           1201,
           3622,
           960,
           1163,
           1209,
           3077,
           3757,
           1418,
           3518,
           1934,
           8318,
           1237,
           368,
           2122,
           2996,
           9034,
           1585,
           1301,
           1323,
           3123,
           5493,
           1126,
           1216,
           1207,
           1309,
           2360,
           6850,
           1413,
           8588,
           759,
           4686,
           2687,
           585,
           2255,
           609,
           1361,
           7127,
           1203,
           700,
           5507,
           3190,
           7119,
           3488,
           1113,
           7966,
           1532,
           1503,
           2302,
           662,
           2273,
           2631,
           1503,
           1311,
           3105,
           2319,
           1374,
           3612,
           7763,
           3049,
           1534,
           2032,
           6350,
           2864,
           1255,
           1333,
           2022,
           1552,
           626,
           8858,
           996,
           1750,
           6999,
           1995,
           1199,
           1331,
           2278,
           5003,
           3552,
           1928,
           2964,
           1546,
           683,
           12389,
           4712,
           1553,
           1372,
           2578,
           3979,
           6758,
           3234,
           5954,
           5433,
           806,
           1082,
           2788,
           2930,
           1927,
           2820,
           937,
           1056,
           3124,
           1388,
           2384,
           2133,
           2039,
           2799,
           1289,
           1217,
           2246,
           385,
           1965,
           1572,
           2718,
           1358,
           931,
           1442,
           4241,
           2775,
           3863,
           2329,
           918,
           1837,
           3349,
           1275,
           2828,
           4526,
           2671,
           2051,
           1300,
           741,
           1240,
           3357,
           3632,
           1808,
           12204,
           9157,
           3676,
           3441,
           640,
           3652,
           1530,
           3914,
           1858,
           2600,
           1979,
           2116,
           1437,
           4042,
           3832,
           3660,
           1553,
           1444,
           1980,
           1355,
           1393,
           1376,
           15653,
           1493,
           4370,
           750,
           1308,
           4623,
           1851,
           1880,
           7980,
           4583,
           1386,
           947,
           684,
           7476,
           1922,
           2303,
           8086,
           2346,
           3973,
           888,
           10222,
           4221,
           6361,
           1297,
           900,
           2241,
           1050,
           1047,
           6314,
           3496,
           3609,
           4843,
           3017,
           4139,
           5742,
           10366,
           2080,
           2580,
           4530,
           5150,
           5595,
           2384,
           1453,
           1538,
           2279,
           1478,
           5103,
           9857,
           6527,
           1347,
           2862,
           2753,
           3651,
           975,
           2631,
           2896,
           4716,
           2284,
           1236,
           1103,
           926,
           1800,
           1905,
           1123,
           6331,
           1377,
           2503,
           2528,
           5324,
           6560,
           2969,
           1206,
           2118,
           629,
           1198,
           2476,
           1138,
           14027,
           7596,
           3077,
           1505,
           3148,
           6148,
           1337,
           433,
           1228,
           790,
           2570,
           250,
           1316,
           1882,
           6416,
           1275,
           6403,
           1987,
           760,
           2603,
           3380,
           3990,
           11560,
           4380,
           6761,
           4280,
           2325,
           1048,
           3160,
           2483,
           14179,
           1797,
           2511,
           1274,
           5248,
           3029,
           428,
           976,
           841,
           5771,
           1555,
           1285,
           1299,
           1271,
           1393,
           691,
           5045,
           2124,
           2214,
           12680,
           2463,
           1155,
           3108,
           2901,
           3617,
           1655,
           2812,
           8065,
           3275,
           2223,
           1480,
           1371,
           3535,
           3509,
           5711,
           3872,
           4933,
           1940,
           1410,
           836,
           6468,
           1941,
           2675,
           2751,
           6224,
           5998,
           1188,
           6313,
           1221,
           2892,
           3062,
           2301,
           7511,
           1258,
           717,
           1549,
           1597,
           1795,
           4272,
           976,
           7472,
           9271,
           590,
           930,
           9283,
           1778,
           907,
           484,
           9629,
           3051,
           3931,
           7432,
           1338,
           1554,
           15857,
           1345,
           1101,
           3016,
           2712,
           731,
           3780,
           1602,
           3966,
           4165,
           8335,
           6681,
           2375,
           1216,
           11816,
           5084,
           2327,
           1082,
           886,
           601,
           2957,
           2611,
           5179,
           2993,
           1943,
           1559,
           3422,
           3976,
           6761,
           1249,
           1364,
           709,
           2235,
           4042,
           1471,
           1442,
           10875,
           1474,
           894,
           3343,
           3959,
           3577,
           5804,
           2169,
           2439,
           4526,
           2210,
           2221,
           2389,
           3331,
           7409,
           652,
           7678,
           1343,
           1382,
           874,
           3590,
           1322,
           1940,
           3595,
           1422,
           6742,
           7814,
           9277,
           2181,
           1098,
           4057,
           795,
           2825,
           15672,
           6614,
           7824,
           2442,
           1829,
           2171,
           5800,
           1169,
           8947,
           2606,
           1592,
           2186,
           4153,
           2625,
           3485,
           10477,
           1386,
           1278,
           1107,
           3763,
           3711,
           3594,
           3195,
           4454,
           4736,
           2991,
           2142,
           3161,
           18424,
           2848,
           14896,
           2359,
           3345,
           1817,
           12749,
           1366,
           2002,
           6872,
           697,
           1049,
           10297,
           1867,
           1344,
           1747,
           1670,
           1224,
           522,
           1498,
           1919,
           745,
           2063,
           6288,
           6842,
           3527,
           1546,
           929,
           1455,
           1845,
           8358,
           3349,
           2859,
           1533,
           3621,
           3590,
           2145,
           4113,
           10974,
           1893,
           1231,
           3656,
           1154,
           4006,
           3069,
           1740,
           2353,
           3556,
           2397,
           454,
           1715,
           2520,
           3568,
           7166,
           3939,
           1514,
           7393,
           1193,
           7297,
           2831,
           1258,
           753,
           2427,
           2538,
           1264,
           8386,
           4844,
           2923,
           8229,
           2028,
           1433,
           6289,
           1409,
           6579,
           1743,
           3565,
           1569,
           1936,
           3959,
           2390,
           1736,
           3857,
           804,
           1845,
           4576
          ],
          "sizemode": "area",
          "sizeref": 46.06,
          "symbol": "circle"
         },
         "mode": "markers",
         "name": "",
         "orientation": "v",
         "showlegend": false,
         "type": "scatter",
         "x": [
          6,
          48,
          12,
          42,
          24,
          36,
          24,
          36,
          12,
          30,
          12,
          48,
          12,
          24,
          15,
          24,
          24,
          30,
          24,
          24,
          9,
          6,
          10,
          12,
          10,
          6,
          6,
          12,
          7,
          60,
          18,
          24,
          18,
          12,
          12,
          45,
          48,
          18,
          10,
          9,
          30,
          12,
          18,
          30,
          48,
          11,
          36,
          6,
          11,
          12,
          24,
          27,
          12,
          18,
          36,
          6,
          12,
          36,
          18,
          36,
          9,
          15,
          36,
          48,
          24,
          27,
          12,
          12,
          36,
          36,
          36,
          7,
          8,
          42,
          36,
          12,
          42,
          11,
          54,
          30,
          24,
          15,
          18,
          24,
          10,
          12,
          18,
          36,
          18,
          12,
          12,
          12,
          12,
          24,
          12,
          54,
          12,
          18,
          36,
          20,
          24,
          36,
          6,
          9,
          12,
          24,
          18,
          12,
          24,
          14,
          6,
          15,
          18,
          36,
          12,
          48,
          42,
          10,
          33,
          12,
          21,
          24,
          12,
          10,
          18,
          12,
          12,
          12,
          12,
          12,
          48,
          36,
          15,
          18,
          60,
          12,
          27,
          12,
          15,
          12,
          6,
          36,
          27,
          18,
          21,
          48,
          6,
          12,
          36,
          18,
          6,
          10,
          36,
          24,
          24,
          12,
          9,
          12,
          24,
          6,
          24,
          18,
          15,
          10,
          36,
          6,
          18,
          11,
          24,
          24,
          15,
          12,
          24,
          8,
          21,
          30,
          12,
          6,
          12,
          21,
          36,
          36,
          21,
          24,
          18,
          15,
          9,
          16,
          12,
          18,
          24,
          48,
          27,
          6,
          45,
          9,
          6,
          12,
          24,
          18,
          9,
          12,
          27,
          12,
          12,
          30,
          12,
          12,
          24,
          12,
          9,
          36,
          27,
          30,
          36,
          6,
          18,
          36,
          24,
          10,
          12,
          12,
          12,
          24,
          15,
          36,
          48,
          12,
          9,
          24,
          36,
          9,
          12,
          18,
          4,
          24,
          6,
          21,
          12,
          30,
          24,
          6,
          48,
          12,
          12,
          24,
          12,
          6,
          24,
          18,
          6,
          12,
          30,
          24,
          9,
          60,
          24,
          12,
          15,
          11,
          12,
          24,
          18,
          12,
          10,
          15,
          36,
          24,
          14,
          24,
          18,
          12,
          48,
          48,
          30,
          9,
          18,
          12,
          6,
          24,
          15,
          12,
          18,
          15,
          24,
          47,
          48,
          48,
          12,
          24,
          12,
          36,
          24,
          42,
          48,
          48,
          12,
          10,
          18,
          21,
          6,
          36,
          24,
          10,
          48,
          6,
          30,
          12,
          8,
          9,
          48,
          24,
          24,
          12,
          4,
          36,
          12,
          24,
          12,
          15,
          30,
          24,
          24,
          18,
          18,
          8,
          12,
          24,
          36,
          6,
          24,
          18,
          60,
          48,
          24,
          6,
          13,
          15,
          24,
          10,
          24,
          21,
          18,
          18,
          10,
          15,
          13,
          24,
          6,
          9,
          9,
          9,
          18,
          12,
          10,
          24,
          12,
          36,
          12,
          30,
          18,
          12,
          12,
          6,
          18,
          12,
          18,
          18,
          36,
          18,
          36,
          18,
          10,
          60,
          60,
          48,
          18,
          7,
          36,
          6,
          20,
          18,
          22,
          12,
          30,
          18,
          18,
          18,
          15,
          9,
          18,
          12,
          36,
          6,
          9,
          39,
          12,
          36,
          12,
          24,
          18,
          18,
          24,
          14,
          18,
          24,
          24,
          15,
          24,
          12,
          24,
          33,
          12,
          10,
          24,
          36,
          12,
          18,
          21,
          18,
          15,
          12,
          12,
          21,
          12,
          18,
          28,
          18,
          9,
          18,
          5,
          24,
          6,
          24,
          9,
          12,
          6,
          24,
          42,
          12,
          12,
          12,
          20,
          12,
          48,
          9,
          36,
          7,
          12,
          15,
          36,
          6,
          12,
          24,
          24,
          24,
          11,
          12,
          6,
          18,
          36,
          15,
          12,
          12,
          18,
          24,
          24,
          48,
          33,
          24,
          24,
          6,
          9,
          6,
          18,
          18,
          39,
          24,
          12,
          15,
          12,
          24,
          30,
          15,
          12,
          6,
          12,
          24,
          10,
          6,
          12,
          27,
          6,
          6,
          12,
          24,
          36,
          24,
          18,
          6,
          24,
          36,
          9,
          24,
          24,
          10,
          15,
          15,
          24,
          39,
          12,
          36,
          15,
          12,
          24,
          6,
          6,
          36,
          6,
          6,
          24,
          18,
          48,
          24,
          18,
          26,
          15,
          4,
          36,
          6,
          36,
          15,
          12,
          24,
          24,
          21,
          6,
          18,
          48,
          18,
          12,
          24,
          30,
          18,
          12,
          24,
          24,
          24,
          12,
          48,
          12,
          6,
          48,
          12,
          9,
          12,
          18,
          21,
          24,
          18,
          24,
          24,
          6,
          36,
          24,
          24,
          12,
          24,
          48,
          48,
          24,
          30,
          24,
          15,
          9,
          15,
          12,
          24,
          36,
          24,
          18,
          12,
          9,
          36,
          12,
          18,
          9,
          12,
          18,
          12,
          12,
          24,
          21,
          24,
          24,
          6,
          24,
          24,
          18,
          24,
          7,
          9,
          24,
          36,
          10,
          24,
          24,
          36,
          18,
          15,
          12,
          10,
          21,
          24,
          18,
          48,
          60,
          6,
          30,
          12,
          21,
          18,
          48,
          12,
          18,
          15,
          6,
          9,
          42,
          9,
          24,
          18,
          15,
          9,
          24,
          12,
          24,
          60,
          12,
          42,
          18,
          15,
          15,
          24,
          18,
          36,
          30,
          12,
          24,
          12,
          48,
          12,
          24,
          36,
          24,
          14,
          12,
          48,
          30,
          18,
          12,
          12,
          21,
          6,
          6,
          24,
          30,
          48,
          12,
          30,
          24,
          36,
          60,
          6,
          21,
          30,
          24,
          72,
          24,
          18,
          6,
          12,
          15,
          24,
          36,
          60,
          10,
          36,
          9,
          12,
          15,
          15,
          24,
          6,
          24,
          6,
          12,
          12,
          18,
          15,
          12,
          48,
          24,
          30,
          27,
          15,
          48,
          12,
          9,
          9,
          18,
          6,
          21,
          9,
          60,
          30,
          30,
          18,
          24,
          20,
          9,
          6,
          12,
          9,
          27,
          6,
          15,
          18,
          48,
          24,
          24,
          24,
          8,
          24,
          4,
          36,
          24,
          18,
          6,
          30,
          24,
          10,
          21,
          24,
          39,
          13,
          15,
          12,
          21,
          15,
          6,
          18,
          12,
          30,
          12,
          24,
          6,
          15,
          24,
          12,
          15,
          18,
          12,
          21,
          24,
          12,
          30,
          10,
          12,
          12,
          24,
          36,
          21,
          24,
          12,
          24,
          36,
          18,
          36,
          18,
          39,
          24,
          12,
          12,
          20,
          18,
          22,
          48,
          48,
          40,
          21,
          24,
          6,
          24,
          24,
          9,
          18,
          12,
          24,
          9,
          24,
          18,
          20,
          12,
          12,
          36,
          6,
          12,
          42,
          15,
          8,
          6,
          36,
          48,
          48,
          36,
          6,
          6,
          36,
          18,
          12,
          12,
          36,
          8,
          18,
          21,
          18,
          18,
          36,
          48,
          24,
          18,
          45,
          24,
          15,
          12,
          12,
          4,
          24,
          24,
          36,
          21,
          18,
          24,
          18,
          21,
          18,
          24,
          9,
          12,
          20,
          24,
          15,
          18,
          36,
          24,
          10,
          15,
          15,
          9,
          24,
          18,
          24,
          27,
          10,
          15,
          18,
          12,
          36,
          12,
          36,
          6,
          24,
          15,
          12,
          11,
          18,
          36,
          9,
          30,
          24,
          24,
          30,
          18,
          24,
          12,
          24,
          48,
          36,
          28,
          27,
          15,
          12,
          36,
          18,
          36,
          21,
          12,
          15,
          18,
          16,
          20,
          36,
          15,
          24,
          12,
          21,
          36,
          15,
          9,
          36,
          24,
          30,
          11,
          24,
          48,
          10,
          6,
          24,
          24,
          18,
          48,
          9,
          12,
          24,
          12,
          18,
          48,
          30,
          12,
          24,
          9,
          9,
          12,
          12,
          30,
          9,
          6,
          60,
          24,
          12,
          10,
          24,
          4,
          15,
          48,
          24,
          12,
          18,
          24,
          18,
          36,
          24,
          36,
          12,
          24,
          30,
          9,
          28,
          24,
          6,
          21,
          15,
          24,
          6,
          30,
          27,
          15,
          42,
          11,
          15,
          24,
          24,
          60,
          30,
          24,
          6,
          18,
          24,
          15,
          30,
          48,
          21,
          36,
          24,
          15,
          42,
          13,
          24,
          24,
          12,
          15,
          18,
          36,
          12,
          12,
          30,
          12,
          45,
          45
         ],
         "xaxis": "x",
         "y": [
          1169,
          5951,
          2096,
          7882,
          4870,
          9055,
          2835,
          6948,
          3059,
          5234,
          1295,
          4308,
          1567,
          1199,
          1403,
          1282,
          2424,
          8072,
          12579,
          3430,
          2134,
          2647,
          2241,
          1804,
          2069,
          1374,
          426,
          409,
          2415,
          6836,
          1913,
          4020,
          5866,
          1264,
          1474,
          4746,
          6110,
          2100,
          1225,
          458,
          2333,
          1158,
          6204,
          6187,
          6143,
          1393,
          2299,
          1352,
          7228,
          2073,
          2333,
          5965,
          1262,
          3378,
          2225,
          783,
          6468,
          9566,
          1961,
          6229,
          1391,
          1537,
          1953,
          14421,
          3181,
          5190,
          2171,
          1007,
          1819,
          2394,
          8133,
          730,
          1164,
          5954,
          1977,
          1526,
          3965,
          4771,
          9436,
          3832,
          5943,
          1213,
          1568,
          1755,
          2315,
          1412,
          1295,
          12612,
          2249,
          1108,
          618,
          1409,
          797,
          3617,
          1318,
          15945,
          2012,
          2622,
          2337,
          7057,
          1469,
          2323,
          932,
          1919,
          2445,
          11938,
          6458,
          6078,
          7721,
          1410,
          1449,
          392,
          6260,
          7855,
          1680,
          3578,
          7174,
          2132,
          4281,
          2366,
          1835,
          3868,
          1768,
          781,
          1924,
          2121,
          701,
          639,
          1860,
          3499,
          8487,
          6887,
          2708,
          1984,
          10144,
          1240,
          8613,
          766,
          2728,
          1881,
          709,
          4795,
          3416,
          2462,
          2288,
          3566,
          860,
          682,
          5371,
          1582,
          1346,
          1924,
          5848,
          7758,
          6967,
          1282,
          1288,
          339,
          3512,
          1898,
          2872,
          1055,
          1262,
          7308,
          909,
          2978,
          1131,
          1577,
          3972,
          1935,
          950,
          763,
          2064,
          1414,
          3414,
          7485,
          2577,
          338,
          1963,
          571,
          9572,
          4455,
          1647,
          3777,
          884,
          1360,
          5129,
          1175,
          674,
          3244,
          4591,
          3844,
          3915,
          2108,
          3031,
          1501,
          1382,
          951,
          2760,
          4297,
          936,
          1168,
          5117,
          902,
          1495,
          10623,
          1935,
          1424,
          6568,
          1413,
          3074,
          3835,
          5293,
          1908,
          3342,
          932,
          3104,
          3913,
          3021,
          1364,
          625,
          1200,
          707,
          2978,
          4657,
          2613,
          10961,
          7865,
          1478,
          3149,
          4210,
          2507,
          2141,
          866,
          1544,
          1823,
          14555,
          2767,
          1291,
          2522,
          915,
          1595,
          4605,
          1185,
          3447,
          1258,
          717,
          1204,
          1925,
          433,
          666,
          2251,
          2150,
          4151,
          2030,
          7418,
          2684,
          2149,
          3812,
          1154,
          1657,
          1603,
          5302,
          2748,
          1231,
          802,
          6304,
          1533,
          8978,
          999,
          2662,
          1402,
          12169,
          3060,
          11998,
          2697,
          2404,
          1262,
          4611,
          1901,
          3368,
          1574,
          1445,
          1520,
          3878,
          10722,
          4788,
          7582,
          1092,
          1024,
          1076,
          9398,
          6419,
          4796,
          7629,
          9960,
          4675,
          1287,
          2515,
          2745,
          672,
          3804,
          1344,
          1038,
          10127,
          1543,
          4811,
          727,
          1237,
          276,
          5381,
          5511,
          3749,
          685,
          1494,
          2746,
          708,
          4351,
          701,
          3643,
          4249,
          1938,
          2910,
          2659,
          1028,
          3398,
          5801,
          1525,
          4473,
          1068,
          6615,
          1864,
          7408,
          11590,
          4110,
          3384,
          2101,
          1275,
          4169,
          1521,
          5743,
          3599,
          3213,
          4439,
          3949,
          1459,
          882,
          3758,
          1743,
          1136,
          1236,
          959,
          3229,
          6199,
          727,
          1246,
          2331,
          4463,
          776,
          2406,
          1239,
          3399,
          2247,
          1766,
          2473,
          1542,
          3850,
          3650,
          3446,
          3001,
          3079,
          6070,
          2146,
          13756,
          14782,
          7685,
          2320,
          846,
          14318,
          362,
          2212,
          12976,
          1283,
          1330,
          4272,
          2238,
          1126,
          7374,
          2326,
          1449,
          1820,
          983,
          3249,
          1957,
          2406,
          11760,
          2578,
          2348,
          1223,
          1516,
          1473,
          1887,
          8648,
          802,
          2899,
          2039,
          2197,
          1053,
          3235,
          939,
          1967,
          7253,
          2292,
          1597,
          1381,
          5842,
          2579,
          8471,
          2782,
          1042,
          3186,
          2028,
          958,
          1591,
          2762,
          2779,
          2743,
          1149,
          1313,
          1190,
          3448,
          11328,
          1872,
          2058,
          2136,
          1484,
          660,
          1287,
          3394,
          609,
          1884,
          1620,
          2629,
          719,
          5096,
          1244,
          1842,
          2576,
          1424,
          1512,
          11054,
          518,
          2759,
          2670,
          4817,
          2679,
          3905,
          3386,
          343,
          4594,
          3620,
          1721,
          3017,
          754,
          1950,
          2924,
          1659,
          7238,
          2764,
          4679,
          3092,
          448,
          654,
          1238,
          1245,
          3114,
          2569,
          5152,
          1037,
          1478,
          3573,
          1201,
          3622,
          960,
          1163,
          1209,
          3077,
          3757,
          1418,
          3518,
          1934,
          8318,
          1237,
          368,
          2122,
          2996,
          9034,
          1585,
          1301,
          1323,
          3123,
          5493,
          1126,
          1216,
          1207,
          1309,
          2360,
          6850,
          1413,
          8588,
          759,
          4686,
          2687,
          585,
          2255,
          609,
          1361,
          7127,
          1203,
          700,
          5507,
          3190,
          7119,
          3488,
          1113,
          7966,
          1532,
          1503,
          2302,
          662,
          2273,
          2631,
          1503,
          1311,
          3105,
          2319,
          1374,
          3612,
          7763,
          3049,
          1534,
          2032,
          6350,
          2864,
          1255,
          1333,
          2022,
          1552,
          626,
          8858,
          996,
          1750,
          6999,
          1995,
          1199,
          1331,
          2278,
          5003,
          3552,
          1928,
          2964,
          1546,
          683,
          12389,
          4712,
          1553,
          1372,
          2578,
          3979,
          6758,
          3234,
          5954,
          5433,
          806,
          1082,
          2788,
          2930,
          1927,
          2820,
          937,
          1056,
          3124,
          1388,
          2384,
          2133,
          2039,
          2799,
          1289,
          1217,
          2246,
          385,
          1965,
          1572,
          2718,
          1358,
          931,
          1442,
          4241,
          2775,
          3863,
          2329,
          918,
          1837,
          3349,
          1275,
          2828,
          4526,
          2671,
          2051,
          1300,
          741,
          1240,
          3357,
          3632,
          1808,
          12204,
          9157,
          3676,
          3441,
          640,
          3652,
          1530,
          3914,
          1858,
          2600,
          1979,
          2116,
          1437,
          4042,
          3832,
          3660,
          1553,
          1444,
          1980,
          1355,
          1393,
          1376,
          15653,
          1493,
          4370,
          750,
          1308,
          4623,
          1851,
          1880,
          7980,
          4583,
          1386,
          947,
          684,
          7476,
          1922,
          2303,
          8086,
          2346,
          3973,
          888,
          10222,
          4221,
          6361,
          1297,
          900,
          2241,
          1050,
          1047,
          6314,
          3496,
          3609,
          4843,
          3017,
          4139,
          5742,
          10366,
          2080,
          2580,
          4530,
          5150,
          5595,
          2384,
          1453,
          1538,
          2279,
          1478,
          5103,
          9857,
          6527,
          1347,
          2862,
          2753,
          3651,
          975,
          2631,
          2896,
          4716,
          2284,
          1236,
          1103,
          926,
          1800,
          1905,
          1123,
          6331,
          1377,
          2503,
          2528,
          5324,
          6560,
          2969,
          1206,
          2118,
          629,
          1198,
          2476,
          1138,
          14027,
          7596,
          3077,
          1505,
          3148,
          6148,
          1337,
          433,
          1228,
          790,
          2570,
          250,
          1316,
          1882,
          6416,
          1275,
          6403,
          1987,
          760,
          2603,
          3380,
          3990,
          11560,
          4380,
          6761,
          4280,
          2325,
          1048,
          3160,
          2483,
          14179,
          1797,
          2511,
          1274,
          5248,
          3029,
          428,
          976,
          841,
          5771,
          1555,
          1285,
          1299,
          1271,
          1393,
          691,
          5045,
          2124,
          2214,
          12680,
          2463,
          1155,
          3108,
          2901,
          3617,
          1655,
          2812,
          8065,
          3275,
          2223,
          1480,
          1371,
          3535,
          3509,
          5711,
          3872,
          4933,
          1940,
          1410,
          836,
          6468,
          1941,
          2675,
          2751,
          6224,
          5998,
          1188,
          6313,
          1221,
          2892,
          3062,
          2301,
          7511,
          1258,
          717,
          1549,
          1597,
          1795,
          4272,
          976,
          7472,
          9271,
          590,
          930,
          9283,
          1778,
          907,
          484,
          9629,
          3051,
          3931,
          7432,
          1338,
          1554,
          15857,
          1345,
          1101,
          3016,
          2712,
          731,
          3780,
          1602,
          3966,
          4165,
          8335,
          6681,
          2375,
          1216,
          11816,
          5084,
          2327,
          1082,
          886,
          601,
          2957,
          2611,
          5179,
          2993,
          1943,
          1559,
          3422,
          3976,
          6761,
          1249,
          1364,
          709,
          2235,
          4042,
          1471,
          1442,
          10875,
          1474,
          894,
          3343,
          3959,
          3577,
          5804,
          2169,
          2439,
          4526,
          2210,
          2221,
          2389,
          3331,
          7409,
          652,
          7678,
          1343,
          1382,
          874,
          3590,
          1322,
          1940,
          3595,
          1422,
          6742,
          7814,
          9277,
          2181,
          1098,
          4057,
          795,
          2825,
          15672,
          6614,
          7824,
          2442,
          1829,
          2171,
          5800,
          1169,
          8947,
          2606,
          1592,
          2186,
          4153,
          2625,
          3485,
          10477,
          1386,
          1278,
          1107,
          3763,
          3711,
          3594,
          3195,
          4454,
          4736,
          2991,
          2142,
          3161,
          18424,
          2848,
          14896,
          2359,
          3345,
          1817,
          12749,
          1366,
          2002,
          6872,
          697,
          1049,
          10297,
          1867,
          1344,
          1747,
          1670,
          1224,
          522,
          1498,
          1919,
          745,
          2063,
          6288,
          6842,
          3527,
          1546,
          929,
          1455,
          1845,
          8358,
          3349,
          2859,
          1533,
          3621,
          3590,
          2145,
          4113,
          10974,
          1893,
          1231,
          3656,
          1154,
          4006,
          3069,
          1740,
          2353,
          3556,
          2397,
          454,
          1715,
          2520,
          3568,
          7166,
          3939,
          1514,
          7393,
          1193,
          7297,
          2831,
          1258,
          753,
          2427,
          2538,
          1264,
          8386,
          4844,
          2923,
          8229,
          2028,
          1433,
          6289,
          1409,
          6579,
          1743,
          3565,
          1569,
          1936,
          3959,
          2390,
          1736,
          3857,
          804,
          1845,
          4576
         ],
         "yaxis": "y"
        }
       ],
       "layout": {
        "coloraxis": {
         "colorbar": {
          "title": {
           "text": "age"
          }
         },
         "colorscale": [
          [
           0,
           "#0d0887"
          ],
          [
           0.1111111111111111,
           "#46039f"
          ],
          [
           0.2222222222222222,
           "#7201a8"
          ],
          [
           0.3333333333333333,
           "#9c179e"
          ],
          [
           0.4444444444444444,
           "#bd3786"
          ],
          [
           0.5555555555555556,
           "#d8576b"
          ],
          [
           0.6666666666666666,
           "#ed7953"
          ],
          [
           0.7777777777777778,
           "#fb9f3a"
          ],
          [
           0.8888888888888888,
           "#fdca26"
          ],
          [
           1,
           "#f0f921"
          ]
         ]
        },
        "legend": {
         "itemsizing": "constant",
         "tracegroupgap": 0
        },
        "margin": {
         "t": 60
        },
        "template": {
         "data": {
          "bar": [
           {
            "error_x": {
             "color": "#2a3f5f"
            },
            "error_y": {
             "color": "#2a3f5f"
            },
            "marker": {
             "line": {
              "color": "#E5ECF6",
              "width": 0.5
             }
            },
            "type": "bar"
           }
          ],
          "barpolar": [
           {
            "marker": {
             "line": {
              "color": "#E5ECF6",
              "width": 0.5
             }
            },
            "type": "barpolar"
           }
          ],
          "carpet": [
           {
            "aaxis": {
             "endlinecolor": "#2a3f5f",
             "gridcolor": "white",
             "linecolor": "white",
             "minorgridcolor": "white",
             "startlinecolor": "#2a3f5f"
            },
            "baxis": {
             "endlinecolor": "#2a3f5f",
             "gridcolor": "white",
             "linecolor": "white",
             "minorgridcolor": "white",
             "startlinecolor": "#2a3f5f"
            },
            "type": "carpet"
           }
          ],
          "choropleth": [
           {
            "colorbar": {
             "outlinewidth": 0,
             "ticks": ""
            },
            "type": "choropleth"
           }
          ],
          "contour": [
           {
            "colorbar": {
             "outlinewidth": 0,
             "ticks": ""
            },
            "colorscale": [
             [
              0,
              "#0d0887"
             ],
             [
              0.1111111111111111,
              "#46039f"
             ],
             [
              0.2222222222222222,
              "#7201a8"
             ],
             [
              0.3333333333333333,
              "#9c179e"
             ],
             [
              0.4444444444444444,
              "#bd3786"
             ],
             [
              0.5555555555555556,
              "#d8576b"
             ],
             [
              0.6666666666666666,
              "#ed7953"
             ],
             [
              0.7777777777777778,
              "#fb9f3a"
             ],
             [
              0.8888888888888888,
              "#fdca26"
             ],
             [
              1,
              "#f0f921"
             ]
            ],
            "type": "contour"
           }
          ],
          "contourcarpet": [
           {
            "colorbar": {
             "outlinewidth": 0,
             "ticks": ""
            },
            "type": "contourcarpet"
           }
          ],
          "heatmap": [
           {
            "colorbar": {
             "outlinewidth": 0,
             "ticks": ""
            },
            "colorscale": [
             [
              0,
              "#0d0887"
             ],
             [
              0.1111111111111111,
              "#46039f"
             ],
             [
              0.2222222222222222,
              "#7201a8"
             ],
             [
              0.3333333333333333,
              "#9c179e"
             ],
             [
              0.4444444444444444,
              "#bd3786"
             ],
             [
              0.5555555555555556,
              "#d8576b"
             ],
             [
              0.6666666666666666,
              "#ed7953"
             ],
             [
              0.7777777777777778,
              "#fb9f3a"
             ],
             [
              0.8888888888888888,
              "#fdca26"
             ],
             [
              1,
              "#f0f921"
             ]
            ],
            "type": "heatmap"
           }
          ],
          "heatmapgl": [
           {
            "colorbar": {
             "outlinewidth": 0,
             "ticks": ""
            },
            "colorscale": [
             [
              0,
              "#0d0887"
             ],
             [
              0.1111111111111111,
              "#46039f"
             ],
             [
              0.2222222222222222,
              "#7201a8"
             ],
             [
              0.3333333333333333,
              "#9c179e"
             ],
             [
              0.4444444444444444,
              "#bd3786"
             ],
             [
              0.5555555555555556,
              "#d8576b"
             ],
             [
              0.6666666666666666,
              "#ed7953"
             ],
             [
              0.7777777777777778,
              "#fb9f3a"
             ],
             [
              0.8888888888888888,
              "#fdca26"
             ],
             [
              1,
              "#f0f921"
             ]
            ],
            "type": "heatmapgl"
           }
          ],
          "histogram": [
           {
            "marker": {
             "colorbar": {
              "outlinewidth": 0,
              "ticks": ""
             }
            },
            "type": "histogram"
           }
          ],
          "histogram2d": [
           {
            "colorbar": {
             "outlinewidth": 0,
             "ticks": ""
            },
            "colorscale": [
             [
              0,
              "#0d0887"
             ],
             [
              0.1111111111111111,
              "#46039f"
             ],
             [
              0.2222222222222222,
              "#7201a8"
             ],
             [
              0.3333333333333333,
              "#9c179e"
             ],
             [
              0.4444444444444444,
              "#bd3786"
             ],
             [
              0.5555555555555556,
              "#d8576b"
             ],
             [
              0.6666666666666666,
              "#ed7953"
             ],
             [
              0.7777777777777778,
              "#fb9f3a"
             ],
             [
              0.8888888888888888,
              "#fdca26"
             ],
             [
              1,
              "#f0f921"
             ]
            ],
            "type": "histogram2d"
           }
          ],
          "histogram2dcontour": [
           {
            "colorbar": {
             "outlinewidth": 0,
             "ticks": ""
            },
            "colorscale": [
             [
              0,
              "#0d0887"
             ],
             [
              0.1111111111111111,
              "#46039f"
             ],
             [
              0.2222222222222222,
              "#7201a8"
             ],
             [
              0.3333333333333333,
              "#9c179e"
             ],
             [
              0.4444444444444444,
              "#bd3786"
             ],
             [
              0.5555555555555556,
              "#d8576b"
             ],
             [
              0.6666666666666666,
              "#ed7953"
             ],
             [
              0.7777777777777778,
              "#fb9f3a"
             ],
             [
              0.8888888888888888,
              "#fdca26"
             ],
             [
              1,
              "#f0f921"
             ]
            ],
            "type": "histogram2dcontour"
           }
          ],
          "mesh3d": [
           {
            "colorbar": {
             "outlinewidth": 0,
             "ticks": ""
            },
            "type": "mesh3d"
           }
          ],
          "parcoords": [
           {
            "line": {
             "colorbar": {
              "outlinewidth": 0,
              "ticks": ""
             }
            },
            "type": "parcoords"
           }
          ],
          "pie": [
           {
            "automargin": true,
            "type": "pie"
           }
          ],
          "scatter": [
           {
            "marker": {
             "colorbar": {
              "outlinewidth": 0,
              "ticks": ""
             }
            },
            "type": "scatter"
           }
          ],
          "scatter3d": [
           {
            "line": {
             "colorbar": {
              "outlinewidth": 0,
              "ticks": ""
             }
            },
            "marker": {
             "colorbar": {
              "outlinewidth": 0,
              "ticks": ""
             }
            },
            "type": "scatter3d"
           }
          ],
          "scattercarpet": [
           {
            "marker": {
             "colorbar": {
              "outlinewidth": 0,
              "ticks": ""
             }
            },
            "type": "scattercarpet"
           }
          ],
          "scattergeo": [
           {
            "marker": {
             "colorbar": {
              "outlinewidth": 0,
              "ticks": ""
             }
            },
            "type": "scattergeo"
           }
          ],
          "scattergl": [
           {
            "marker": {
             "colorbar": {
              "outlinewidth": 0,
              "ticks": ""
             }
            },
            "type": "scattergl"
           }
          ],
          "scattermapbox": [
           {
            "marker": {
             "colorbar": {
              "outlinewidth": 0,
              "ticks": ""
             }
            },
            "type": "scattermapbox"
           }
          ],
          "scatterpolar": [
           {
            "marker": {
             "colorbar": {
              "outlinewidth": 0,
              "ticks": ""
             }
            },
            "type": "scatterpolar"
           }
          ],
          "scatterpolargl": [
           {
            "marker": {
             "colorbar": {
              "outlinewidth": 0,
              "ticks": ""
             }
            },
            "type": "scatterpolargl"
           }
          ],
          "scatterternary": [
           {
            "marker": {
             "colorbar": {
              "outlinewidth": 0,
              "ticks": ""
             }
            },
            "type": "scatterternary"
           }
          ],
          "surface": [
           {
            "colorbar": {
             "outlinewidth": 0,
             "ticks": ""
            },
            "colorscale": [
             [
              0,
              "#0d0887"
             ],
             [
              0.1111111111111111,
              "#46039f"
             ],
             [
              0.2222222222222222,
              "#7201a8"
             ],
             [
              0.3333333333333333,
              "#9c179e"
             ],
             [
              0.4444444444444444,
              "#bd3786"
             ],
             [
              0.5555555555555556,
              "#d8576b"
             ],
             [
              0.6666666666666666,
              "#ed7953"
             ],
             [
              0.7777777777777778,
              "#fb9f3a"
             ],
             [
              0.8888888888888888,
              "#fdca26"
             ],
             [
              1,
              "#f0f921"
             ]
            ],
            "type": "surface"
           }
          ],
          "table": [
           {
            "cells": {
             "fill": {
              "color": "#EBF0F8"
             },
             "line": {
              "color": "white"
             }
            },
            "header": {
             "fill": {
              "color": "#C8D4E3"
             },
             "line": {
              "color": "white"
             }
            },
            "type": "table"
           }
          ]
         },
         "layout": {
          "annotationdefaults": {
           "arrowcolor": "#2a3f5f",
           "arrowhead": 0,
           "arrowwidth": 1
          },
          "coloraxis": {
           "colorbar": {
            "outlinewidth": 0,
            "ticks": ""
           }
          },
          "colorscale": {
           "diverging": [
            [
             0,
             "#8e0152"
            ],
            [
             0.1,
             "#c51b7d"
            ],
            [
             0.2,
             "#de77ae"
            ],
            [
             0.3,
             "#f1b6da"
            ],
            [
             0.4,
             "#fde0ef"
            ],
            [
             0.5,
             "#f7f7f7"
            ],
            [
             0.6,
             "#e6f5d0"
            ],
            [
             0.7,
             "#b8e186"
            ],
            [
             0.8,
             "#7fbc41"
            ],
            [
             0.9,
             "#4d9221"
            ],
            [
             1,
             "#276419"
            ]
           ],
           "sequential": [
            [
             0,
             "#0d0887"
            ],
            [
             0.1111111111111111,
             "#46039f"
            ],
            [
             0.2222222222222222,
             "#7201a8"
            ],
            [
             0.3333333333333333,
             "#9c179e"
            ],
            [
             0.4444444444444444,
             "#bd3786"
            ],
            [
             0.5555555555555556,
             "#d8576b"
            ],
            [
             0.6666666666666666,
             "#ed7953"
            ],
            [
             0.7777777777777778,
             "#fb9f3a"
            ],
            [
             0.8888888888888888,
             "#fdca26"
            ],
            [
             1,
             "#f0f921"
            ]
           ],
           "sequentialminus": [
            [
             0,
             "#0d0887"
            ],
            [
             0.1111111111111111,
             "#46039f"
            ],
            [
             0.2222222222222222,
             "#7201a8"
            ],
            [
             0.3333333333333333,
             "#9c179e"
            ],
            [
             0.4444444444444444,
             "#bd3786"
            ],
            [
             0.5555555555555556,
             "#d8576b"
            ],
            [
             0.6666666666666666,
             "#ed7953"
            ],
            [
             0.7777777777777778,
             "#fb9f3a"
            ],
            [
             0.8888888888888888,
             "#fdca26"
            ],
            [
             1,
             "#f0f921"
            ]
           ]
          },
          "colorway": [
           "#636efa",
           "#EF553B",
           "#00cc96",
           "#ab63fa",
           "#FFA15A",
           "#19d3f3",
           "#FF6692",
           "#B6E880",
           "#FF97FF",
           "#FECB52"
          ],
          "font": {
           "color": "#2a3f5f"
          },
          "geo": {
           "bgcolor": "white",
           "lakecolor": "white",
           "landcolor": "#E5ECF6",
           "showlakes": true,
           "showland": true,
           "subunitcolor": "white"
          },
          "hoverlabel": {
           "align": "left"
          },
          "hovermode": "closest",
          "mapbox": {
           "style": "light"
          },
          "paper_bgcolor": "white",
          "plot_bgcolor": "#E5ECF6",
          "polar": {
           "angularaxis": {
            "gridcolor": "white",
            "linecolor": "white",
            "ticks": ""
           },
           "bgcolor": "#E5ECF6",
           "radialaxis": {
            "gridcolor": "white",
            "linecolor": "white",
            "ticks": ""
           }
          },
          "scene": {
           "xaxis": {
            "backgroundcolor": "#E5ECF6",
            "gridcolor": "white",
            "gridwidth": 2,
            "linecolor": "white",
            "showbackground": true,
            "ticks": "",
            "zerolinecolor": "white"
           },
           "yaxis": {
            "backgroundcolor": "#E5ECF6",
            "gridcolor": "white",
            "gridwidth": 2,
            "linecolor": "white",
            "showbackground": true,
            "ticks": "",
            "zerolinecolor": "white"
           },
           "zaxis": {
            "backgroundcolor": "#E5ECF6",
            "gridcolor": "white",
            "gridwidth": 2,
            "linecolor": "white",
            "showbackground": true,
            "ticks": "",
            "zerolinecolor": "white"
           }
          },
          "shapedefaults": {
           "line": {
            "color": "#2a3f5f"
           }
          },
          "ternary": {
           "aaxis": {
            "gridcolor": "white",
            "linecolor": "white",
            "ticks": ""
           },
           "baxis": {
            "gridcolor": "white",
            "linecolor": "white",
            "ticks": ""
           },
           "bgcolor": "#E5ECF6",
           "caxis": {
            "gridcolor": "white",
            "linecolor": "white",
            "ticks": ""
           }
          },
          "title": {
           "x": 0.05
          },
          "xaxis": {
           "automargin": true,
           "gridcolor": "white",
           "linecolor": "white",
           "ticks": "",
           "title": {
            "standoff": 15
           },
           "zerolinecolor": "white",
           "zerolinewidth": 2
          },
          "yaxis": {
           "automargin": true,
           "gridcolor": "white",
           "linecolor": "white",
           "ticks": "",
           "title": {
            "standoff": 15
           },
           "zerolinecolor": "white",
           "zerolinewidth": 2
          }
         }
        },
        "xaxis": {
         "anchor": "y",
         "domain": [
          0,
          1
         ],
         "title": {
          "text": "credit_duration"
         }
        },
        "yaxis": {
         "anchor": "x",
         "domain": [
          0,
          1
         ],
         "title": {
          "text": "credit_amount"
         }
        }
       }
      },
      "text/html": [
       "<div>                            <div id=\"e9be10e0-4a94-4ea9-a981-b68e1aeee7cd\" class=\"plotly-graph-div\" style=\"height:525px; width:100%;\"></div>            <script type=\"text/javascript\">                require([\"plotly\"], function(Plotly) {                    window.PLOTLYENV=window.PLOTLYENV || {};                                    if (document.getElementById(\"e9be10e0-4a94-4ea9-a981-b68e1aeee7cd\")) {                    Plotly.newPlot(                        \"e9be10e0-4a94-4ea9-a981-b68e1aeee7cd\",                        [{\"customdata\": [[6], [48], [12], [42], [24], [36], [24], [36], [12], [30], [12], [48], [12], [24], [15], [24], [24], [30], [24], [24], [9], [6], [10], [12], [10], [6], [6], [12], [7], [60], [18], [24], [18], [12], [12], [45], [48], [18], [10], [9], [30], [12], [18], [30], [48], [11], [36], [6], [11], [12], [24], [27], [12], [18], [36], [6], [12], [36], [18], [36], [9], [15], [36], [48], [24], [27], [12], [12], [36], [36], [36], [7], [8], [42], [36], [12], [42], [11], [54], [30], [24], [15], [18], [24], [10], [12], [18], [36], [18], [12], [12], [12], [12], [24], [12], [54], [12], [18], [36], [20], [24], [36], [6], [9], [12], [24], [18], [12], [24], [14], [6], [15], [18], [36], [12], [48], [42], [10], [33], [12], [21], [24], [12], [10], [18], [12], [12], [12], [12], [12], [48], [36], [15], [18], [60], [12], [27], [12], [15], [12], [6], [36], [27], [18], [21], [48], [6], [12], [36], [18], [6], [10], [36], [24], [24], [12], [9], [12], [24], [6], [24], [18], [15], [10], [36], [6], [18], [11], [24], [24], [15], [12], [24], [8], [21], [30], [12], [6], [12], [21], [36], [36], [21], [24], [18], [15], [9], [16], [12], [18], [24], [48], [27], [6], [45], [9], [6], [12], [24], [18], [9], [12], [27], [12], [12], [30], [12], [12], [24], [12], [9], [36], [27], [30], [36], [6], [18], [36], [24], [10], [12], [12], [12], [24], [15], [36], [48], [12], [9], [24], [36], [9], [12], [18], [4], [24], [6], [21], [12], [30], [24], [6], [48], [12], [12], [24], [12], [6], [24], [18], [6], [12], [30], [24], [9], [60], [24], [12], [15], [11], [12], [24], [18], [12], [10], [15], [36], [24], [14], [24], [18], [12], [48], [48], [30], [9], [18], [12], [6], [24], [15], [12], [18], [15], [24], [47], [48], [48], [12], [24], [12], [36], [24], [42], [48], [48], [12], [10], [18], [21], [6], [36], [24], [10], [48], [6], [30], [12], [8], [9], [48], [24], [24], [12], [4], [36], [12], [24], [12], [15], [30], [24], [24], [18], [18], [8], [12], [24], [36], [6], [24], [18], [60], [48], [24], [6], [13], [15], [24], [10], [24], [21], [18], [18], [10], [15], [13], [24], [6], [9], [9], [9], [18], [12], [10], [24], [12], [36], [12], [30], [18], [12], [12], [6], [18], [12], [18], [18], [36], [18], [36], [18], [10], [60], [60], [48], [18], [7], [36], [6], [20], [18], [22], [12], [30], [18], [18], [18], [15], [9], [18], [12], [36], [6], [9], [39], [12], [36], [12], [24], [18], [18], [24], [14], [18], [24], [24], [15], [24], [12], [24], [33], [12], [10], [24], [36], [12], [18], [21], [18], [15], [12], [12], [21], [12], [18], [28], [18], [9], [18], [5], [24], [6], [24], [9], [12], [6], [24], [42], [12], [12], [12], [20], [12], [48], [9], [36], [7], [12], [15], [36], [6], [12], [24], [24], [24], [11], [12], [6], [18], [36], [15], [12], [12], [18], [24], [24], [48], [33], [24], [24], [6], [9], [6], [18], [18], [39], [24], [12], [15], [12], [24], [30], [15], [12], [6], [12], [24], [10], [6], [12], [27], [6], [6], [12], [24], [36], [24], [18], [6], [24], [36], [9], [24], [24], [10], [15], [15], [24], [39], [12], [36], [15], [12], [24], [6], [6], [36], [6], [6], [24], [18], [48], [24], [18], [26], [15], [4], [36], [6], [36], [15], [12], [24], [24], [21], [6], [18], [48], [18], [12], [24], [30], [18], [12], [24], [24], [24], [12], [48], [12], [6], [48], [12], [9], [12], [18], [21], [24], [18], [24], [24], [6], [36], [24], [24], [12], [24], [48], [48], [24], [30], [24], [15], [9], [15], [12], [24], [36], [24], [18], [12], [9], [36], [12], [18], [9], [12], [18], [12], [12], [24], [21], [24], [24], [6], [24], [24], [18], [24], [7], [9], [24], [36], [10], [24], [24], [36], [18], [15], [12], [10], [21], [24], [18], [48], [60], [6], [30], [12], [21], [18], [48], [12], [18], [15], [6], [9], [42], [9], [24], [18], [15], [9], [24], [12], [24], [60], [12], [42], [18], [15], [15], [24], [18], [36], [30], [12], [24], [12], [48], [12], [24], [36], [24], [14], [12], [48], [30], [18], [12], [12], [21], [6], [6], [24], [30], [48], [12], [30], [24], [36], [60], [6], [21], [30], [24], [72], [24], [18], [6], [12], [15], [24], [36], [60], [10], [36], [9], [12], [15], [15], [24], [6], [24], [6], [12], [12], [18], [15], [12], [48], [24], [30], [27], [15], [48], [12], [9], [9], [18], [6], [21], [9], [60], [30], [30], [18], [24], [20], [9], [6], [12], [9], [27], [6], [15], [18], [48], [24], [24], [24], [8], [24], [4], [36], [24], [18], [6], [30], [24], [10], [21], [24], [39], [13], [15], [12], [21], [15], [6], [18], [12], [30], [12], [24], [6], [15], [24], [12], [15], [18], [12], [21], [24], [12], [30], [10], [12], [12], [24], [36], [21], [24], [12], [24], [36], [18], [36], [18], [39], [24], [12], [12], [20], [18], [22], [48], [48], [40], [21], [24], [6], [24], [24], [9], [18], [12], [24], [9], [24], [18], [20], [12], [12], [36], [6], [12], [42], [15], [8], [6], [36], [48], [48], [36], [6], [6], [36], [18], [12], [12], [36], [8], [18], [21], [18], [18], [36], [48], [24], [18], [45], [24], [15], [12], [12], [4], [24], [24], [36], [21], [18], [24], [18], [21], [18], [24], [9], [12], [20], [24], [15], [18], [36], [24], [10], [15], [15], [9], [24], [18], [24], [27], [10], [15], [18], [12], [36], [12], [36], [6], [24], [15], [12], [11], [18], [36], [9], [30], [24], [24], [30], [18], [24], [12], [24], [48], [36], [28], [27], [15], [12], [36], [18], [36], [21], [12], [15], [18], [16], [20], [36], [15], [24], [12], [21], [36], [15], [9], [36], [24], [30], [11], [24], [48], [10], [6], [24], [24], [18], [48], [9], [12], [24], [12], [18], [48], [30], [12], [24], [9], [9], [12], [12], [30], [9], [6], [60], [24], [12], [10], [24], [4], [15], [48], [24], [12], [18], [24], [18], [36], [24], [36], [12], [24], [30], [9], [28], [24], [6], [21], [15], [24], [6], [30], [27], [15], [42], [11], [15], [24], [24], [60], [30], [24], [6], [18], [24], [15], [30], [48], [21], [36], [24], [15], [42], [13], [24], [24], [12], [15], [18], [36], [12], [12], [30], [12], [45], [45]], \"hovertemplate\": \"credit_duration=%{customdata[0]}<br>credit_amount=%{marker.size}<br>age=%{marker.color}<extra></extra>\", \"legendgroup\": \"\", \"marker\": {\"color\": [67, 22, 49, 45, 53, 35, 53, 35, 61, 28, 25, 24, 22, 60, 28, 32, 53, 25, 44, 31, 48, 44, 48, 44, 26, 36, 39, 42, 34, 63, 36, 27, 30, 57, 33, 25, 31, 37, 37, 24, 30, 26, 44, 24, 58, 35, 39, 23, 39, 28, 29, 30, 25, 31, 57, 26, 52, 31, 23, 23, 27, 50, 61, 25, 26, 48, 29, 22, 37, 25, 30, 46, 51, 41, 40, 66, 34, 51, 39, 22, 44, 47, 24, 58, 52, 29, 27, 47, 30, 28, 56, 54, 33, 20, 54, 58, 61, 34, 36, 36, 41, 24, 24, 35, 26, 39, 39, 32, 30, 35, 31, 23, 28, 25, 35, 47, 30, 27, 23, 36, 25, 41, 24, 63, 27, 30, 40, 30, 34, 29, 24, 29, 27, 47, 21, 38, 27, 66, 35, 44, 27, 30, 27, 22, 23, 30, 39, 51, 28, 46, 42, 38, 24, 29, 36, 20, 48, 45, 38, 34, 36, 30, 36, 70, 36, 32, 33, 20, 25, 31, 33, 26, 34, 33, 26, 53, 42, 52, 31, 65, 28, 30, 40, 50, 36, 31, 74, 68, 20, 33, 54, 34, 36, 29, 21, 34, 28, 27, 36, 40, 52, 27, 26, 21, 38, 38, 43, 26, 21, 55, 33, 45, 50, 66, 51, 39, 31, 23, 24, 64, 26, 23, 30, 32, 30, 27, 27, 53, 22, 22, 26, 51, 35, 25, 42, 30, 23, 61, 35, 39, 29, 51, 24, 27, 35, 25, 52, 35, 26, 22, 39, 46, 24, 35, 24, 27, 35, 29, 23, 57, 27, 55, 36, 57, 32, 37, 36, 38, 45, 25, 32, 37, 36, 28, 34, 32, 26, 49, 32, 29, 23, 50, 49, 63, 37, 35, 26, 31, 49, 48, 26, 28, 44, 56, 46, 26, 20, 45, 43, 32, 54, 42, 37, 49, 44, 33, 24, 33, 24, 22, 40, 25, 26, 25, 29, 31, 38, 48, 32, 27, 28, 32, 34, 28, 36, 39, 49, 34, 31, 28, 75, 30, 24, 24, 23, 44, 23, 24, 28, 31, 24, 26, 25, 33, 37, 43, 23, 23, 34, 32, 23, 29, 38, 28, 46, 23, 49, 26, 28, 23, 61, 37, 36, 21, 25, 36, 27, 22, 42, 40, 36, 33, 23, 63, 60, 37, 34, 36, 57, 52, 39, 38, 25, 26, 26, 25, 21, 40, 27, 27, 30, 19, 39, 31, 31, 32, 55, 46, 46, 43, 39, 28, 27, 27, 43, 22, 43, 27, 26, 28, 20, 35, 42, 40, 35, 35, 33, 23, 31, 33, 20, 30, 47, 34, 25, 21, 29, 46, 20, 55, 74, 29, 36, 33, 25, 25, 23, 37, 65, 26, 39, 30, 29, 41, 30, 41, 34, 35, 55, 61, 30, 29, 34, 35, 31, 29, 36, 35, 27, 32, 37, 36, 34, 38, 34, 63, 29, 32, 26, 35, 22, 23, 28, 36, 33, 26, 24, 25, 39, 44, 23, 26, 57, 30, 44, 47, 52, 62, 35, 26, 26, 42, 27, 38, 39, 20, 29, 40, 32, 28, 27, 42, 49, 38, 24, 27, 36, 34, 28, 45, 26, 32, 26, 20, 54, 37, 40, 23, 43, 36, 44, 24, 53, 23, 26, 30, 31, 42, 31, 41, 32, 28, 41, 26, 25, 33, 75, 37, 42, 45, 23, 60, 31, 34, 61, 43, 37, 32, 24, 35, 23, 45, 34, 27, 67, 22, 28, 29, 27, 31, 49, 24, 29, 37, 37, 23, 36, 34, 41, 31, 23, 38, 26, 22, 27, 24, 27, 33, 27, 27, 30, 49, 26, 33, 52, 20, 36, 21, 47, 60, 58, 42, 36, 20, 40, 32, 23, 36, 31, 32, 45, 30, 34, 28, 23, 22, 74, 50, 33, 45, 22, 48, 29, 22, 22, 48, 27, 37, 21, 49, 27, 32, 38, 22, 65, 35, 41, 29, 36, 64, 28, 44, 23, 19, 25, 47, 28, 21, 34, 26, 27, 38, 40, 33, 32, 27, 32, 26, 38, 40, 50, 37, 45, 42, 35, 22, 41, 37, 28, 41, 23, 23, 50, 35, 50, 27, 34, 27, 43, 47, 27, 31, 42, 24, 41, 26, 33, 24, 64, 26, 56, 37, 33, 47, 31, 34, 27, 30, 35, 31, 25, 25, 29, 44, 28, 50, 29, 38, 24, 40, 29, 46, 47, 41, 32, 35, 24, 25, 25, 37, 32, 35, 46, 25, 27, 63, 40, 32, 31, 31, 34, 24, 24, 66, 21, 41, 47, 25, 59, 36, 33, 21, 44, 28, 37, 29, 23, 35, 45, 26, 32, 23, 41, 22, 30, 28, 23, 37, 26, 33, 49, 23, 23, 25, 55, 32, 74, 39, 31, 35, 59, 24, 24, 30, 27, 40, 31, 31, 28, 63, 26, 25, 36, 52, 66, 25, 37, 25, 38, 67, 25, 60, 31, 23, 60, 35, 40, 38, 50, 27, 39, 41, 27, 51, 32, 22, 51, 22, 54, 35, 54, 48, 24, 35, 24, 24, 26, 65, 55, 26, 26, 28, 24, 54, 46, 54, 62, 24, 43, 26, 27, 24, 41, 47, 35, 30, 33, 36, 47, 38, 44, 23, 29, 42, 25, 48, 21, 23, 63, 46, 29, 28, 23, 50, 47, 35, 68, 28, 59, 57, 33, 43, 35, 32, 45, 33, 40, 28, 29, 26, 27, 28, 35, 32, 25, 20, 27, 42, 37, 24, 40, 46, 26, 24, 29, 40, 36, 28, 27, 36, 38, 48, 36, 65, 43, 53, 34, 23, 34, 40, 43, 46, 38, 34, 29, 31, 28, 35, 33, 42, 43, 44, 42, 40, 36, 20, 24, 27, 46, 33, 34, 25, 25, 28, 31, 32, 32, 68, 33, 39, 28, 37, 22, 30, 55, 46, 21, 39, 58, 43, 24, 22, 30, 42, 23, 30, 28, 30, 42, 46, 45, 31, 31, 42, 46, 30, 30, 38, 43, 31, 40, 24, 28, 26, 29, 57, 49, 37, 45, 30, 30, 47, 29, 35, 22, 26, 23, 54, 29, 40, 22, 43, 29, 36, 33, 57, 64, 42, 47, 25, 49, 33, 28, 26, 30, 25, 33, 64, 29, 48, 37, 34, 23, 30, 50, 31, 40, 38, 23, 27], \"coloraxis\": \"coloraxis\", \"size\": [1169, 5951, 2096, 7882, 4870, 9055, 2835, 6948, 3059, 5234, 1295, 4308, 1567, 1199, 1403, 1282, 2424, 8072, 12579, 3430, 2134, 2647, 2241, 1804, 2069, 1374, 426, 409, 2415, 6836, 1913, 4020, 5866, 1264, 1474, 4746, 6110, 2100, 1225, 458, 2333, 1158, 6204, 6187, 6143, 1393, 2299, 1352, 7228, 2073, 2333, 5965, 1262, 3378, 2225, 783, 6468, 9566, 1961, 6229, 1391, 1537, 1953, 14421, 3181, 5190, 2171, 1007, 1819, 2394, 8133, 730, 1164, 5954, 1977, 1526, 3965, 4771, 9436, 3832, 5943, 1213, 1568, 1755, 2315, 1412, 1295, 12612, 2249, 1108, 618, 1409, 797, 3617, 1318, 15945, 2012, 2622, 2337, 7057, 1469, 2323, 932, 1919, 2445, 11938, 6458, 6078, 7721, 1410, 1449, 392, 6260, 7855, 1680, 3578, 7174, 2132, 4281, 2366, 1835, 3868, 1768, 781, 1924, 2121, 701, 639, 1860, 3499, 8487, 6887, 2708, 1984, 10144, 1240, 8613, 766, 2728, 1881, 709, 4795, 3416, 2462, 2288, 3566, 860, 682, 5371, 1582, 1346, 1924, 5848, 7758, 6967, 1282, 1288, 339, 3512, 1898, 2872, 1055, 1262, 7308, 909, 2978, 1131, 1577, 3972, 1935, 950, 763, 2064, 1414, 3414, 7485, 2577, 338, 1963, 571, 9572, 4455, 1647, 3777, 884, 1360, 5129, 1175, 674, 3244, 4591, 3844, 3915, 2108, 3031, 1501, 1382, 951, 2760, 4297, 936, 1168, 5117, 902, 1495, 10623, 1935, 1424, 6568, 1413, 3074, 3835, 5293, 1908, 3342, 932, 3104, 3913, 3021, 1364, 625, 1200, 707, 2978, 4657, 2613, 10961, 7865, 1478, 3149, 4210, 2507, 2141, 866, 1544, 1823, 14555, 2767, 1291, 2522, 915, 1595, 4605, 1185, 3447, 1258, 717, 1204, 1925, 433, 666, 2251, 2150, 4151, 2030, 7418, 2684, 2149, 3812, 1154, 1657, 1603, 5302, 2748, 1231, 802, 6304, 1533, 8978, 999, 2662, 1402, 12169, 3060, 11998, 2697, 2404, 1262, 4611, 1901, 3368, 1574, 1445, 1520, 3878, 10722, 4788, 7582, 1092, 1024, 1076, 9398, 6419, 4796, 7629, 9960, 4675, 1287, 2515, 2745, 672, 3804, 1344, 1038, 10127, 1543, 4811, 727, 1237, 276, 5381, 5511, 3749, 685, 1494, 2746, 708, 4351, 701, 3643, 4249, 1938, 2910, 2659, 1028, 3398, 5801, 1525, 4473, 1068, 6615, 1864, 7408, 11590, 4110, 3384, 2101, 1275, 4169, 1521, 5743, 3599, 3213, 4439, 3949, 1459, 882, 3758, 1743, 1136, 1236, 959, 3229, 6199, 727, 1246, 2331, 4463, 776, 2406, 1239, 3399, 2247, 1766, 2473, 1542, 3850, 3650, 3446, 3001, 3079, 6070, 2146, 13756, 14782, 7685, 2320, 846, 14318, 362, 2212, 12976, 1283, 1330, 4272, 2238, 1126, 7374, 2326, 1449, 1820, 983, 3249, 1957, 2406, 11760, 2578, 2348, 1223, 1516, 1473, 1887, 8648, 802, 2899, 2039, 2197, 1053, 3235, 939, 1967, 7253, 2292, 1597, 1381, 5842, 2579, 8471, 2782, 1042, 3186, 2028, 958, 1591, 2762, 2779, 2743, 1149, 1313, 1190, 3448, 11328, 1872, 2058, 2136, 1484, 660, 1287, 3394, 609, 1884, 1620, 2629, 719, 5096, 1244, 1842, 2576, 1424, 1512, 11054, 518, 2759, 2670, 4817, 2679, 3905, 3386, 343, 4594, 3620, 1721, 3017, 754, 1950, 2924, 1659, 7238, 2764, 4679, 3092, 448, 654, 1238, 1245, 3114, 2569, 5152, 1037, 1478, 3573, 1201, 3622, 960, 1163, 1209, 3077, 3757, 1418, 3518, 1934, 8318, 1237, 368, 2122, 2996, 9034, 1585, 1301, 1323, 3123, 5493, 1126, 1216, 1207, 1309, 2360, 6850, 1413, 8588, 759, 4686, 2687, 585, 2255, 609, 1361, 7127, 1203, 700, 5507, 3190, 7119, 3488, 1113, 7966, 1532, 1503, 2302, 662, 2273, 2631, 1503, 1311, 3105, 2319, 1374, 3612, 7763, 3049, 1534, 2032, 6350, 2864, 1255, 1333, 2022, 1552, 626, 8858, 996, 1750, 6999, 1995, 1199, 1331, 2278, 5003, 3552, 1928, 2964, 1546, 683, 12389, 4712, 1553, 1372, 2578, 3979, 6758, 3234, 5954, 5433, 806, 1082, 2788, 2930, 1927, 2820, 937, 1056, 3124, 1388, 2384, 2133, 2039, 2799, 1289, 1217, 2246, 385, 1965, 1572, 2718, 1358, 931, 1442, 4241, 2775, 3863, 2329, 918, 1837, 3349, 1275, 2828, 4526, 2671, 2051, 1300, 741, 1240, 3357, 3632, 1808, 12204, 9157, 3676, 3441, 640, 3652, 1530, 3914, 1858, 2600, 1979, 2116, 1437, 4042, 3832, 3660, 1553, 1444, 1980, 1355, 1393, 1376, 15653, 1493, 4370, 750, 1308, 4623, 1851, 1880, 7980, 4583, 1386, 947, 684, 7476, 1922, 2303, 8086, 2346, 3973, 888, 10222, 4221, 6361, 1297, 900, 2241, 1050, 1047, 6314, 3496, 3609, 4843, 3017, 4139, 5742, 10366, 2080, 2580, 4530, 5150, 5595, 2384, 1453, 1538, 2279, 1478, 5103, 9857, 6527, 1347, 2862, 2753, 3651, 975, 2631, 2896, 4716, 2284, 1236, 1103, 926, 1800, 1905, 1123, 6331, 1377, 2503, 2528, 5324, 6560, 2969, 1206, 2118, 629, 1198, 2476, 1138, 14027, 7596, 3077, 1505, 3148, 6148, 1337, 433, 1228, 790, 2570, 250, 1316, 1882, 6416, 1275, 6403, 1987, 760, 2603, 3380, 3990, 11560, 4380, 6761, 4280, 2325, 1048, 3160, 2483, 14179, 1797, 2511, 1274, 5248, 3029, 428, 976, 841, 5771, 1555, 1285, 1299, 1271, 1393, 691, 5045, 2124, 2214, 12680, 2463, 1155, 3108, 2901, 3617, 1655, 2812, 8065, 3275, 2223, 1480, 1371, 3535, 3509, 5711, 3872, 4933, 1940, 1410, 836, 6468, 1941, 2675, 2751, 6224, 5998, 1188, 6313, 1221, 2892, 3062, 2301, 7511, 1258, 717, 1549, 1597, 1795, 4272, 976, 7472, 9271, 590, 930, 9283, 1778, 907, 484, 9629, 3051, 3931, 7432, 1338, 1554, 15857, 1345, 1101, 3016, 2712, 731, 3780, 1602, 3966, 4165, 8335, 6681, 2375, 1216, 11816, 5084, 2327, 1082, 886, 601, 2957, 2611, 5179, 2993, 1943, 1559, 3422, 3976, 6761, 1249, 1364, 709, 2235, 4042, 1471, 1442, 10875, 1474, 894, 3343, 3959, 3577, 5804, 2169, 2439, 4526, 2210, 2221, 2389, 3331, 7409, 652, 7678, 1343, 1382, 874, 3590, 1322, 1940, 3595, 1422, 6742, 7814, 9277, 2181, 1098, 4057, 795, 2825, 15672, 6614, 7824, 2442, 1829, 2171, 5800, 1169, 8947, 2606, 1592, 2186, 4153, 2625, 3485, 10477, 1386, 1278, 1107, 3763, 3711, 3594, 3195, 4454, 4736, 2991, 2142, 3161, 18424, 2848, 14896, 2359, 3345, 1817, 12749, 1366, 2002, 6872, 697, 1049, 10297, 1867, 1344, 1747, 1670, 1224, 522, 1498, 1919, 745, 2063, 6288, 6842, 3527, 1546, 929, 1455, 1845, 8358, 3349, 2859, 1533, 3621, 3590, 2145, 4113, 10974, 1893, 1231, 3656, 1154, 4006, 3069, 1740, 2353, 3556, 2397, 454, 1715, 2520, 3568, 7166, 3939, 1514, 7393, 1193, 7297, 2831, 1258, 753, 2427, 2538, 1264, 8386, 4844, 2923, 8229, 2028, 1433, 6289, 1409, 6579, 1743, 3565, 1569, 1936, 3959, 2390, 1736, 3857, 804, 1845, 4576], \"sizemode\": \"area\", \"sizeref\": 46.06, \"symbol\": \"circle\"}, \"mode\": \"markers\", \"name\": \"\", \"orientation\": \"v\", \"showlegend\": false, \"type\": \"scatter\", \"x\": [6, 48, 12, 42, 24, 36, 24, 36, 12, 30, 12, 48, 12, 24, 15, 24, 24, 30, 24, 24, 9, 6, 10, 12, 10, 6, 6, 12, 7, 60, 18, 24, 18, 12, 12, 45, 48, 18, 10, 9, 30, 12, 18, 30, 48, 11, 36, 6, 11, 12, 24, 27, 12, 18, 36, 6, 12, 36, 18, 36, 9, 15, 36, 48, 24, 27, 12, 12, 36, 36, 36, 7, 8, 42, 36, 12, 42, 11, 54, 30, 24, 15, 18, 24, 10, 12, 18, 36, 18, 12, 12, 12, 12, 24, 12, 54, 12, 18, 36, 20, 24, 36, 6, 9, 12, 24, 18, 12, 24, 14, 6, 15, 18, 36, 12, 48, 42, 10, 33, 12, 21, 24, 12, 10, 18, 12, 12, 12, 12, 12, 48, 36, 15, 18, 60, 12, 27, 12, 15, 12, 6, 36, 27, 18, 21, 48, 6, 12, 36, 18, 6, 10, 36, 24, 24, 12, 9, 12, 24, 6, 24, 18, 15, 10, 36, 6, 18, 11, 24, 24, 15, 12, 24, 8, 21, 30, 12, 6, 12, 21, 36, 36, 21, 24, 18, 15, 9, 16, 12, 18, 24, 48, 27, 6, 45, 9, 6, 12, 24, 18, 9, 12, 27, 12, 12, 30, 12, 12, 24, 12, 9, 36, 27, 30, 36, 6, 18, 36, 24, 10, 12, 12, 12, 24, 15, 36, 48, 12, 9, 24, 36, 9, 12, 18, 4, 24, 6, 21, 12, 30, 24, 6, 48, 12, 12, 24, 12, 6, 24, 18, 6, 12, 30, 24, 9, 60, 24, 12, 15, 11, 12, 24, 18, 12, 10, 15, 36, 24, 14, 24, 18, 12, 48, 48, 30, 9, 18, 12, 6, 24, 15, 12, 18, 15, 24, 47, 48, 48, 12, 24, 12, 36, 24, 42, 48, 48, 12, 10, 18, 21, 6, 36, 24, 10, 48, 6, 30, 12, 8, 9, 48, 24, 24, 12, 4, 36, 12, 24, 12, 15, 30, 24, 24, 18, 18, 8, 12, 24, 36, 6, 24, 18, 60, 48, 24, 6, 13, 15, 24, 10, 24, 21, 18, 18, 10, 15, 13, 24, 6, 9, 9, 9, 18, 12, 10, 24, 12, 36, 12, 30, 18, 12, 12, 6, 18, 12, 18, 18, 36, 18, 36, 18, 10, 60, 60, 48, 18, 7, 36, 6, 20, 18, 22, 12, 30, 18, 18, 18, 15, 9, 18, 12, 36, 6, 9, 39, 12, 36, 12, 24, 18, 18, 24, 14, 18, 24, 24, 15, 24, 12, 24, 33, 12, 10, 24, 36, 12, 18, 21, 18, 15, 12, 12, 21, 12, 18, 28, 18, 9, 18, 5, 24, 6, 24, 9, 12, 6, 24, 42, 12, 12, 12, 20, 12, 48, 9, 36, 7, 12, 15, 36, 6, 12, 24, 24, 24, 11, 12, 6, 18, 36, 15, 12, 12, 18, 24, 24, 48, 33, 24, 24, 6, 9, 6, 18, 18, 39, 24, 12, 15, 12, 24, 30, 15, 12, 6, 12, 24, 10, 6, 12, 27, 6, 6, 12, 24, 36, 24, 18, 6, 24, 36, 9, 24, 24, 10, 15, 15, 24, 39, 12, 36, 15, 12, 24, 6, 6, 36, 6, 6, 24, 18, 48, 24, 18, 26, 15, 4, 36, 6, 36, 15, 12, 24, 24, 21, 6, 18, 48, 18, 12, 24, 30, 18, 12, 24, 24, 24, 12, 48, 12, 6, 48, 12, 9, 12, 18, 21, 24, 18, 24, 24, 6, 36, 24, 24, 12, 24, 48, 48, 24, 30, 24, 15, 9, 15, 12, 24, 36, 24, 18, 12, 9, 36, 12, 18, 9, 12, 18, 12, 12, 24, 21, 24, 24, 6, 24, 24, 18, 24, 7, 9, 24, 36, 10, 24, 24, 36, 18, 15, 12, 10, 21, 24, 18, 48, 60, 6, 30, 12, 21, 18, 48, 12, 18, 15, 6, 9, 42, 9, 24, 18, 15, 9, 24, 12, 24, 60, 12, 42, 18, 15, 15, 24, 18, 36, 30, 12, 24, 12, 48, 12, 24, 36, 24, 14, 12, 48, 30, 18, 12, 12, 21, 6, 6, 24, 30, 48, 12, 30, 24, 36, 60, 6, 21, 30, 24, 72, 24, 18, 6, 12, 15, 24, 36, 60, 10, 36, 9, 12, 15, 15, 24, 6, 24, 6, 12, 12, 18, 15, 12, 48, 24, 30, 27, 15, 48, 12, 9, 9, 18, 6, 21, 9, 60, 30, 30, 18, 24, 20, 9, 6, 12, 9, 27, 6, 15, 18, 48, 24, 24, 24, 8, 24, 4, 36, 24, 18, 6, 30, 24, 10, 21, 24, 39, 13, 15, 12, 21, 15, 6, 18, 12, 30, 12, 24, 6, 15, 24, 12, 15, 18, 12, 21, 24, 12, 30, 10, 12, 12, 24, 36, 21, 24, 12, 24, 36, 18, 36, 18, 39, 24, 12, 12, 20, 18, 22, 48, 48, 40, 21, 24, 6, 24, 24, 9, 18, 12, 24, 9, 24, 18, 20, 12, 12, 36, 6, 12, 42, 15, 8, 6, 36, 48, 48, 36, 6, 6, 36, 18, 12, 12, 36, 8, 18, 21, 18, 18, 36, 48, 24, 18, 45, 24, 15, 12, 12, 4, 24, 24, 36, 21, 18, 24, 18, 21, 18, 24, 9, 12, 20, 24, 15, 18, 36, 24, 10, 15, 15, 9, 24, 18, 24, 27, 10, 15, 18, 12, 36, 12, 36, 6, 24, 15, 12, 11, 18, 36, 9, 30, 24, 24, 30, 18, 24, 12, 24, 48, 36, 28, 27, 15, 12, 36, 18, 36, 21, 12, 15, 18, 16, 20, 36, 15, 24, 12, 21, 36, 15, 9, 36, 24, 30, 11, 24, 48, 10, 6, 24, 24, 18, 48, 9, 12, 24, 12, 18, 48, 30, 12, 24, 9, 9, 12, 12, 30, 9, 6, 60, 24, 12, 10, 24, 4, 15, 48, 24, 12, 18, 24, 18, 36, 24, 36, 12, 24, 30, 9, 28, 24, 6, 21, 15, 24, 6, 30, 27, 15, 42, 11, 15, 24, 24, 60, 30, 24, 6, 18, 24, 15, 30, 48, 21, 36, 24, 15, 42, 13, 24, 24, 12, 15, 18, 36, 12, 12, 30, 12, 45, 45], \"xaxis\": \"x\", \"y\": [1169, 5951, 2096, 7882, 4870, 9055, 2835, 6948, 3059, 5234, 1295, 4308, 1567, 1199, 1403, 1282, 2424, 8072, 12579, 3430, 2134, 2647, 2241, 1804, 2069, 1374, 426, 409, 2415, 6836, 1913, 4020, 5866, 1264, 1474, 4746, 6110, 2100, 1225, 458, 2333, 1158, 6204, 6187, 6143, 1393, 2299, 1352, 7228, 2073, 2333, 5965, 1262, 3378, 2225, 783, 6468, 9566, 1961, 6229, 1391, 1537, 1953, 14421, 3181, 5190, 2171, 1007, 1819, 2394, 8133, 730, 1164, 5954, 1977, 1526, 3965, 4771, 9436, 3832, 5943, 1213, 1568, 1755, 2315, 1412, 1295, 12612, 2249, 1108, 618, 1409, 797, 3617, 1318, 15945, 2012, 2622, 2337, 7057, 1469, 2323, 932, 1919, 2445, 11938, 6458, 6078, 7721, 1410, 1449, 392, 6260, 7855, 1680, 3578, 7174, 2132, 4281, 2366, 1835, 3868, 1768, 781, 1924, 2121, 701, 639, 1860, 3499, 8487, 6887, 2708, 1984, 10144, 1240, 8613, 766, 2728, 1881, 709, 4795, 3416, 2462, 2288, 3566, 860, 682, 5371, 1582, 1346, 1924, 5848, 7758, 6967, 1282, 1288, 339, 3512, 1898, 2872, 1055, 1262, 7308, 909, 2978, 1131, 1577, 3972, 1935, 950, 763, 2064, 1414, 3414, 7485, 2577, 338, 1963, 571, 9572, 4455, 1647, 3777, 884, 1360, 5129, 1175, 674, 3244, 4591, 3844, 3915, 2108, 3031, 1501, 1382, 951, 2760, 4297, 936, 1168, 5117, 902, 1495, 10623, 1935, 1424, 6568, 1413, 3074, 3835, 5293, 1908, 3342, 932, 3104, 3913, 3021, 1364, 625, 1200, 707, 2978, 4657, 2613, 10961, 7865, 1478, 3149, 4210, 2507, 2141, 866, 1544, 1823, 14555, 2767, 1291, 2522, 915, 1595, 4605, 1185, 3447, 1258, 717, 1204, 1925, 433, 666, 2251, 2150, 4151, 2030, 7418, 2684, 2149, 3812, 1154, 1657, 1603, 5302, 2748, 1231, 802, 6304, 1533, 8978, 999, 2662, 1402, 12169, 3060, 11998, 2697, 2404, 1262, 4611, 1901, 3368, 1574, 1445, 1520, 3878, 10722, 4788, 7582, 1092, 1024, 1076, 9398, 6419, 4796, 7629, 9960, 4675, 1287, 2515, 2745, 672, 3804, 1344, 1038, 10127, 1543, 4811, 727, 1237, 276, 5381, 5511, 3749, 685, 1494, 2746, 708, 4351, 701, 3643, 4249, 1938, 2910, 2659, 1028, 3398, 5801, 1525, 4473, 1068, 6615, 1864, 7408, 11590, 4110, 3384, 2101, 1275, 4169, 1521, 5743, 3599, 3213, 4439, 3949, 1459, 882, 3758, 1743, 1136, 1236, 959, 3229, 6199, 727, 1246, 2331, 4463, 776, 2406, 1239, 3399, 2247, 1766, 2473, 1542, 3850, 3650, 3446, 3001, 3079, 6070, 2146, 13756, 14782, 7685, 2320, 846, 14318, 362, 2212, 12976, 1283, 1330, 4272, 2238, 1126, 7374, 2326, 1449, 1820, 983, 3249, 1957, 2406, 11760, 2578, 2348, 1223, 1516, 1473, 1887, 8648, 802, 2899, 2039, 2197, 1053, 3235, 939, 1967, 7253, 2292, 1597, 1381, 5842, 2579, 8471, 2782, 1042, 3186, 2028, 958, 1591, 2762, 2779, 2743, 1149, 1313, 1190, 3448, 11328, 1872, 2058, 2136, 1484, 660, 1287, 3394, 609, 1884, 1620, 2629, 719, 5096, 1244, 1842, 2576, 1424, 1512, 11054, 518, 2759, 2670, 4817, 2679, 3905, 3386, 343, 4594, 3620, 1721, 3017, 754, 1950, 2924, 1659, 7238, 2764, 4679, 3092, 448, 654, 1238, 1245, 3114, 2569, 5152, 1037, 1478, 3573, 1201, 3622, 960, 1163, 1209, 3077, 3757, 1418, 3518, 1934, 8318, 1237, 368, 2122, 2996, 9034, 1585, 1301, 1323, 3123, 5493, 1126, 1216, 1207, 1309, 2360, 6850, 1413, 8588, 759, 4686, 2687, 585, 2255, 609, 1361, 7127, 1203, 700, 5507, 3190, 7119, 3488, 1113, 7966, 1532, 1503, 2302, 662, 2273, 2631, 1503, 1311, 3105, 2319, 1374, 3612, 7763, 3049, 1534, 2032, 6350, 2864, 1255, 1333, 2022, 1552, 626, 8858, 996, 1750, 6999, 1995, 1199, 1331, 2278, 5003, 3552, 1928, 2964, 1546, 683, 12389, 4712, 1553, 1372, 2578, 3979, 6758, 3234, 5954, 5433, 806, 1082, 2788, 2930, 1927, 2820, 937, 1056, 3124, 1388, 2384, 2133, 2039, 2799, 1289, 1217, 2246, 385, 1965, 1572, 2718, 1358, 931, 1442, 4241, 2775, 3863, 2329, 918, 1837, 3349, 1275, 2828, 4526, 2671, 2051, 1300, 741, 1240, 3357, 3632, 1808, 12204, 9157, 3676, 3441, 640, 3652, 1530, 3914, 1858, 2600, 1979, 2116, 1437, 4042, 3832, 3660, 1553, 1444, 1980, 1355, 1393, 1376, 15653, 1493, 4370, 750, 1308, 4623, 1851, 1880, 7980, 4583, 1386, 947, 684, 7476, 1922, 2303, 8086, 2346, 3973, 888, 10222, 4221, 6361, 1297, 900, 2241, 1050, 1047, 6314, 3496, 3609, 4843, 3017, 4139, 5742, 10366, 2080, 2580, 4530, 5150, 5595, 2384, 1453, 1538, 2279, 1478, 5103, 9857, 6527, 1347, 2862, 2753, 3651, 975, 2631, 2896, 4716, 2284, 1236, 1103, 926, 1800, 1905, 1123, 6331, 1377, 2503, 2528, 5324, 6560, 2969, 1206, 2118, 629, 1198, 2476, 1138, 14027, 7596, 3077, 1505, 3148, 6148, 1337, 433, 1228, 790, 2570, 250, 1316, 1882, 6416, 1275, 6403, 1987, 760, 2603, 3380, 3990, 11560, 4380, 6761, 4280, 2325, 1048, 3160, 2483, 14179, 1797, 2511, 1274, 5248, 3029, 428, 976, 841, 5771, 1555, 1285, 1299, 1271, 1393, 691, 5045, 2124, 2214, 12680, 2463, 1155, 3108, 2901, 3617, 1655, 2812, 8065, 3275, 2223, 1480, 1371, 3535, 3509, 5711, 3872, 4933, 1940, 1410, 836, 6468, 1941, 2675, 2751, 6224, 5998, 1188, 6313, 1221, 2892, 3062, 2301, 7511, 1258, 717, 1549, 1597, 1795, 4272, 976, 7472, 9271, 590, 930, 9283, 1778, 907, 484, 9629, 3051, 3931, 7432, 1338, 1554, 15857, 1345, 1101, 3016, 2712, 731, 3780, 1602, 3966, 4165, 8335, 6681, 2375, 1216, 11816, 5084, 2327, 1082, 886, 601, 2957, 2611, 5179, 2993, 1943, 1559, 3422, 3976, 6761, 1249, 1364, 709, 2235, 4042, 1471, 1442, 10875, 1474, 894, 3343, 3959, 3577, 5804, 2169, 2439, 4526, 2210, 2221, 2389, 3331, 7409, 652, 7678, 1343, 1382, 874, 3590, 1322, 1940, 3595, 1422, 6742, 7814, 9277, 2181, 1098, 4057, 795, 2825, 15672, 6614, 7824, 2442, 1829, 2171, 5800, 1169, 8947, 2606, 1592, 2186, 4153, 2625, 3485, 10477, 1386, 1278, 1107, 3763, 3711, 3594, 3195, 4454, 4736, 2991, 2142, 3161, 18424, 2848, 14896, 2359, 3345, 1817, 12749, 1366, 2002, 6872, 697, 1049, 10297, 1867, 1344, 1747, 1670, 1224, 522, 1498, 1919, 745, 2063, 6288, 6842, 3527, 1546, 929, 1455, 1845, 8358, 3349, 2859, 1533, 3621, 3590, 2145, 4113, 10974, 1893, 1231, 3656, 1154, 4006, 3069, 1740, 2353, 3556, 2397, 454, 1715, 2520, 3568, 7166, 3939, 1514, 7393, 1193, 7297, 2831, 1258, 753, 2427, 2538, 1264, 8386, 4844, 2923, 8229, 2028, 1433, 6289, 1409, 6579, 1743, 3565, 1569, 1936, 3959, 2390, 1736, 3857, 804, 1845, 4576], \"yaxis\": \"y\"}],                        {\"coloraxis\": {\"colorbar\": {\"title\": {\"text\": \"age\"}}, \"colorscale\": [[0.0, \"#0d0887\"], [0.1111111111111111, \"#46039f\"], [0.2222222222222222, \"#7201a8\"], [0.3333333333333333, \"#9c179e\"], [0.4444444444444444, \"#bd3786\"], [0.5555555555555556, \"#d8576b\"], [0.6666666666666666, \"#ed7953\"], [0.7777777777777778, \"#fb9f3a\"], [0.8888888888888888, \"#fdca26\"], [1.0, \"#f0f921\"]]}, \"legend\": {\"itemsizing\": \"constant\", \"tracegroupgap\": 0}, \"margin\": {\"t\": 60}, \"template\": {\"data\": {\"bar\": [{\"error_x\": {\"color\": \"#2a3f5f\"}, \"error_y\": {\"color\": \"#2a3f5f\"}, \"marker\": {\"line\": {\"color\": \"#E5ECF6\", \"width\": 0.5}}, \"type\": \"bar\"}], \"barpolar\": [{\"marker\": {\"line\": {\"color\": \"#E5ECF6\", \"width\": 0.5}}, \"type\": \"barpolar\"}], \"carpet\": [{\"aaxis\": {\"endlinecolor\": \"#2a3f5f\", \"gridcolor\": \"white\", \"linecolor\": \"white\", \"minorgridcolor\": \"white\", \"startlinecolor\": \"#2a3f5f\"}, \"baxis\": {\"endlinecolor\": \"#2a3f5f\", \"gridcolor\": \"white\", \"linecolor\": \"white\", \"minorgridcolor\": \"white\", \"startlinecolor\": \"#2a3f5f\"}, \"type\": \"carpet\"}], \"choropleth\": [{\"colorbar\": {\"outlinewidth\": 0, \"ticks\": \"\"}, \"type\": \"choropleth\"}], \"contour\": [{\"colorbar\": {\"outlinewidth\": 0, \"ticks\": \"\"}, \"colorscale\": [[0.0, \"#0d0887\"], [0.1111111111111111, \"#46039f\"], [0.2222222222222222, \"#7201a8\"], [0.3333333333333333, \"#9c179e\"], [0.4444444444444444, \"#bd3786\"], [0.5555555555555556, \"#d8576b\"], [0.6666666666666666, \"#ed7953\"], [0.7777777777777778, \"#fb9f3a\"], [0.8888888888888888, \"#fdca26\"], [1.0, \"#f0f921\"]], \"type\": \"contour\"}], \"contourcarpet\": [{\"colorbar\": {\"outlinewidth\": 0, \"ticks\": \"\"}, \"type\": \"contourcarpet\"}], \"heatmap\": [{\"colorbar\": {\"outlinewidth\": 0, \"ticks\": \"\"}, \"colorscale\": [[0.0, \"#0d0887\"], [0.1111111111111111, \"#46039f\"], [0.2222222222222222, \"#7201a8\"], [0.3333333333333333, \"#9c179e\"], [0.4444444444444444, \"#bd3786\"], [0.5555555555555556, \"#d8576b\"], [0.6666666666666666, \"#ed7953\"], [0.7777777777777778, \"#fb9f3a\"], [0.8888888888888888, \"#fdca26\"], [1.0, \"#f0f921\"]], \"type\": \"heatmap\"}], \"heatmapgl\": [{\"colorbar\": {\"outlinewidth\": 0, \"ticks\": \"\"}, \"colorscale\": [[0.0, \"#0d0887\"], [0.1111111111111111, \"#46039f\"], [0.2222222222222222, \"#7201a8\"], [0.3333333333333333, \"#9c179e\"], [0.4444444444444444, \"#bd3786\"], [0.5555555555555556, \"#d8576b\"], [0.6666666666666666, \"#ed7953\"], [0.7777777777777778, \"#fb9f3a\"], [0.8888888888888888, \"#fdca26\"], [1.0, \"#f0f921\"]], \"type\": \"heatmapgl\"}], \"histogram\": [{\"marker\": {\"colorbar\": {\"outlinewidth\": 0, \"ticks\": \"\"}}, \"type\": \"histogram\"}], \"histogram2d\": [{\"colorbar\": {\"outlinewidth\": 0, \"ticks\": \"\"}, \"colorscale\": [[0.0, \"#0d0887\"], [0.1111111111111111, \"#46039f\"], [0.2222222222222222, \"#7201a8\"], [0.3333333333333333, \"#9c179e\"], [0.4444444444444444, \"#bd3786\"], [0.5555555555555556, \"#d8576b\"], [0.6666666666666666, \"#ed7953\"], [0.7777777777777778, \"#fb9f3a\"], [0.8888888888888888, \"#fdca26\"], [1.0, \"#f0f921\"]], \"type\": \"histogram2d\"}], \"histogram2dcontour\": [{\"colorbar\": {\"outlinewidth\": 0, \"ticks\": \"\"}, \"colorscale\": [[0.0, \"#0d0887\"], [0.1111111111111111, \"#46039f\"], [0.2222222222222222, \"#7201a8\"], [0.3333333333333333, \"#9c179e\"], [0.4444444444444444, \"#bd3786\"], [0.5555555555555556, \"#d8576b\"], [0.6666666666666666, \"#ed7953\"], [0.7777777777777778, \"#fb9f3a\"], [0.8888888888888888, \"#fdca26\"], [1.0, \"#f0f921\"]], \"type\": \"histogram2dcontour\"}], \"mesh3d\": [{\"colorbar\": {\"outlinewidth\": 0, \"ticks\": \"\"}, \"type\": \"mesh3d\"}], \"parcoords\": [{\"line\": {\"colorbar\": {\"outlinewidth\": 0, \"ticks\": \"\"}}, \"type\": \"parcoords\"}], \"pie\": [{\"automargin\": true, \"type\": \"pie\"}], \"scatter\": [{\"marker\": {\"colorbar\": {\"outlinewidth\": 0, \"ticks\": \"\"}}, \"type\": \"scatter\"}], \"scatter3d\": [{\"line\": {\"colorbar\": {\"outlinewidth\": 0, \"ticks\": \"\"}}, \"marker\": {\"colorbar\": {\"outlinewidth\": 0, \"ticks\": \"\"}}, \"type\": \"scatter3d\"}], \"scattercarpet\": [{\"marker\": {\"colorbar\": {\"outlinewidth\": 0, \"ticks\": \"\"}}, \"type\": \"scattercarpet\"}], \"scattergeo\": [{\"marker\": {\"colorbar\": {\"outlinewidth\": 0, \"ticks\": \"\"}}, \"type\": \"scattergeo\"}], \"scattergl\": [{\"marker\": {\"colorbar\": {\"outlinewidth\": 0, \"ticks\": \"\"}}, \"type\": \"scattergl\"}], \"scattermapbox\": [{\"marker\": {\"colorbar\": {\"outlinewidth\": 0, \"ticks\": \"\"}}, \"type\": \"scattermapbox\"}], \"scatterpolar\": [{\"marker\": {\"colorbar\": {\"outlinewidth\": 0, \"ticks\": \"\"}}, \"type\": \"scatterpolar\"}], \"scatterpolargl\": [{\"marker\": {\"colorbar\": {\"outlinewidth\": 0, \"ticks\": \"\"}}, \"type\": \"scatterpolargl\"}], \"scatterternary\": [{\"marker\": {\"colorbar\": {\"outlinewidth\": 0, \"ticks\": \"\"}}, \"type\": \"scatterternary\"}], \"surface\": [{\"colorbar\": {\"outlinewidth\": 0, \"ticks\": \"\"}, \"colorscale\": [[0.0, \"#0d0887\"], [0.1111111111111111, \"#46039f\"], [0.2222222222222222, \"#7201a8\"], [0.3333333333333333, \"#9c179e\"], [0.4444444444444444, \"#bd3786\"], [0.5555555555555556, \"#d8576b\"], [0.6666666666666666, \"#ed7953\"], [0.7777777777777778, \"#fb9f3a\"], [0.8888888888888888, \"#fdca26\"], [1.0, \"#f0f921\"]], \"type\": \"surface\"}], \"table\": [{\"cells\": {\"fill\": {\"color\": \"#EBF0F8\"}, \"line\": {\"color\": \"white\"}}, \"header\": {\"fill\": {\"color\": \"#C8D4E3\"}, \"line\": {\"color\": \"white\"}}, \"type\": \"table\"}]}, \"layout\": {\"annotationdefaults\": {\"arrowcolor\": \"#2a3f5f\", \"arrowhead\": 0, \"arrowwidth\": 1}, \"coloraxis\": {\"colorbar\": {\"outlinewidth\": 0, \"ticks\": \"\"}}, \"colorscale\": {\"diverging\": [[0, \"#8e0152\"], [0.1, \"#c51b7d\"], [0.2, \"#de77ae\"], [0.3, \"#f1b6da\"], [0.4, \"#fde0ef\"], [0.5, \"#f7f7f7\"], [0.6, \"#e6f5d0\"], [0.7, \"#b8e186\"], [0.8, \"#7fbc41\"], [0.9, \"#4d9221\"], [1, \"#276419\"]], \"sequential\": [[0.0, \"#0d0887\"], [0.1111111111111111, \"#46039f\"], [0.2222222222222222, \"#7201a8\"], [0.3333333333333333, \"#9c179e\"], [0.4444444444444444, \"#bd3786\"], [0.5555555555555556, \"#d8576b\"], [0.6666666666666666, \"#ed7953\"], [0.7777777777777778, \"#fb9f3a\"], [0.8888888888888888, \"#fdca26\"], [1.0, \"#f0f921\"]], \"sequentialminus\": [[0.0, \"#0d0887\"], [0.1111111111111111, \"#46039f\"], [0.2222222222222222, \"#7201a8\"], [0.3333333333333333, \"#9c179e\"], [0.4444444444444444, \"#bd3786\"], [0.5555555555555556, \"#d8576b\"], [0.6666666666666666, \"#ed7953\"], [0.7777777777777778, \"#fb9f3a\"], [0.8888888888888888, \"#fdca26\"], [1.0, \"#f0f921\"]]}, \"colorway\": [\"#636efa\", \"#EF553B\", \"#00cc96\", \"#ab63fa\", \"#FFA15A\", \"#19d3f3\", \"#FF6692\", \"#B6E880\", \"#FF97FF\", \"#FECB52\"], \"font\": {\"color\": \"#2a3f5f\"}, \"geo\": {\"bgcolor\": \"white\", \"lakecolor\": \"white\", \"landcolor\": \"#E5ECF6\", \"showlakes\": true, \"showland\": true, \"subunitcolor\": \"white\"}, \"hoverlabel\": {\"align\": \"left\"}, \"hovermode\": \"closest\", \"mapbox\": {\"style\": \"light\"}, \"paper_bgcolor\": \"white\", \"plot_bgcolor\": \"#E5ECF6\", \"polar\": {\"angularaxis\": {\"gridcolor\": \"white\", \"linecolor\": \"white\", \"ticks\": \"\"}, \"bgcolor\": \"#E5ECF6\", \"radialaxis\": {\"gridcolor\": \"white\", \"linecolor\": \"white\", \"ticks\": \"\"}}, \"scene\": {\"xaxis\": {\"backgroundcolor\": \"#E5ECF6\", \"gridcolor\": \"white\", \"gridwidth\": 2, \"linecolor\": \"white\", \"showbackground\": true, \"ticks\": \"\", \"zerolinecolor\": \"white\"}, \"yaxis\": {\"backgroundcolor\": \"#E5ECF6\", \"gridcolor\": \"white\", \"gridwidth\": 2, \"linecolor\": \"white\", \"showbackground\": true, \"ticks\": \"\", \"zerolinecolor\": \"white\"}, \"zaxis\": {\"backgroundcolor\": \"#E5ECF6\", \"gridcolor\": \"white\", \"gridwidth\": 2, \"linecolor\": \"white\", \"showbackground\": true, \"ticks\": \"\", \"zerolinecolor\": \"white\"}}, \"shapedefaults\": {\"line\": {\"color\": \"#2a3f5f\"}}, \"ternary\": {\"aaxis\": {\"gridcolor\": \"white\", \"linecolor\": \"white\", \"ticks\": \"\"}, \"baxis\": {\"gridcolor\": \"white\", \"linecolor\": \"white\", \"ticks\": \"\"}, \"bgcolor\": \"#E5ECF6\", \"caxis\": {\"gridcolor\": \"white\", \"linecolor\": \"white\", \"ticks\": \"\"}}, \"title\": {\"x\": 0.05}, \"xaxis\": {\"automargin\": true, \"gridcolor\": \"white\", \"linecolor\": \"white\", \"ticks\": \"\", \"title\": {\"standoff\": 15}, \"zerolinecolor\": \"white\", \"zerolinewidth\": 2}, \"yaxis\": {\"automargin\": true, \"gridcolor\": \"white\", \"linecolor\": \"white\", \"ticks\": \"\", \"title\": {\"standoff\": 15}, \"zerolinecolor\": \"white\", \"zerolinewidth\": 2}}}, \"xaxis\": {\"anchor\": \"y\", \"domain\": [0.0, 1.0], \"title\": {\"text\": \"credit_duration\"}}, \"yaxis\": {\"anchor\": \"x\", \"domain\": [0.0, 1.0], \"title\": {\"text\": \"credit_amount\"}}},                        {\"responsive\": true}                    ).then(function(){\n",
       "                            \n",
       "var gd = document.getElementById('e9be10e0-4a94-4ea9-a981-b68e1aeee7cd');\n",
       "var x = new MutationObserver(function (mutations, observer) {{\n",
       "        var display = window.getComputedStyle(gd).display;\n",
       "        if (!display || display === 'none') {{\n",
       "            console.log([gd, 'removed!']);\n",
       "            Plotly.purge(gd);\n",
       "            observer.disconnect();\n",
       "        }}\n",
       "}});\n",
       "\n",
       "// Listen for the removal of the full notebook cells\n",
       "var notebookContainer = gd.closest('#notebook-container');\n",
       "if (notebookContainer) {{\n",
       "    x.observe(notebookContainer, {childList: true});\n",
       "}}\n",
       "\n",
       "// Listen for the clearing of the current output cell\n",
       "var outputEl = gd.closest('.output');\n",
       "if (outputEl) {{\n",
       "    x.observe(outputEl, {childList: true});\n",
       "}}\n",
       "\n",
       "                        })                };                });            </script>        </div>"
      ]
     },
     "metadata": {},
     "output_type": "display_data"
    }
   ],
   "source": [
    "row = df[['credit_duration', 'credit_amount', 'age']]\n",
    "\n",
    "fig = px.scatter(df, x=df['credit_duration'], y=df['credit_amount'], color=df['age'],\n",
    "                 size=df['credit_amount'], hover_data=[df['credit_duration']])\n",
    "fig.show()\n",
    "\n",
    "# Conclusion\n",
    "# - In average the higest loan amount is taken from ~37 upto ~48 months \n",
    "#   by people in age group from 30 upto 45 years "
   ]
  },
  {
   "cell_type": "markdown",
   "metadata": {},
   "source": [
    "### Which purposes of credit are more frequent?\n",
    "    - What femaleS make loan more frequently for?\n",
    "    - What maleS make loan more frequently for?"
   ]
  },
  {
   "cell_type": "code",
   "execution_count": 294,
   "metadata": {},
   "outputs": [
    {
     "name": "stdout",
     "output_type": "stream",
     "text": [
      "The list of loans needs by desceding order: \n",
      " radio/television       280\n",
      "car (new)              234\n",
      "furniture/equipment    181\n",
      "car (used)             103\n",
      "business                97\n",
      "education               50\n",
      "repairs                 22\n",
      "others                  12\n",
      "domestic appliances     12\n",
      "retraining               9\n",
      "Name: credit_purpose, dtype: int64\n",
      "The list of loans needs for male gender by desceding order: \n",
      " radio/television       195\n",
      "car (new)              164\n",
      "furniture/equipment    107\n",
      "car (used)              79\n",
      "business                78\n",
      "education               29\n",
      "repairs                 17\n",
      "others                   9\n",
      "retraining               6\n",
      "domestic appliances      6\n",
      "Name: credit_purpose, dtype: int64\n",
      "The list of loans needs for female gender by desceding order: \n",
      " radio/television       85\n",
      "furniture/equipment    74\n",
      "car (new)              70\n",
      "car (used)             24\n",
      "education              21\n",
      "business               19\n",
      "domestic appliances     6\n",
      "repairs                 5\n",
      "retraining              3\n",
      "others                  3\n",
      "Name: credit_purpose, dtype: int64\n",
      "The list of loans needs for male gender by desceding order: \n",
      " radio/television       195\n",
      "car (new)              164\n",
      "furniture/equipment    107\n",
      "car (used)              79\n",
      "business                78\n",
      "education               29\n",
      "repairs                 17\n",
      "others                   9\n",
      "retraining               6\n",
      "domestic appliances      6\n",
      "Name: credit_purpose, dtype: int64\n",
      "The list of loans needs for female gender by desceding order: \n",
      " radio/television       85\n",
      "furniture/equipment    74\n",
      "car (new)              70\n",
      "car (used)             24\n",
      "education              21\n",
      "business               19\n",
      "domestic appliances     6\n",
      "repairs                 5\n",
      "retraining              3\n",
      "others                  3\n",
      "Name: credit_purpose, dtype: int64\n"
     ]
    },
    {
     "name": "stderr",
     "output_type": "stream",
     "text": [
      "/Users/macbook/miniconda3/envs/ML/lib/python3.6/site-packages/ipykernel_launcher.py:16: SettingWithCopyWarning:\n",
      "\n",
      "\n",
      "A value is trying to be set on a copy of a slice from a DataFrame.\n",
      "Try using .loc[row_indexer,col_indexer] = value instead\n",
      "\n",
      "See the caveats in the documentation: https://pandas.pydata.org/pandas-docs/stable/user_guide/indexing.html#returning-a-view-versus-a-copy\n",
      "\n"
     ]
    },
    {
     "data": {
      "application/vnd.plotly.v1+json": {
       "config": {
        "plotlyServerURL": "https://plot.ly"
       },
       "data": [
        {
         "customdata": [
          [
           "radio/television"
          ],
          [
           "radio/television"
          ],
          [
           "education"
          ],
          [
           "furniture/equipment"
          ],
          [
           "car (new)"
          ],
          [
           "education"
          ],
          [
           "furniture/equipment"
          ],
          [
           "car (used)"
          ],
          [
           "radio/television"
          ],
          [
           "car (new)"
          ],
          [
           "car (new)"
          ],
          [
           "business"
          ],
          [
           "radio/television"
          ],
          [
           "car (new)"
          ],
          [
           "car (new)"
          ],
          [
           "radio/television"
          ],
          [
           "radio/television"
          ],
          [
           "business"
          ],
          [
           "car (used)"
          ],
          [
           "radio/television"
          ],
          [
           "car (new)"
          ],
          [
           "radio/television"
          ],
          [
           "car (new)"
          ],
          [
           "car (used)"
          ],
          [
           "furniture/equipment"
          ],
          [
           "furniture/equipment"
          ],
          [
           "radio/television"
          ],
          [
           "radio/television"
          ],
          [
           "radio/television"
          ],
          [
           "business"
          ],
          [
           "business"
          ],
          [
           "furniture/equipment"
          ],
          [
           "car (new)"
          ],
          [
           "business"
          ],
          [
           "furniture/equipment"
          ],
          [
           "radio/television"
          ],
          [
           "education"
          ],
          [
           "radio/television"
          ],
          [
           "domestic appliances"
          ],
          [
           "radio/television"
          ],
          [
           "radio/television"
          ],
          [
           "radio/television"
          ],
          [
           "repairs"
          ],
          [
           "car (used)"
          ],
          [
           "car (used)"
          ],
          [
           "car (new)"
          ],
          [
           "radio/television"
          ],
          [
           "car (used)"
          ],
          [
           "car (new)"
          ],
          [
           "radio/television"
          ],
          [
           "furniture/equipment"
          ],
          [
           "car (used)"
          ],
          [
           "radio/television"
          ],
          [
           "car (used)"
          ],
          [
           "car (new)"
          ],
          [
           "car (new)"
          ],
          [
           "radio/television"
          ],
          [
           "radio/television"
          ],
          [
           "car (new)"
          ],
          [
           "furniture/equipment"
          ],
          [
           "business"
          ],
          [
           "radio/television"
          ],
          [
           "business"
          ],
          [
           "business"
          ],
          [
           "radio/television"
          ],
          [
           "repairs"
          ],
          [
           "radio/television"
          ],
          [
           "car (new)"
          ],
          [
           "education"
          ],
          [
           "radio/television"
          ],
          [
           "car (used)"
          ],
          [
           "radio/television"
          ],
          [
           "others"
          ],
          [
           "business"
          ],
          [
           "education"
          ],
          [
           "car (used)"
          ],
          [
           "radio/television"
          ],
          [
           "radio/television"
          ],
          [
           "car (used)"
          ],
          [
           "furniture/equipment"
          ],
          [
           "radio/television"
          ],
          [
           "radio/television"
          ],
          [
           "business"
          ],
          [
           "others"
          ],
          [
           "radio/television"
          ],
          [
           "business"
          ],
          [
           "furniture/equipment"
          ],
          [
           "education"
          ],
          [
           "car (new)"
          ],
          [
           "repairs"
          ],
          [
           "radio/television"
          ],
          [
           "car (used)"
          ],
          [
           "radio/television"
          ],
          [
           "furniture/equipment"
          ],
          [
           "car (new)"
          ],
          [
           "business"
          ],
          [
           "education"
          ],
          [
           "business"
          ],
          [
           "radio/television"
          ],
          [
           "car (used)"
          ],
          [
           "car (new)"
          ],
          [
           "radio/television"
          ],
          [
           "radio/television"
          ],
          [
           "furniture/equipment"
          ],
          [
           "car (used)"
          ],
          [
           "others"
          ],
          [
           "car (new)"
          ],
          [
           "car (new)"
          ],
          [
           "furniture/equipment"
          ],
          [
           "business"
          ],
          [
           "business"
          ],
          [
           "education"
          ],
          [
           "car (new)"
          ],
          [
           "car (new)"
          ],
          [
           "radio/television"
          ],
          [
           "radio/television"
          ],
          [
           "radio/television"
          ],
          [
           "furniture/equipment"
          ],
          [
           "furniture/equipment"
          ],
          [
           "car (new)"
          ],
          [
           "radio/television"
          ],
          [
           "car (used)"
          ],
          [
           "furniture/equipment"
          ],
          [
           "car (new)"
          ],
          [
           "furniture/equipment"
          ],
          [
           "car (new)"
          ],
          [
           "radio/television"
          ],
          [
           "repairs"
          ],
          [
           "car (used)"
          ],
          [
           "car (new)"
          ],
          [
           "car (new)"
          ],
          [
           "education"
          ],
          [
           "furniture/equipment"
          ],
          [
           "furniture/equipment"
          ],
          [
           "radio/television"
          ],
          [
           "radio/television"
          ],
          [
           "car (used)"
          ],
          [
           "radio/television"
          ],
          [
           "radio/television"
          ],
          [
           "radio/television"
          ],
          [
           "car (new)"
          ],
          [
           "radio/television"
          ],
          [
           "radio/television"
          ],
          [
           "furniture/equipment"
          ],
          [
           "furniture/equipment"
          ],
          [
           "business"
          ],
          [
           "car (new)"
          ],
          [
           "car (new)"
          ],
          [
           "furniture/equipment"
          ],
          [
           "radio/television"
          ],
          [
           "radio/television"
          ],
          [
           "radio/television"
          ],
          [
           "radio/television"
          ],
          [
           "car (used)"
          ],
          [
           "business"
          ],
          [
           "furniture/equipment"
          ],
          [
           "repairs"
          ],
          [
           "retraining"
          ],
          [
           "car (new)"
          ],
          [
           "radio/television"
          ],
          [
           "radio/television"
          ],
          [
           "car (new)"
          ],
          [
           "domestic appliances"
          ],
          [
           "car (new)"
          ],
          [
           "car (new)"
          ],
          [
           "furniture/equipment"
          ],
          [
           "furniture/equipment"
          ],
          [
           "furniture/equipment"
          ],
          [
           "furniture/equipment"
          ],
          [
           "business"
          ],
          [
           "car (new)"
          ],
          [
           "furniture/equipment"
          ],
          [
           "furniture/equipment"
          ],
          [
           "radio/television"
          ],
          [
           "education"
          ],
          [
           "car (used)"
          ],
          [
           "furniture/equipment"
          ],
          [
           "radio/television"
          ],
          [
           "radio/television"
          ],
          [
           "car (new)"
          ],
          [
           "business"
          ],
          [
           "business"
          ],
          [
           "car (new)"
          ],
          [
           "furniture/equipment"
          ],
          [
           "car (new)"
          ],
          [
           "radio/television"
          ],
          [
           "car (used)"
          ],
          [
           "car (new)"
          ],
          [
           "radio/television"
          ],
          [
           "furniture/equipment"
          ],
          [
           "business"
          ],
          [
           "business"
          ],
          [
           "business"
          ],
          [
           "radio/television"
          ],
          [
           "radio/television"
          ],
          [
           "education"
          ],
          [
           "radio/television"
          ],
          [
           "furniture/equipment"
          ],
          [
           "car (used)"
          ],
          [
           "furniture/equipment"
          ],
          [
           "education"
          ],
          [
           "car (new)"
          ],
          [
           "business"
          ],
          [
           "retraining"
          ],
          [
           "car (new)"
          ],
          [
           "car (used)"
          ],
          [
           "furniture/equipment"
          ],
          [
           "domestic appliances"
          ],
          [
           "business"
          ],
          [
           "car (used)"
          ],
          [
           "radio/television"
          ],
          [
           "radio/television"
          ],
          [
           "business"
          ],
          [
           "business"
          ],
          [
           "radio/television"
          ],
          [
           "retraining"
          ],
          [
           "business"
          ],
          [
           "radio/television"
          ],
          [
           "furniture/equipment"
          ],
          [
           "car (new)"
          ],
          [
           "radio/television"
          ],
          [
           "education"
          ],
          [
           "radio/television"
          ],
          [
           "business"
          ],
          [
           "car (used)"
          ],
          [
           "repairs"
          ],
          [
           "radio/television"
          ],
          [
           "furniture/equipment"
          ],
          [
           "radio/television"
          ],
          [
           "furniture/equipment"
          ],
          [
           "radio/television"
          ],
          [
           "car (new)"
          ],
          [
           "radio/television"
          ],
          [
           "radio/television"
          ],
          [
           "radio/television"
          ],
          [
           "radio/television"
          ],
          [
           "car (new)"
          ],
          [
           "business"
          ],
          [
           "radio/television"
          ],
          [
           "radio/television"
          ],
          [
           "car (new)"
          ],
          [
           "radio/television"
          ],
          [
           "car (used)"
          ],
          [
           "business"
          ],
          [
           "retraining"
          ],
          [
           "business"
          ],
          [
           "radio/television"
          ],
          [
           "car (new)"
          ],
          [
           "furniture/equipment"
          ],
          [
           "radio/television"
          ],
          [
           "car (new)"
          ],
          [
           "furniture/equipment"
          ],
          [
           "car (new)"
          ],
          [
           "furniture/equipment"
          ],
          [
           "furniture/equipment"
          ],
          [
           "radio/television"
          ],
          [
           "radio/television"
          ],
          [
           "radio/television"
          ],
          [
           "car (used)"
          ],
          [
           "radio/television"
          ],
          [
           "furniture/equipment"
          ],
          [
           "radio/television"
          ],
          [
           "car (new)"
          ],
          [
           "education"
          ],
          [
           "car (new)"
          ],
          [
           "radio/television"
          ],
          [
           "business"
          ],
          [
           "radio/television"
          ],
          [
           "car (new)"
          ],
          [
           "radio/television"
          ],
          [
           "car (new)"
          ],
          [
           "furniture/equipment"
          ],
          [
           "car (new)"
          ],
          [
           "radio/television"
          ],
          [
           "repairs"
          ],
          [
           "radio/television"
          ],
          [
           "radio/television"
          ],
          [
           "furniture/equipment"
          ],
          [
           "furniture/equipment"
          ],
          [
           "radio/television"
          ],
          [
           "car (used)"
          ],
          [
           "furniture/equipment"
          ],
          [
           "radio/television"
          ],
          [
           "furniture/equipment"
          ],
          [
           "car (new)"
          ],
          [
           "car (new)"
          ],
          [
           "car (used)"
          ],
          [
           "others"
          ],
          [
           "radio/television"
          ],
          [
           "radio/television"
          ],
          [
           "business"
          ],
          [
           "car (used)"
          ],
          [
           "car (used)"
          ],
          [
           "car (used)"
          ],
          [
           "business"
          ],
          [
           "furniture/equipment"
          ],
          [
           "car (used)"
          ],
          [
           "car (new)"
          ],
          [
           "furniture/equipment"
          ],
          [
           "furniture/equipment"
          ],
          [
           "car (new)"
          ],
          [
           "radio/television"
          ],
          [
           "car (new)"
          ],
          [
           "car (new)"
          ],
          [
           "car (new)"
          ],
          [
           "furniture/equipment"
          ],
          [
           "car (used)"
          ],
          [
           "radio/television"
          ],
          [
           "furniture/equipment"
          ],
          [
           "car (new)"
          ],
          [
           "others"
          ],
          [
           "furniture/equipment"
          ],
          [
           "furniture/equipment"
          ],
          [
           "car (new)"
          ],
          [
           "car (new)"
          ],
          [
           "furniture/equipment"
          ],
          [
           "furniture/equipment"
          ],
          [
           "furniture/equipment"
          ],
          [
           "education"
          ],
          [
           "furniture/equipment"
          ],
          [
           "car (new)"
          ],
          [
           "radio/television"
          ],
          [
           "car (used)"
          ],
          [
           "furniture/equipment"
          ],
          [
           "car (new)"
          ],
          [
           "car (new)"
          ],
          [
           "furniture/equipment"
          ],
          [
           "car (new)"
          ],
          [
           "radio/television"
          ],
          [
           "radio/television"
          ],
          [
           "car (used)"
          ],
          [
           "education"
          ],
          [
           "car (new)"
          ],
          [
           "car (used)"
          ],
          [
           "furniture/equipment"
          ],
          [
           "furniture/equipment"
          ],
          [
           "radio/television"
          ],
          [
           "domestic appliances"
          ],
          [
           "furniture/equipment"
          ],
          [
           "furniture/equipment"
          ],
          [
           "education"
          ],
          [
           "furniture/equipment"
          ],
          [
           "radio/television"
          ],
          [
           "business"
          ],
          [
           "car (new)"
          ],
          [
           "radio/television"
          ],
          [
           "radio/television"
          ],
          [
           "radio/television"
          ],
          [
           "business"
          ],
          [
           "education"
          ],
          [
           "domestic appliances"
          ],
          [
           "furniture/equipment"
          ],
          [
           "car (used)"
          ],
          [
           "radio/television"
          ],
          [
           "education"
          ],
          [
           "car (new)"
          ],
          [
           "radio/television"
          ],
          [
           "radio/television"
          ],
          [
           "radio/television"
          ],
          [
           "furniture/equipment"
          ],
          [
           "education"
          ],
          [
           "radio/television"
          ],
          [
           "car (new)"
          ],
          [
           "furniture/equipment"
          ],
          [
           "furniture/equipment"
          ],
          [
           "business"
          ],
          [
           "car (used)"
          ],
          [
           "furniture/equipment"
          ],
          [
           "furniture/equipment"
          ],
          [
           "furniture/equipment"
          ],
          [
           "car (new)"
          ],
          [
           "radio/television"
          ],
          [
           "furniture/equipment"
          ],
          [
           "car (new)"
          ],
          [
           "others"
          ],
          [
           "business"
          ],
          [
           "radio/television"
          ],
          [
           "radio/television"
          ],
          [
           "car (new)"
          ],
          [
           "car (new)"
          ],
          [
           "furniture/equipment"
          ],
          [
           "car (used)"
          ],
          [
           "car (new)"
          ],
          [
           "car (new)"
          ],
          [
           "business"
          ],
          [
           "radio/television"
          ],
          [
           "radio/television"
          ],
          [
           "furniture/equipment"
          ],
          [
           "business"
          ],
          [
           "business"
          ],
          [
           "car (new)"
          ],
          [
           "furniture/equipment"
          ],
          [
           "car (new)"
          ],
          [
           "radio/television"
          ],
          [
           "furniture/equipment"
          ],
          [
           "education"
          ],
          [
           "furniture/equipment"
          ],
          [
           "furniture/equipment"
          ],
          [
           "car (new)"
          ],
          [
           "radio/television"
          ],
          [
           "radio/television"
          ],
          [
           "business"
          ],
          [
           "business"
          ],
          [
           "car (new)"
          ],
          [
           "car (new)"
          ],
          [
           "radio/television"
          ],
          [
           "car (used)"
          ],
          [
           "radio/television"
          ],
          [
           "radio/television"
          ],
          [
           "car (new)"
          ],
          [
           "radio/television"
          ],
          [
           "car (used)"
          ],
          [
           "business"
          ],
          [
           "car (new)"
          ],
          [
           "car (new)"
          ],
          [
           "car (used)"
          ],
          [
           "car (new)"
          ],
          [
           "education"
          ],
          [
           "car (new)"
          ],
          [
           "car (new)"
          ],
          [
           "car (new)"
          ],
          [
           "car (used)"
          ],
          [
           "car (new)"
          ],
          [
           "furniture/equipment"
          ],
          [
           "furniture/equipment"
          ],
          [
           "car (used)"
          ],
          [
           "radio/television"
          ],
          [
           "radio/television"
          ],
          [
           "furniture/equipment"
          ],
          [
           "repairs"
          ],
          [
           "business"
          ],
          [
           "others"
          ],
          [
           "furniture/equipment"
          ],
          [
           "repairs"
          ],
          [
           "furniture/equipment"
          ],
          [
           "radio/television"
          ],
          [
           "repairs"
          ],
          [
           "car (new)"
          ],
          [
           "repairs"
          ],
          [
           "business"
          ],
          [
           "car (new)"
          ],
          [
           "furniture/equipment"
          ],
          [
           "others"
          ],
          [
           "education"
          ],
          [
           "furniture/equipment"
          ],
          [
           "education"
          ],
          [
           "car (new)"
          ],
          [
           "radio/television"
          ],
          [
           "furniture/equipment"
          ],
          [
           "repairs"
          ],
          [
           "car (used)"
          ],
          [
           "radio/television"
          ],
          [
           "furniture/equipment"
          ],
          [
           "car (used)"
          ],
          [
           "car (new)"
          ],
          [
           "car (used)"
          ],
          [
           "car (new)"
          ],
          [
           "car (used)"
          ],
          [
           "domestic appliances"
          ],
          [
           "radio/television"
          ],
          [
           "furniture/equipment"
          ],
          [
           "car (new)"
          ],
          [
           "furniture/equipment"
          ],
          [
           "retraining"
          ],
          [
           "business"
          ],
          [
           "car (used)"
          ],
          [
           "radio/television"
          ],
          [
           "radio/television"
          ],
          [
           "business"
          ],
          [
           "car (used)"
          ],
          [
           "radio/television"
          ],
          [
           "education"
          ],
          [
           "car (new)"
          ],
          [
           "retraining"
          ],
          [
           "radio/television"
          ],
          [
           "furniture/equipment"
          ],
          [
           "car (used)"
          ],
          [
           "radio/television"
          ],
          [
           "business"
          ],
          [
           "furniture/equipment"
          ],
          [
           "radio/television"
          ],
          [
           "car (new)"
          ],
          [
           "furniture/equipment"
          ],
          [
           "furniture/equipment"
          ],
          [
           "car (new)"
          ],
          [
           "car (new)"
          ],
          [
           "radio/television"
          ],
          [
           "car (new)"
          ],
          [
           "car (new)"
          ],
          [
           "car (new)"
          ],
          [
           "radio/television"
          ],
          [
           "business"
          ],
          [
           "radio/television"
          ],
          [
           "radio/television"
          ],
          [
           "car (new)"
          ],
          [
           "furniture/equipment"
          ],
          [
           "furniture/equipment"
          ],
          [
           "furniture/equipment"
          ],
          [
           "radio/television"
          ],
          [
           "car (new)"
          ],
          [
           "car (new)"
          ],
          [
           "car (used)"
          ],
          [
           "radio/television"
          ],
          [
           "radio/television"
          ],
          [
           "car (new)"
          ],
          [
           "car (new)"
          ],
          [
           "car (used)"
          ],
          [
           "car (new)"
          ],
          [
           "radio/television"
          ],
          [
           "car (used)"
          ],
          [
           "car (new)"
          ],
          [
           "car (used)"
          ],
          [
           "business"
          ],
          [
           "radio/television"
          ],
          [
           "car (new)"
          ],
          [
           "car (new)"
          ],
          [
           "car (new)"
          ],
          [
           "furniture/equipment"
          ],
          [
           "car (new)"
          ],
          [
           "radio/television"
          ],
          [
           "repairs"
          ],
          [
           "radio/television"
          ],
          [
           "furniture/equipment"
          ],
          [
           "car (used)"
          ],
          [
           "radio/television"
          ],
          [
           "car (used)"
          ],
          [
           "education"
          ],
          [
           "radio/television"
          ],
          [
           "radio/television"
          ],
          [
           "car (new)"
          ],
          [
           "education"
          ],
          [
           "car (new)"
          ],
          [
           "car (used)"
          ],
          [
           "radio/television"
          ],
          [
           "radio/television"
          ],
          [
           "education"
          ],
          [
           "car (new)"
          ],
          [
           "furniture/equipment"
          ],
          [
           "car (new)"
          ],
          [
           "furniture/equipment"
          ],
          [
           "radio/television"
          ],
          [
           "car (new)"
          ],
          [
           "furniture/equipment"
          ],
          [
           "furniture/equipment"
          ],
          [
           "car (new)"
          ],
          [
           "car (new)"
          ],
          [
           "car (new)"
          ],
          [
           "radio/television"
          ],
          [
           "radio/television"
          ],
          [
           "car (used)"
          ],
          [
           "repairs"
          ],
          [
           "radio/television"
          ],
          [
           "radio/television"
          ],
          [
           "car (new)"
          ],
          [
           "education"
          ],
          [
           "radio/television"
          ],
          [
           "car (new)"
          ],
          [
           "car (new)"
          ],
          [
           "furniture/equipment"
          ],
          [
           "furniture/equipment"
          ],
          [
           "car (used)"
          ],
          [
           "radio/television"
          ],
          [
           "radio/television"
          ],
          [
           "car (new)"
          ],
          [
           "business"
          ],
          [
           "radio/television"
          ],
          [
           "car (new)"
          ],
          [
           "radio/television"
          ],
          [
           "radio/television"
          ],
          [
           "radio/television"
          ],
          [
           "furniture/equipment"
          ],
          [
           "radio/television"
          ],
          [
           "car (used)"
          ],
          [
           "business"
          ],
          [
           "radio/television"
          ],
          [
           "furniture/equipment"
          ],
          [
           "radio/television"
          ],
          [
           "education"
          ],
          [
           "car (new)"
          ],
          [
           "retraining"
          ],
          [
           "car (new)"
          ],
          [
           "car (new)"
          ],
          [
           "furniture/equipment"
          ],
          [
           "repairs"
          ],
          [
           "car (new)"
          ],
          [
           "furniture/equipment"
          ],
          [
           "car (new)"
          ],
          [
           "furniture/equipment"
          ],
          [
           "domestic appliances"
          ],
          [
           "furniture/equipment"
          ],
          [
           "radio/television"
          ],
          [
           "car (new)"
          ],
          [
           "business"
          ],
          [
           "car (new)"
          ],
          [
           "others"
          ],
          [
           "car (new)"
          ],
          [
           "car (new)"
          ],
          [
           "business"
          ],
          [
           "car (new)"
          ],
          [
           "business"
          ],
          [
           "radio/television"
          ],
          [
           "furniture/equipment"
          ],
          [
           "education"
          ],
          [
           "furniture/equipment"
          ],
          [
           "furniture/equipment"
          ],
          [
           "furniture/equipment"
          ],
          [
           "business"
          ],
          [
           "radio/television"
          ],
          [
           "radio/television"
          ],
          [
           "car (used)"
          ],
          [
           "domestic appliances"
          ],
          [
           "car (new)"
          ],
          [
           "radio/television"
          ],
          [
           "car (used)"
          ],
          [
           "furniture/equipment"
          ],
          [
           "business"
          ],
          [
           "radio/television"
          ],
          [
           "car (new)"
          ],
          [
           "furniture/equipment"
          ],
          [
           "car (new)"
          ],
          [
           "business"
          ],
          [
           "car (new)"
          ],
          [
           "business"
          ],
          [
           "furniture/equipment"
          ],
          [
           "radio/television"
          ],
          [
           "radio/television"
          ],
          [
           "furniture/equipment"
          ],
          [
           "car (new)"
          ],
          [
           "furniture/equipment"
          ],
          [
           "education"
          ],
          [
           "radio/television"
          ],
          [
           "furniture/equipment"
          ],
          [
           "radio/television"
          ],
          [
           "furniture/equipment"
          ],
          [
           "car (new)"
          ],
          [
           "education"
          ],
          [
           "radio/television"
          ],
          [
           "radio/television"
          ],
          [
           "radio/television"
          ],
          [
           "radio/television"
          ],
          [
           "education"
          ],
          [
           "repairs"
          ],
          [
           "education"
          ],
          [
           "radio/television"
          ],
          [
           "radio/television"
          ],
          [
           "business"
          ],
          [
           "furniture/equipment"
          ],
          [
           "car (new)"
          ],
          [
           "car (new)"
          ],
          [
           "education"
          ],
          [
           "education"
          ],
          [
           "furniture/equipment"
          ],
          [
           "car (new)"
          ],
          [
           "car (new)"
          ],
          [
           "car (used)"
          ],
          [
           "car (new)"
          ],
          [
           "car (new)"
          ],
          [
           "radio/television"
          ],
          [
           "business"
          ],
          [
           "furniture/equipment"
          ],
          [
           "radio/television"
          ],
          [
           "car (new)"
          ],
          [
           "furniture/equipment"
          ],
          [
           "furniture/equipment"
          ],
          [
           "education"
          ],
          [
           "others"
          ],
          [
           "furniture/equipment"
          ],
          [
           "business"
          ],
          [
           "car (new)"
          ],
          [
           "radio/television"
          ],
          [
           "business"
          ],
          [
           "business"
          ],
          [
           "car (new)"
          ],
          [
           "car (new)"
          ],
          [
           "business"
          ],
          [
           "radio/television"
          ],
          [
           "furniture/equipment"
          ],
          [
           "radio/television"
          ],
          [
           "radio/television"
          ],
          [
           "radio/television"
          ],
          [
           "education"
          ],
          [
           "radio/television"
          ],
          [
           "radio/television"
          ],
          [
           "radio/television"
          ],
          [
           "business"
          ],
          [
           "car (new)"
          ],
          [
           "radio/television"
          ],
          [
           "car (new)"
          ],
          [
           "radio/television"
          ],
          [
           "car (new)"
          ],
          [
           "furniture/equipment"
          ],
          [
           "repairs"
          ],
          [
           "radio/television"
          ],
          [
           "car (new)"
          ],
          [
           "radio/television"
          ],
          [
           "car (used)"
          ],
          [
           "radio/television"
          ],
          [
           "car (new)"
          ],
          [
           "radio/television"
          ],
          [
           "education"
          ],
          [
           "furniture/equipment"
          ],
          [
           "car (used)"
          ],
          [
           "radio/television"
          ],
          [
           "business"
          ],
          [
           "business"
          ],
          [
           "car (new)"
          ],
          [
           "car (new)"
          ],
          [
           "furniture/equipment"
          ],
          [
           "radio/television"
          ],
          [
           "radio/television"
          ],
          [
           "radio/television"
          ],
          [
           "education"
          ],
          [
           "car (used)"
          ],
          [
           "radio/television"
          ],
          [
           "car (new)"
          ],
          [
           "car (used)"
          ],
          [
           "radio/television"
          ],
          [
           "radio/television"
          ],
          [
           "radio/television"
          ],
          [
           "car (used)"
          ],
          [
           "radio/television"
          ],
          [
           "education"
          ],
          [
           "car (new)"
          ],
          [
           "radio/television"
          ],
          [
           "car (new)"
          ],
          [
           "car (new)"
          ],
          [
           "radio/television"
          ],
          [
           "radio/television"
          ],
          [
           "business"
          ],
          [
           "business"
          ],
          [
           "radio/television"
          ],
          [
           "radio/television"
          ],
          [
           "radio/television"
          ],
          [
           "car (used)"
          ],
          [
           "car (new)"
          ],
          [
           "domestic appliances"
          ],
          [
           "car (used)"
          ],
          [
           "car (new)"
          ],
          [
           "car (new)"
          ],
          [
           "business"
          ],
          [
           "car (new)"
          ],
          [
           "radio/television"
          ],
          [
           "radio/television"
          ],
          [
           "furniture/equipment"
          ],
          [
           "furniture/equipment"
          ],
          [
           "business"
          ],
          [
           "car (new)"
          ],
          [
           "car (new)"
          ],
          [
           "car (used)"
          ],
          [
           "car (used)"
          ],
          [
           "furniture/equipment"
          ],
          [
           "car (new)"
          ],
          [
           "business"
          ],
          [
           "radio/television"
          ],
          [
           "repairs"
          ],
          [
           "car (new)"
          ],
          [
           "car (new)"
          ],
          [
           "radio/television"
          ],
          [
           "car (new)"
          ],
          [
           "car (new)"
          ],
          [
           "car (new)"
          ],
          [
           "furniture/equipment"
          ],
          [
           "radio/television"
          ],
          [
           "car (new)"
          ],
          [
           "car (new)"
          ],
          [
           "radio/television"
          ],
          [
           "furniture/equipment"
          ],
          [
           "car (used)"
          ],
          [
           "furniture/equipment"
          ],
          [
           "radio/television"
          ],
          [
           "car (used)"
          ],
          [
           "education"
          ],
          [
           "car (used)"
          ],
          [
           "radio/television"
          ],
          [
           "car (new)"
          ],
          [
           "car (new)"
          ],
          [
           "car (new)"
          ],
          [
           "radio/television"
          ],
          [
           "car (used)"
          ],
          [
           "repairs"
          ],
          [
           "radio/television"
          ],
          [
           "car (new)"
          ],
          [
           "retraining"
          ],
          [
           "car (new)"
          ],
          [
           "car (used)"
          ],
          [
           "business"
          ],
          [
           "radio/television"
          ],
          [
           "car (used)"
          ],
          [
           "education"
          ],
          [
           "education"
          ],
          [
           "business"
          ],
          [
           "car (used)"
          ],
          [
           "furniture/equipment"
          ],
          [
           "furniture/equipment"
          ],
          [
           "furniture/equipment"
          ],
          [
           "furniture/equipment"
          ],
          [
           "car (used)"
          ],
          [
           "furniture/equipment"
          ],
          [
           "car (new)"
          ],
          [
           "car (new)"
          ],
          [
           "education"
          ],
          [
           "radio/television"
          ],
          [
           "furniture/equipment"
          ],
          [
           "radio/television"
          ],
          [
           "car (new)"
          ],
          [
           "car (new)"
          ],
          [
           "radio/television"
          ],
          [
           "radio/television"
          ],
          [
           "car (used)"
          ],
          [
           "car (new)"
          ],
          [
           "business"
          ],
          [
           "radio/television"
          ],
          [
           "car (used)"
          ],
          [
           "domestic appliances"
          ],
          [
           "car (new)"
          ],
          [
           "car (new)"
          ],
          [
           "domestic appliances"
          ],
          [
           "radio/television"
          ],
          [
           "others"
          ],
          [
           "radio/television"
          ],
          [
           "car (new)"
          ],
          [
           "radio/television"
          ],
          [
           "furniture/equipment"
          ],
          [
           "car (new)"
          ],
          [
           "furniture/equipment"
          ],
          [
           "car (new)"
          ],
          [
           "car (new)"
          ],
          [
           "business"
          ],
          [
           "car (used)"
          ],
          [
           "business"
          ],
          [
           "business"
          ],
          [
           "car (new)"
          ],
          [
           "business"
          ],
          [
           "radio/television"
          ],
          [
           "radio/television"
          ],
          [
           "car (new)"
          ],
          [
           "radio/television"
          ],
          [
           "furniture/equipment"
          ],
          [
           "car (used)"
          ],
          [
           "radio/television"
          ],
          [
           "furniture/equipment"
          ],
          [
           "car (used)"
          ],
          [
           "repairs"
          ],
          [
           "business"
          ],
          [
           "furniture/equipment"
          ],
          [
           "furniture/equipment"
          ],
          [
           "car (new)"
          ],
          [
           "car (new)"
          ],
          [
           "radio/television"
          ],
          [
           "radio/television"
          ],
          [
           "car (new)"
          ],
          [
           "car (used)"
          ],
          [
           "radio/television"
          ],
          [
           "car (new)"
          ],
          [
           "car (new)"
          ],
          [
           "car (new)"
          ],
          [
           "retraining"
          ],
          [
           "furniture/equipment"
          ],
          [
           "car (new)"
          ],
          [
           "car (new)"
          ],
          [
           "car (used)"
          ],
          [
           "business"
          ],
          [
           "radio/television"
          ],
          [
           "furniture/equipment"
          ],
          [
           "furniture/equipment"
          ],
          [
           "furniture/equipment"
          ],
          [
           "radio/television"
          ],
          [
           "furniture/equipment"
          ],
          [
           "business"
          ],
          [
           "furniture/equipment"
          ],
          [
           "furniture/equipment"
          ],
          [
           "car (new)"
          ],
          [
           "business"
          ],
          [
           "domestic appliances"
          ],
          [
           "furniture/equipment"
          ],
          [
           "car (new)"
          ],
          [
           "radio/television"
          ],
          [
           "radio/television"
          ],
          [
           "car (new)"
          ],
          [
           "radio/television"
          ],
          [
           "car (used)"
          ],
          [
           "car (used)"
          ],
          [
           "car (new)"
          ],
          [
           "radio/television"
          ],
          [
           "furniture/equipment"
          ],
          [
           "education"
          ],
          [
           "business"
          ],
          [
           "business"
          ],
          [
           "car (new)"
          ],
          [
           "car (used)"
          ],
          [
           "business"
          ],
          [
           "radio/television"
          ],
          [
           "car (new)"
          ],
          [
           "car (used)"
          ],
          [
           "radio/television"
          ],
          [
           "car (used)"
          ],
          [
           "radio/television"
          ],
          [
           "furniture/equipment"
          ],
          [
           "furniture/equipment"
          ],
          [
           "furniture/equipment"
          ],
          [
           "car (new)"
          ],
          [
           "car (new)"
          ],
          [
           "car (used)"
          ],
          [
           "radio/television"
          ],
          [
           "radio/television"
          ],
          [
           "radio/television"
          ],
          [
           "car (new)"
          ],
          [
           "education"
          ],
          [
           "car (used)"
          ],
          [
           "car (new)"
          ],
          [
           "radio/television"
          ],
          [
           "furniture/equipment"
          ],
          [
           "radio/television"
          ],
          [
           "business"
          ],
          [
           "business"
          ],
          [
           "others"
          ],
          [
           "car (used)"
          ],
          [
           "car (new)"
          ],
          [
           "furniture/equipment"
          ],
          [
           "furniture/equipment"
          ],
          [
           "furniture/equipment"
          ],
          [
           "radio/television"
          ],
          [
           "radio/television"
          ],
          [
           "car (new)"
          ],
          [
           "furniture/equipment"
          ],
          [
           "car (new)"
          ],
          [
           "furniture/equipment"
          ],
          [
           "car (used)"
          ],
          [
           "radio/television"
          ],
          [
           "car (new)"
          ],
          [
           "furniture/equipment"
          ],
          [
           "radio/television"
          ],
          [
           "car (new)"
          ],
          [
           "radio/television"
          ],
          [
           "radio/television"
          ],
          [
           "radio/television"
          ],
          [
           "radio/television"
          ],
          [
           "radio/television"
          ],
          [
           "education"
          ],
          [
           "car (used)"
          ],
          [
           "car (new)"
          ],
          [
           "car (new)"
          ],
          [
           "furniture/equipment"
          ],
          [
           "car (new)"
          ],
          [
           "furniture/equipment"
          ],
          [
           "car (new)"
          ],
          [
           "furniture/equipment"
          ],
          [
           "car (new)"
          ],
          [
           "furniture/equipment"
          ],
          [
           "radio/television"
          ],
          [
           "business"
          ],
          [
           "business"
          ],
          [
           "car (used)"
          ],
          [
           "furniture/equipment"
          ],
          [
           "car (new)"
          ],
          [
           "radio/television"
          ],
          [
           "radio/television"
          ],
          [
           "radio/television"
          ],
          [
           "car (new)"
          ],
          [
           "furniture/equipment"
          ],
          [
           "radio/television"
          ],
          [
           "car (new)"
          ],
          [
           "car (new)"
          ],
          [
           "radio/television"
          ],
          [
           "repairs"
          ],
          [
           "radio/television"
          ],
          [
           "radio/television"
          ],
          [
           "radio/television"
          ],
          [
           "radio/television"
          ],
          [
           "car (new)"
          ],
          [
           "repairs"
          ],
          [
           "car (new)"
          ],
          [
           "car (new)"
          ],
          [
           "business"
          ],
          [
           "radio/television"
          ],
          [
           "radio/television"
          ],
          [
           "radio/television"
          ],
          [
           "business"
          ],
          [
           "car (new)"
          ],
          [
           "car (new)"
          ],
          [
           "furniture/equipment"
          ],
          [
           "business"
          ],
          [
           "car (new)"
          ],
          [
           "car (used)"
          ],
          [
           "furniture/equipment"
          ],
          [
           "furniture/equipment"
          ],
          [
           "business"
          ],
          [
           "radio/television"
          ],
          [
           "car (used)"
          ],
          [
           "radio/television"
          ],
          [
           "education"
          ],
          [
           "radio/television"
          ],
          [
           "radio/television"
          ],
          [
           "furniture/equipment"
          ],
          [
           "car (new)"
          ],
          [
           "furniture/equipment"
          ],
          [
           "car (used)"
          ],
          [
           "radio/television"
          ],
          [
           "radio/television"
          ],
          [
           "car (used)"
          ]
         ],
         "hovertemplate": "credit_purpose=%{customdata[0]}<br>credit_amount=%{marker.size}<br>age=%{marker.color}<extra></extra>",
         "legendgroup": "",
         "marker": {
          "color": [
           67,
           22,
           49,
           45,
           53,
           35,
           53,
           35,
           61,
           28,
           25,
           24,
           22,
           60,
           28,
           32,
           53,
           25,
           44,
           31,
           48,
           44,
           48,
           44,
           26,
           36,
           39,
           42,
           34,
           63,
           36,
           27,
           30,
           57,
           33,
           25,
           31,
           37,
           37,
           24,
           30,
           26,
           44,
           24,
           58,
           35,
           39,
           23,
           39,
           28,
           29,
           30,
           25,
           31,
           57,
           26,
           52,
           31,
           23,
           23,
           27,
           50,
           61,
           25,
           26,
           48,
           29,
           22,
           37,
           25,
           30,
           46,
           51,
           41,
           40,
           66,
           34,
           51,
           39,
           22,
           44,
           47,
           24,
           58,
           52,
           29,
           27,
           47,
           30,
           28,
           56,
           54,
           33,
           20,
           54,
           58,
           61,
           34,
           36,
           36,
           41,
           24,
           24,
           35,
           26,
           39,
           39,
           32,
           30,
           35,
           31,
           23,
           28,
           25,
           35,
           47,
           30,
           27,
           23,
           36,
           25,
           41,
           24,
           63,
           27,
           30,
           40,
           30,
           34,
           29,
           24,
           29,
           27,
           47,
           21,
           38,
           27,
           66,
           35,
           44,
           27,
           30,
           27,
           22,
           23,
           30,
           39,
           51,
           28,
           46,
           42,
           38,
           24,
           29,
           36,
           20,
           48,
           45,
           38,
           34,
           36,
           30,
           36,
           70,
           36,
           32,
           33,
           20,
           25,
           31,
           33,
           26,
           34,
           33,
           26,
           53,
           42,
           52,
           31,
           65,
           28,
           30,
           40,
           50,
           36,
           31,
           74,
           68,
           20,
           33,
           54,
           34,
           36,
           29,
           21,
           34,
           28,
           27,
           36,
           40,
           52,
           27,
           26,
           21,
           38,
           38,
           43,
           26,
           21,
           55,
           33,
           45,
           50,
           66,
           51,
           39,
           31,
           23,
           24,
           64,
           26,
           23,
           30,
           32,
           30,
           27,
           27,
           53,
           22,
           22,
           26,
           51,
           35,
           25,
           42,
           30,
           23,
           61,
           35,
           39,
           29,
           51,
           24,
           27,
           35,
           25,
           52,
           35,
           26,
           22,
           39,
           46,
           24,
           35,
           24,
           27,
           35,
           29,
           23,
           57,
           27,
           55,
           36,
           57,
           32,
           37,
           36,
           38,
           45,
           25,
           32,
           37,
           36,
           28,
           34,
           32,
           26,
           49,
           32,
           29,
           23,
           50,
           49,
           63,
           37,
           35,
           26,
           31,
           49,
           48,
           26,
           28,
           44,
           56,
           46,
           26,
           20,
           45,
           43,
           32,
           54,
           42,
           37,
           49,
           44,
           33,
           24,
           33,
           24,
           22,
           40,
           25,
           26,
           25,
           29,
           31,
           38,
           48,
           32,
           27,
           28,
           32,
           34,
           28,
           36,
           39,
           49,
           34,
           31,
           28,
           75,
           30,
           24,
           24,
           23,
           44,
           23,
           24,
           28,
           31,
           24,
           26,
           25,
           33,
           37,
           43,
           23,
           23,
           34,
           32,
           23,
           29,
           38,
           28,
           46,
           23,
           49,
           26,
           28,
           23,
           61,
           37,
           36,
           21,
           25,
           36,
           27,
           22,
           42,
           40,
           36,
           33,
           23,
           63,
           60,
           37,
           34,
           36,
           57,
           52,
           39,
           38,
           25,
           26,
           26,
           25,
           21,
           40,
           27,
           27,
           30,
           19,
           39,
           31,
           31,
           32,
           55,
           46,
           46,
           43,
           39,
           28,
           27,
           27,
           43,
           22,
           43,
           27,
           26,
           28,
           20,
           35,
           42,
           40,
           35,
           35,
           33,
           23,
           31,
           33,
           20,
           30,
           47,
           34,
           25,
           21,
           29,
           46,
           20,
           55,
           74,
           29,
           36,
           33,
           25,
           25,
           23,
           37,
           65,
           26,
           39,
           30,
           29,
           41,
           30,
           41,
           34,
           35,
           55,
           61,
           30,
           29,
           34,
           35,
           31,
           29,
           36,
           35,
           27,
           32,
           37,
           36,
           34,
           38,
           34,
           63,
           29,
           32,
           26,
           35,
           22,
           23,
           28,
           36,
           33,
           26,
           24,
           25,
           39,
           44,
           23,
           26,
           57,
           30,
           44,
           47,
           52,
           62,
           35,
           26,
           26,
           42,
           27,
           38,
           39,
           20,
           29,
           40,
           32,
           28,
           27,
           42,
           49,
           38,
           24,
           27,
           36,
           34,
           28,
           45,
           26,
           32,
           26,
           20,
           54,
           37,
           40,
           23,
           43,
           36,
           44,
           24,
           53,
           23,
           26,
           30,
           31,
           42,
           31,
           41,
           32,
           28,
           41,
           26,
           25,
           33,
           75,
           37,
           42,
           45,
           23,
           60,
           31,
           34,
           61,
           43,
           37,
           32,
           24,
           35,
           23,
           45,
           34,
           27,
           67,
           22,
           28,
           29,
           27,
           31,
           49,
           24,
           29,
           37,
           37,
           23,
           36,
           34,
           41,
           31,
           23,
           38,
           26,
           22,
           27,
           24,
           27,
           33,
           27,
           27,
           30,
           49,
           26,
           33,
           52,
           20,
           36,
           21,
           47,
           60,
           58,
           42,
           36,
           20,
           40,
           32,
           23,
           36,
           31,
           32,
           45,
           30,
           34,
           28,
           23,
           22,
           74,
           50,
           33,
           45,
           22,
           48,
           29,
           22,
           22,
           48,
           27,
           37,
           21,
           49,
           27,
           32,
           38,
           22,
           65,
           35,
           41,
           29,
           36,
           64,
           28,
           44,
           23,
           19,
           25,
           47,
           28,
           21,
           34,
           26,
           27,
           38,
           40,
           33,
           32,
           27,
           32,
           26,
           38,
           40,
           50,
           37,
           45,
           42,
           35,
           22,
           41,
           37,
           28,
           41,
           23,
           23,
           50,
           35,
           50,
           27,
           34,
           27,
           43,
           47,
           27,
           31,
           42,
           24,
           41,
           26,
           33,
           24,
           64,
           26,
           56,
           37,
           33,
           47,
           31,
           34,
           27,
           30,
           35,
           31,
           25,
           25,
           29,
           44,
           28,
           50,
           29,
           38,
           24,
           40,
           29,
           46,
           47,
           41,
           32,
           35,
           24,
           25,
           25,
           37,
           32,
           35,
           46,
           25,
           27,
           63,
           40,
           32,
           31,
           31,
           34,
           24,
           24,
           66,
           21,
           41,
           47,
           25,
           59,
           36,
           33,
           21,
           44,
           28,
           37,
           29,
           23,
           35,
           45,
           26,
           32,
           23,
           41,
           22,
           30,
           28,
           23,
           37,
           26,
           33,
           49,
           23,
           23,
           25,
           55,
           32,
           74,
           39,
           31,
           35,
           59,
           24,
           24,
           30,
           27,
           40,
           31,
           31,
           28,
           63,
           26,
           25,
           36,
           52,
           66,
           25,
           37,
           25,
           38,
           67,
           25,
           60,
           31,
           23,
           60,
           35,
           40,
           38,
           50,
           27,
           39,
           41,
           27,
           51,
           32,
           22,
           51,
           22,
           54,
           35,
           54,
           48,
           24,
           35,
           24,
           24,
           26,
           65,
           55,
           26,
           26,
           28,
           24,
           54,
           46,
           54,
           62,
           24,
           43,
           26,
           27,
           24,
           41,
           47,
           35,
           30,
           33,
           36,
           47,
           38,
           44,
           23,
           29,
           42,
           25,
           48,
           21,
           23,
           63,
           46,
           29,
           28,
           23,
           50,
           47,
           35,
           68,
           28,
           59,
           57,
           33,
           43,
           35,
           32,
           45,
           33,
           40,
           28,
           29,
           26,
           27,
           28,
           35,
           32,
           25,
           20,
           27,
           42,
           37,
           24,
           40,
           46,
           26,
           24,
           29,
           40,
           36,
           28,
           27,
           36,
           38,
           48,
           36,
           65,
           43,
           53,
           34,
           23,
           34,
           40,
           43,
           46,
           38,
           34,
           29,
           31,
           28,
           35,
           33,
           42,
           43,
           44,
           42,
           40,
           36,
           20,
           24,
           27,
           46,
           33,
           34,
           25,
           25,
           28,
           31,
           32,
           32,
           68,
           33,
           39,
           28,
           37,
           22,
           30,
           55,
           46,
           21,
           39,
           58,
           43,
           24,
           22,
           30,
           42,
           23,
           30,
           28,
           30,
           42,
           46,
           45,
           31,
           31,
           42,
           46,
           30,
           30,
           38,
           43,
           31,
           40,
           24,
           28,
           26,
           29,
           57,
           49,
           37,
           45,
           30,
           30,
           47,
           29,
           35,
           22,
           26,
           23,
           54,
           29,
           40,
           22,
           43,
           29,
           36,
           33,
           57,
           64,
           42,
           47,
           25,
           49,
           33,
           28,
           26,
           30,
           25,
           33,
           64,
           29,
           48,
           37,
           34,
           23,
           30,
           50,
           31,
           40,
           38,
           23,
           27
          ],
          "coloraxis": "coloraxis",
          "size": [
           1169,
           5951,
           2096,
           7882,
           4870,
           9055,
           2835,
           6948,
           3059,
           5234,
           1295,
           4308,
           1567,
           1199,
           1403,
           1282,
           2424,
           8072,
           12579,
           3430,
           2134,
           2647,
           2241,
           1804,
           2069,
           1374,
           426,
           409,
           2415,
           6836,
           1913,
           4020,
           5866,
           1264,
           1474,
           4746,
           6110,
           2100,
           1225,
           458,
           2333,
           1158,
           6204,
           6187,
           6143,
           1393,
           2299,
           1352,
           7228,
           2073,
           2333,
           5965,
           1262,
           3378,
           2225,
           783,
           6468,
           9566,
           1961,
           6229,
           1391,
           1537,
           1953,
           14421,
           3181,
           5190,
           2171,
           1007,
           1819,
           2394,
           8133,
           730,
           1164,
           5954,
           1977,
           1526,
           3965,
           4771,
           9436,
           3832,
           5943,
           1213,
           1568,
           1755,
           2315,
           1412,
           1295,
           12612,
           2249,
           1108,
           618,
           1409,
           797,
           3617,
           1318,
           15945,
           2012,
           2622,
           2337,
           7057,
           1469,
           2323,
           932,
           1919,
           2445,
           11938,
           6458,
           6078,
           7721,
           1410,
           1449,
           392,
           6260,
           7855,
           1680,
           3578,
           7174,
           2132,
           4281,
           2366,
           1835,
           3868,
           1768,
           781,
           1924,
           2121,
           701,
           639,
           1860,
           3499,
           8487,
           6887,
           2708,
           1984,
           10144,
           1240,
           8613,
           766,
           2728,
           1881,
           709,
           4795,
           3416,
           2462,
           2288,
           3566,
           860,
           682,
           5371,
           1582,
           1346,
           1924,
           5848,
           7758,
           6967,
           1282,
           1288,
           339,
           3512,
           1898,
           2872,
           1055,
           1262,
           7308,
           909,
           2978,
           1131,
           1577,
           3972,
           1935,
           950,
           763,
           2064,
           1414,
           3414,
           7485,
           2577,
           338,
           1963,
           571,
           9572,
           4455,
           1647,
           3777,
           884,
           1360,
           5129,
           1175,
           674,
           3244,
           4591,
           3844,
           3915,
           2108,
           3031,
           1501,
           1382,
           951,
           2760,
           4297,
           936,
           1168,
           5117,
           902,
           1495,
           10623,
           1935,
           1424,
           6568,
           1413,
           3074,
           3835,
           5293,
           1908,
           3342,
           932,
           3104,
           3913,
           3021,
           1364,
           625,
           1200,
           707,
           2978,
           4657,
           2613,
           10961,
           7865,
           1478,
           3149,
           4210,
           2507,
           2141,
           866,
           1544,
           1823,
           14555,
           2767,
           1291,
           2522,
           915,
           1595,
           4605,
           1185,
           3447,
           1258,
           717,
           1204,
           1925,
           433,
           666,
           2251,
           2150,
           4151,
           2030,
           7418,
           2684,
           2149,
           3812,
           1154,
           1657,
           1603,
           5302,
           2748,
           1231,
           802,
           6304,
           1533,
           8978,
           999,
           2662,
           1402,
           12169,
           3060,
           11998,
           2697,
           2404,
           1262,
           4611,
           1901,
           3368,
           1574,
           1445,
           1520,
           3878,
           10722,
           4788,
           7582,
           1092,
           1024,
           1076,
           9398,
           6419,
           4796,
           7629,
           9960,
           4675,
           1287,
           2515,
           2745,
           672,
           3804,
           1344,
           1038,
           10127,
           1543,
           4811,
           727,
           1237,
           276,
           5381,
           5511,
           3749,
           685,
           1494,
           2746,
           708,
           4351,
           701,
           3643,
           4249,
           1938,
           2910,
           2659,
           1028,
           3398,
           5801,
           1525,
           4473,
           1068,
           6615,
           1864,
           7408,
           11590,
           4110,
           3384,
           2101,
           1275,
           4169,
           1521,
           5743,
           3599,
           3213,
           4439,
           3949,
           1459,
           882,
           3758,
           1743,
           1136,
           1236,
           959,
           3229,
           6199,
           727,
           1246,
           2331,
           4463,
           776,
           2406,
           1239,
           3399,
           2247,
           1766,
           2473,
           1542,
           3850,
           3650,
           3446,
           3001,
           3079,
           6070,
           2146,
           13756,
           14782,
           7685,
           2320,
           846,
           14318,
           362,
           2212,
           12976,
           1283,
           1330,
           4272,
           2238,
           1126,
           7374,
           2326,
           1449,
           1820,
           983,
           3249,
           1957,
           2406,
           11760,
           2578,
           2348,
           1223,
           1516,
           1473,
           1887,
           8648,
           802,
           2899,
           2039,
           2197,
           1053,
           3235,
           939,
           1967,
           7253,
           2292,
           1597,
           1381,
           5842,
           2579,
           8471,
           2782,
           1042,
           3186,
           2028,
           958,
           1591,
           2762,
           2779,
           2743,
           1149,
           1313,
           1190,
           3448,
           11328,
           1872,
           2058,
           2136,
           1484,
           660,
           1287,
           3394,
           609,
           1884,
           1620,
           2629,
           719,
           5096,
           1244,
           1842,
           2576,
           1424,
           1512,
           11054,
           518,
           2759,
           2670,
           4817,
           2679,
           3905,
           3386,
           343,
           4594,
           3620,
           1721,
           3017,
           754,
           1950,
           2924,
           1659,
           7238,
           2764,
           4679,
           3092,
           448,
           654,
           1238,
           1245,
           3114,
           2569,
           5152,
           1037,
           1478,
           3573,
           1201,
           3622,
           960,
           1163,
           1209,
           3077,
           3757,
           1418,
           3518,
           1934,
           8318,
           1237,
           368,
           2122,
           2996,
           9034,
           1585,
           1301,
           1323,
           3123,
           5493,
           1126,
           1216,
           1207,
           1309,
           2360,
           6850,
           1413,
           8588,
           759,
           4686,
           2687,
           585,
           2255,
           609,
           1361,
           7127,
           1203,
           700,
           5507,
           3190,
           7119,
           3488,
           1113,
           7966,
           1532,
           1503,
           2302,
           662,
           2273,
           2631,
           1503,
           1311,
           3105,
           2319,
           1374,
           3612,
           7763,
           3049,
           1534,
           2032,
           6350,
           2864,
           1255,
           1333,
           2022,
           1552,
           626,
           8858,
           996,
           1750,
           6999,
           1995,
           1199,
           1331,
           2278,
           5003,
           3552,
           1928,
           2964,
           1546,
           683,
           12389,
           4712,
           1553,
           1372,
           2578,
           3979,
           6758,
           3234,
           5954,
           5433,
           806,
           1082,
           2788,
           2930,
           1927,
           2820,
           937,
           1056,
           3124,
           1388,
           2384,
           2133,
           2039,
           2799,
           1289,
           1217,
           2246,
           385,
           1965,
           1572,
           2718,
           1358,
           931,
           1442,
           4241,
           2775,
           3863,
           2329,
           918,
           1837,
           3349,
           1275,
           2828,
           4526,
           2671,
           2051,
           1300,
           741,
           1240,
           3357,
           3632,
           1808,
           12204,
           9157,
           3676,
           3441,
           640,
           3652,
           1530,
           3914,
           1858,
           2600,
           1979,
           2116,
           1437,
           4042,
           3832,
           3660,
           1553,
           1444,
           1980,
           1355,
           1393,
           1376,
           15653,
           1493,
           4370,
           750,
           1308,
           4623,
           1851,
           1880,
           7980,
           4583,
           1386,
           947,
           684,
           7476,
           1922,
           2303,
           8086,
           2346,
           3973,
           888,
           10222,
           4221,
           6361,
           1297,
           900,
           2241,
           1050,
           1047,
           6314,
           3496,
           3609,
           4843,
           3017,
           4139,
           5742,
           10366,
           2080,
           2580,
           4530,
           5150,
           5595,
           2384,
           1453,
           1538,
           2279,
           1478,
           5103,
           9857,
           6527,
           1347,
           2862,
           2753,
           3651,
           975,
           2631,
           2896,
           4716,
           2284,
           1236,
           1103,
           926,
           1800,
           1905,
           1123,
           6331,
           1377,
           2503,
           2528,
           5324,
           6560,
           2969,
           1206,
           2118,
           629,
           1198,
           2476,
           1138,
           14027,
           7596,
           3077,
           1505,
           3148,
           6148,
           1337,
           433,
           1228,
           790,
           2570,
           250,
           1316,
           1882,
           6416,
           1275,
           6403,
           1987,
           760,
           2603,
           3380,
           3990,
           11560,
           4380,
           6761,
           4280,
           2325,
           1048,
           3160,
           2483,
           14179,
           1797,
           2511,
           1274,
           5248,
           3029,
           428,
           976,
           841,
           5771,
           1555,
           1285,
           1299,
           1271,
           1393,
           691,
           5045,
           2124,
           2214,
           12680,
           2463,
           1155,
           3108,
           2901,
           3617,
           1655,
           2812,
           8065,
           3275,
           2223,
           1480,
           1371,
           3535,
           3509,
           5711,
           3872,
           4933,
           1940,
           1410,
           836,
           6468,
           1941,
           2675,
           2751,
           6224,
           5998,
           1188,
           6313,
           1221,
           2892,
           3062,
           2301,
           7511,
           1258,
           717,
           1549,
           1597,
           1795,
           4272,
           976,
           7472,
           9271,
           590,
           930,
           9283,
           1778,
           907,
           484,
           9629,
           3051,
           3931,
           7432,
           1338,
           1554,
           15857,
           1345,
           1101,
           3016,
           2712,
           731,
           3780,
           1602,
           3966,
           4165,
           8335,
           6681,
           2375,
           1216,
           11816,
           5084,
           2327,
           1082,
           886,
           601,
           2957,
           2611,
           5179,
           2993,
           1943,
           1559,
           3422,
           3976,
           6761,
           1249,
           1364,
           709,
           2235,
           4042,
           1471,
           1442,
           10875,
           1474,
           894,
           3343,
           3959,
           3577,
           5804,
           2169,
           2439,
           4526,
           2210,
           2221,
           2389,
           3331,
           7409,
           652,
           7678,
           1343,
           1382,
           874,
           3590,
           1322,
           1940,
           3595,
           1422,
           6742,
           7814,
           9277,
           2181,
           1098,
           4057,
           795,
           2825,
           15672,
           6614,
           7824,
           2442,
           1829,
           2171,
           5800,
           1169,
           8947,
           2606,
           1592,
           2186,
           4153,
           2625,
           3485,
           10477,
           1386,
           1278,
           1107,
           3763,
           3711,
           3594,
           3195,
           4454,
           4736,
           2991,
           2142,
           3161,
           18424,
           2848,
           14896,
           2359,
           3345,
           1817,
           12749,
           1366,
           2002,
           6872,
           697,
           1049,
           10297,
           1867,
           1344,
           1747,
           1670,
           1224,
           522,
           1498,
           1919,
           745,
           2063,
           6288,
           6842,
           3527,
           1546,
           929,
           1455,
           1845,
           8358,
           3349,
           2859,
           1533,
           3621,
           3590,
           2145,
           4113,
           10974,
           1893,
           1231,
           3656,
           1154,
           4006,
           3069,
           1740,
           2353,
           3556,
           2397,
           454,
           1715,
           2520,
           3568,
           7166,
           3939,
           1514,
           7393,
           1193,
           7297,
           2831,
           1258,
           753,
           2427,
           2538,
           1264,
           8386,
           4844,
           2923,
           8229,
           2028,
           1433,
           6289,
           1409,
           6579,
           1743,
           3565,
           1569,
           1936,
           3959,
           2390,
           1736,
           3857,
           804,
           1845,
           4576
          ],
          "sizemode": "area",
          "sizeref": 46.06,
          "symbol": "circle"
         },
         "mode": "markers",
         "name": "",
         "orientation": "v",
         "showlegend": false,
         "type": "scatter",
         "x": [
          "radio/television",
          "radio/television",
          "education",
          "furniture/equipment",
          "car (new)",
          "education",
          "furniture/equipment",
          "car (used)",
          "radio/television",
          "car (new)",
          "car (new)",
          "business",
          "radio/television",
          "car (new)",
          "car (new)",
          "radio/television",
          "radio/television",
          "business",
          "car (used)",
          "radio/television",
          "car (new)",
          "radio/television",
          "car (new)",
          "car (used)",
          "furniture/equipment",
          "furniture/equipment",
          "radio/television",
          "radio/television",
          "radio/television",
          "business",
          "business",
          "furniture/equipment",
          "car (new)",
          "business",
          "furniture/equipment",
          "radio/television",
          "education",
          "radio/television",
          "domestic appliances",
          "radio/television",
          "radio/television",
          "radio/television",
          "repairs",
          "car (used)",
          "car (used)",
          "car (new)",
          "radio/television",
          "car (used)",
          "car (new)",
          "radio/television",
          "furniture/equipment",
          "car (used)",
          "radio/television",
          "car (used)",
          "car (new)",
          "car (new)",
          "radio/television",
          "radio/television",
          "car (new)",
          "furniture/equipment",
          "business",
          "radio/television",
          "business",
          "business",
          "radio/television",
          "repairs",
          "radio/television",
          "car (new)",
          "education",
          "radio/television",
          "car (used)",
          "radio/television",
          "others",
          "business",
          "education",
          "car (used)",
          "radio/television",
          "radio/television",
          "car (used)",
          "furniture/equipment",
          "radio/television",
          "radio/television",
          "business",
          "others",
          "radio/television",
          "business",
          "furniture/equipment",
          "education",
          "car (new)",
          "repairs",
          "radio/television",
          "car (used)",
          "radio/television",
          "furniture/equipment",
          "car (new)",
          "business",
          "education",
          "business",
          "radio/television",
          "car (used)",
          "car (new)",
          "radio/television",
          "radio/television",
          "furniture/equipment",
          "car (used)",
          "others",
          "car (new)",
          "car (new)",
          "furniture/equipment",
          "business",
          "business",
          "education",
          "car (new)",
          "car (new)",
          "radio/television",
          "radio/television",
          "radio/television",
          "furniture/equipment",
          "furniture/equipment",
          "car (new)",
          "radio/television",
          "car (used)",
          "furniture/equipment",
          "car (new)",
          "furniture/equipment",
          "car (new)",
          "radio/television",
          "repairs",
          "car (used)",
          "car (new)",
          "car (new)",
          "education",
          "furniture/equipment",
          "furniture/equipment",
          "radio/television",
          "radio/television",
          "car (used)",
          "radio/television",
          "radio/television",
          "radio/television",
          "car (new)",
          "radio/television",
          "radio/television",
          "furniture/equipment",
          "furniture/equipment",
          "business",
          "car (new)",
          "car (new)",
          "furniture/equipment",
          "radio/television",
          "radio/television",
          "radio/television",
          "radio/television",
          "car (used)",
          "business",
          "furniture/equipment",
          "repairs",
          "retraining",
          "car (new)",
          "radio/television",
          "radio/television",
          "car (new)",
          "domestic appliances",
          "car (new)",
          "car (new)",
          "furniture/equipment",
          "furniture/equipment",
          "furniture/equipment",
          "furniture/equipment",
          "business",
          "car (new)",
          "furniture/equipment",
          "furniture/equipment",
          "radio/television",
          "education",
          "car (used)",
          "furniture/equipment",
          "radio/television",
          "radio/television",
          "car (new)",
          "business",
          "business",
          "car (new)",
          "furniture/equipment",
          "car (new)",
          "radio/television",
          "car (used)",
          "car (new)",
          "radio/television",
          "furniture/equipment",
          "business",
          "business",
          "business",
          "radio/television",
          "radio/television",
          "education",
          "radio/television",
          "furniture/equipment",
          "car (used)",
          "furniture/equipment",
          "education",
          "car (new)",
          "business",
          "retraining",
          "car (new)",
          "car (used)",
          "furniture/equipment",
          "domestic appliances",
          "business",
          "car (used)",
          "radio/television",
          "radio/television",
          "business",
          "business",
          "radio/television",
          "retraining",
          "business",
          "radio/television",
          "furniture/equipment",
          "car (new)",
          "radio/television",
          "education",
          "radio/television",
          "business",
          "car (used)",
          "repairs",
          "radio/television",
          "furniture/equipment",
          "radio/television",
          "furniture/equipment",
          "radio/television",
          "car (new)",
          "radio/television",
          "radio/television",
          "radio/television",
          "radio/television",
          "car (new)",
          "business",
          "radio/television",
          "radio/television",
          "car (new)",
          "radio/television",
          "car (used)",
          "business",
          "retraining",
          "business",
          "radio/television",
          "car (new)",
          "furniture/equipment",
          "radio/television",
          "car (new)",
          "furniture/equipment",
          "car (new)",
          "furniture/equipment",
          "furniture/equipment",
          "radio/television",
          "radio/television",
          "radio/television",
          "car (used)",
          "radio/television",
          "furniture/equipment",
          "radio/television",
          "car (new)",
          "education",
          "car (new)",
          "radio/television",
          "business",
          "radio/television",
          "car (new)",
          "radio/television",
          "car (new)",
          "furniture/equipment",
          "car (new)",
          "radio/television",
          "repairs",
          "radio/television",
          "radio/television",
          "furniture/equipment",
          "furniture/equipment",
          "radio/television",
          "car (used)",
          "furniture/equipment",
          "radio/television",
          "furniture/equipment",
          "car (new)",
          "car (new)",
          "car (used)",
          "others",
          "radio/television",
          "radio/television",
          "business",
          "car (used)",
          "car (used)",
          "car (used)",
          "business",
          "furniture/equipment",
          "car (used)",
          "car (new)",
          "furniture/equipment",
          "furniture/equipment",
          "car (new)",
          "radio/television",
          "car (new)",
          "car (new)",
          "car (new)",
          "furniture/equipment",
          "car (used)",
          "radio/television",
          "furniture/equipment",
          "car (new)",
          "others",
          "furniture/equipment",
          "furniture/equipment",
          "car (new)",
          "car (new)",
          "furniture/equipment",
          "furniture/equipment",
          "furniture/equipment",
          "education",
          "furniture/equipment",
          "car (new)",
          "radio/television",
          "car (used)",
          "furniture/equipment",
          "car (new)",
          "car (new)",
          "furniture/equipment",
          "car (new)",
          "radio/television",
          "radio/television",
          "car (used)",
          "education",
          "car (new)",
          "car (used)",
          "furniture/equipment",
          "furniture/equipment",
          "radio/television",
          "domestic appliances",
          "furniture/equipment",
          "furniture/equipment",
          "education",
          "furniture/equipment",
          "radio/television",
          "business",
          "car (new)",
          "radio/television",
          "radio/television",
          "radio/television",
          "business",
          "education",
          "domestic appliances",
          "furniture/equipment",
          "car (used)",
          "radio/television",
          "education",
          "car (new)",
          "radio/television",
          "radio/television",
          "radio/television",
          "furniture/equipment",
          "education",
          "radio/television",
          "car (new)",
          "furniture/equipment",
          "furniture/equipment",
          "business",
          "car (used)",
          "furniture/equipment",
          "furniture/equipment",
          "furniture/equipment",
          "car (new)",
          "radio/television",
          "furniture/equipment",
          "car (new)",
          "others",
          "business",
          "radio/television",
          "radio/television",
          "car (new)",
          "car (new)",
          "furniture/equipment",
          "car (used)",
          "car (new)",
          "car (new)",
          "business",
          "radio/television",
          "radio/television",
          "furniture/equipment",
          "business",
          "business",
          "car (new)",
          "furniture/equipment",
          "car (new)",
          "radio/television",
          "furniture/equipment",
          "education",
          "furniture/equipment",
          "furniture/equipment",
          "car (new)",
          "radio/television",
          "radio/television",
          "business",
          "business",
          "car (new)",
          "car (new)",
          "radio/television",
          "car (used)",
          "radio/television",
          "radio/television",
          "car (new)",
          "radio/television",
          "car (used)",
          "business",
          "car (new)",
          "car (new)",
          "car (used)",
          "car (new)",
          "education",
          "car (new)",
          "car (new)",
          "car (new)",
          "car (used)",
          "car (new)",
          "furniture/equipment",
          "furniture/equipment",
          "car (used)",
          "radio/television",
          "radio/television",
          "furniture/equipment",
          "repairs",
          "business",
          "others",
          "furniture/equipment",
          "repairs",
          "furniture/equipment",
          "radio/television",
          "repairs",
          "car (new)",
          "repairs",
          "business",
          "car (new)",
          "furniture/equipment",
          "others",
          "education",
          "furniture/equipment",
          "education",
          "car (new)",
          "radio/television",
          "furniture/equipment",
          "repairs",
          "car (used)",
          "radio/television",
          "furniture/equipment",
          "car (used)",
          "car (new)",
          "car (used)",
          "car (new)",
          "car (used)",
          "domestic appliances",
          "radio/television",
          "furniture/equipment",
          "car (new)",
          "furniture/equipment",
          "retraining",
          "business",
          "car (used)",
          "radio/television",
          "radio/television",
          "business",
          "car (used)",
          "radio/television",
          "education",
          "car (new)",
          "retraining",
          "radio/television",
          "furniture/equipment",
          "car (used)",
          "radio/television",
          "business",
          "furniture/equipment",
          "radio/television",
          "car (new)",
          "furniture/equipment",
          "furniture/equipment",
          "car (new)",
          "car (new)",
          "radio/television",
          "car (new)",
          "car (new)",
          "car (new)",
          "radio/television",
          "business",
          "radio/television",
          "radio/television",
          "car (new)",
          "furniture/equipment",
          "furniture/equipment",
          "furniture/equipment",
          "radio/television",
          "car (new)",
          "car (new)",
          "car (used)",
          "radio/television",
          "radio/television",
          "car (new)",
          "car (new)",
          "car (used)",
          "car (new)",
          "radio/television",
          "car (used)",
          "car (new)",
          "car (used)",
          "business",
          "radio/television",
          "car (new)",
          "car (new)",
          "car (new)",
          "furniture/equipment",
          "car (new)",
          "radio/television",
          "repairs",
          "radio/television",
          "furniture/equipment",
          "car (used)",
          "radio/television",
          "car (used)",
          "education",
          "radio/television",
          "radio/television",
          "car (new)",
          "education",
          "car (new)",
          "car (used)",
          "radio/television",
          "radio/television",
          "education",
          "car (new)",
          "furniture/equipment",
          "car (new)",
          "furniture/equipment",
          "radio/television",
          "car (new)",
          "furniture/equipment",
          "furniture/equipment",
          "car (new)",
          "car (new)",
          "car (new)",
          "radio/television",
          "radio/television",
          "car (used)",
          "repairs",
          "radio/television",
          "radio/television",
          "car (new)",
          "education",
          "radio/television",
          "car (new)",
          "car (new)",
          "furniture/equipment",
          "furniture/equipment",
          "car (used)",
          "radio/television",
          "radio/television",
          "car (new)",
          "business",
          "radio/television",
          "car (new)",
          "radio/television",
          "radio/television",
          "radio/television",
          "furniture/equipment",
          "radio/television",
          "car (used)",
          "business",
          "radio/television",
          "furniture/equipment",
          "radio/television",
          "education",
          "car (new)",
          "retraining",
          "car (new)",
          "car (new)",
          "furniture/equipment",
          "repairs",
          "car (new)",
          "furniture/equipment",
          "car (new)",
          "furniture/equipment",
          "domestic appliances",
          "furniture/equipment",
          "radio/television",
          "car (new)",
          "business",
          "car (new)",
          "others",
          "car (new)",
          "car (new)",
          "business",
          "car (new)",
          "business",
          "radio/television",
          "furniture/equipment",
          "education",
          "furniture/equipment",
          "furniture/equipment",
          "furniture/equipment",
          "business",
          "radio/television",
          "radio/television",
          "car (used)",
          "domestic appliances",
          "car (new)",
          "radio/television",
          "car (used)",
          "furniture/equipment",
          "business",
          "radio/television",
          "car (new)",
          "furniture/equipment",
          "car (new)",
          "business",
          "car (new)",
          "business",
          "furniture/equipment",
          "radio/television",
          "radio/television",
          "furniture/equipment",
          "car (new)",
          "furniture/equipment",
          "education",
          "radio/television",
          "furniture/equipment",
          "radio/television",
          "furniture/equipment",
          "car (new)",
          "education",
          "radio/television",
          "radio/television",
          "radio/television",
          "radio/television",
          "education",
          "repairs",
          "education",
          "radio/television",
          "radio/television",
          "business",
          "furniture/equipment",
          "car (new)",
          "car (new)",
          "education",
          "education",
          "furniture/equipment",
          "car (new)",
          "car (new)",
          "car (used)",
          "car (new)",
          "car (new)",
          "radio/television",
          "business",
          "furniture/equipment",
          "radio/television",
          "car (new)",
          "furniture/equipment",
          "furniture/equipment",
          "education",
          "others",
          "furniture/equipment",
          "business",
          "car (new)",
          "radio/television",
          "business",
          "business",
          "car (new)",
          "car (new)",
          "business",
          "radio/television",
          "furniture/equipment",
          "radio/television",
          "radio/television",
          "radio/television",
          "education",
          "radio/television",
          "radio/television",
          "radio/television",
          "business",
          "car (new)",
          "radio/television",
          "car (new)",
          "radio/television",
          "car (new)",
          "furniture/equipment",
          "repairs",
          "radio/television",
          "car (new)",
          "radio/television",
          "car (used)",
          "radio/television",
          "car (new)",
          "radio/television",
          "education",
          "furniture/equipment",
          "car (used)",
          "radio/television",
          "business",
          "business",
          "car (new)",
          "car (new)",
          "furniture/equipment",
          "radio/television",
          "radio/television",
          "radio/television",
          "education",
          "car (used)",
          "radio/television",
          "car (new)",
          "car (used)",
          "radio/television",
          "radio/television",
          "radio/television",
          "car (used)",
          "radio/television",
          "education",
          "car (new)",
          "radio/television",
          "car (new)",
          "car (new)",
          "radio/television",
          "radio/television",
          "business",
          "business",
          "radio/television",
          "radio/television",
          "radio/television",
          "car (used)",
          "car (new)",
          "domestic appliances",
          "car (used)",
          "car (new)",
          "car (new)",
          "business",
          "car (new)",
          "radio/television",
          "radio/television",
          "furniture/equipment",
          "furniture/equipment",
          "business",
          "car (new)",
          "car (new)",
          "car (used)",
          "car (used)",
          "furniture/equipment",
          "car (new)",
          "business",
          "radio/television",
          "repairs",
          "car (new)",
          "car (new)",
          "radio/television",
          "car (new)",
          "car (new)",
          "car (new)",
          "furniture/equipment",
          "radio/television",
          "car (new)",
          "car (new)",
          "radio/television",
          "furniture/equipment",
          "car (used)",
          "furniture/equipment",
          "radio/television",
          "car (used)",
          "education",
          "car (used)",
          "radio/television",
          "car (new)",
          "car (new)",
          "car (new)",
          "radio/television",
          "car (used)",
          "repairs",
          "radio/television",
          "car (new)",
          "retraining",
          "car (new)",
          "car (used)",
          "business",
          "radio/television",
          "car (used)",
          "education",
          "education",
          "business",
          "car (used)",
          "furniture/equipment",
          "furniture/equipment",
          "furniture/equipment",
          "furniture/equipment",
          "car (used)",
          "furniture/equipment",
          "car (new)",
          "car (new)",
          "education",
          "radio/television",
          "furniture/equipment",
          "radio/television",
          "car (new)",
          "car (new)",
          "radio/television",
          "radio/television",
          "car (used)",
          "car (new)",
          "business",
          "radio/television",
          "car (used)",
          "domestic appliances",
          "car (new)",
          "car (new)",
          "domestic appliances",
          "radio/television",
          "others",
          "radio/television",
          "car (new)",
          "radio/television",
          "furniture/equipment",
          "car (new)",
          "furniture/equipment",
          "car (new)",
          "car (new)",
          "business",
          "car (used)",
          "business",
          "business",
          "car (new)",
          "business",
          "radio/television",
          "radio/television",
          "car (new)",
          "radio/television",
          "furniture/equipment",
          "car (used)",
          "radio/television",
          "furniture/equipment",
          "car (used)",
          "repairs",
          "business",
          "furniture/equipment",
          "furniture/equipment",
          "car (new)",
          "car (new)",
          "radio/television",
          "radio/television",
          "car (new)",
          "car (used)",
          "radio/television",
          "car (new)",
          "car (new)",
          "car (new)",
          "retraining",
          "furniture/equipment",
          "car (new)",
          "car (new)",
          "car (used)",
          "business",
          "radio/television",
          "furniture/equipment",
          "furniture/equipment",
          "furniture/equipment",
          "radio/television",
          "furniture/equipment",
          "business",
          "furniture/equipment",
          "furniture/equipment",
          "car (new)",
          "business",
          "domestic appliances",
          "furniture/equipment",
          "car (new)",
          "radio/television",
          "radio/television",
          "car (new)",
          "radio/television",
          "car (used)",
          "car (used)",
          "car (new)",
          "radio/television",
          "furniture/equipment",
          "education",
          "business",
          "business",
          "car (new)",
          "car (used)",
          "business",
          "radio/television",
          "car (new)",
          "car (used)",
          "radio/television",
          "car (used)",
          "radio/television",
          "furniture/equipment",
          "furniture/equipment",
          "furniture/equipment",
          "car (new)",
          "car (new)",
          "car (used)",
          "radio/television",
          "radio/television",
          "radio/television",
          "car (new)",
          "education",
          "car (used)",
          "car (new)",
          "radio/television",
          "furniture/equipment",
          "radio/television",
          "business",
          "business",
          "others",
          "car (used)",
          "car (new)",
          "furniture/equipment",
          "furniture/equipment",
          "furniture/equipment",
          "radio/television",
          "radio/television",
          "car (new)",
          "furniture/equipment",
          "car (new)",
          "furniture/equipment",
          "car (used)",
          "radio/television",
          "car (new)",
          "furniture/equipment",
          "radio/television",
          "car (new)",
          "radio/television",
          "radio/television",
          "radio/television",
          "radio/television",
          "radio/television",
          "education",
          "car (used)",
          "car (new)",
          "car (new)",
          "furniture/equipment",
          "car (new)",
          "furniture/equipment",
          "car (new)",
          "furniture/equipment",
          "car (new)",
          "furniture/equipment",
          "radio/television",
          "business",
          "business",
          "car (used)",
          "furniture/equipment",
          "car (new)",
          "radio/television",
          "radio/television",
          "radio/television",
          "car (new)",
          "furniture/equipment",
          "radio/television",
          "car (new)",
          "car (new)",
          "radio/television",
          "repairs",
          "radio/television",
          "radio/television",
          "radio/television",
          "radio/television",
          "car (new)",
          "repairs",
          "car (new)",
          "car (new)",
          "business",
          "radio/television",
          "radio/television",
          "radio/television",
          "business",
          "car (new)",
          "car (new)",
          "furniture/equipment",
          "business",
          "car (new)",
          "car (used)",
          "furniture/equipment",
          "furniture/equipment",
          "business",
          "radio/television",
          "car (used)",
          "radio/television",
          "education",
          "radio/television",
          "radio/television",
          "furniture/equipment",
          "car (new)",
          "furniture/equipment",
          "car (used)",
          "radio/television",
          "radio/television",
          "car (used)"
         ],
         "xaxis": "x",
         "y": [
          1169,
          5951,
          2096,
          7882,
          4870,
          9055,
          2835,
          6948,
          3059,
          5234,
          1295,
          4308,
          1567,
          1199,
          1403,
          1282,
          2424,
          8072,
          12579,
          3430,
          2134,
          2647,
          2241,
          1804,
          2069,
          1374,
          426,
          409,
          2415,
          6836,
          1913,
          4020,
          5866,
          1264,
          1474,
          4746,
          6110,
          2100,
          1225,
          458,
          2333,
          1158,
          6204,
          6187,
          6143,
          1393,
          2299,
          1352,
          7228,
          2073,
          2333,
          5965,
          1262,
          3378,
          2225,
          783,
          6468,
          9566,
          1961,
          6229,
          1391,
          1537,
          1953,
          14421,
          3181,
          5190,
          2171,
          1007,
          1819,
          2394,
          8133,
          730,
          1164,
          5954,
          1977,
          1526,
          3965,
          4771,
          9436,
          3832,
          5943,
          1213,
          1568,
          1755,
          2315,
          1412,
          1295,
          12612,
          2249,
          1108,
          618,
          1409,
          797,
          3617,
          1318,
          15945,
          2012,
          2622,
          2337,
          7057,
          1469,
          2323,
          932,
          1919,
          2445,
          11938,
          6458,
          6078,
          7721,
          1410,
          1449,
          392,
          6260,
          7855,
          1680,
          3578,
          7174,
          2132,
          4281,
          2366,
          1835,
          3868,
          1768,
          781,
          1924,
          2121,
          701,
          639,
          1860,
          3499,
          8487,
          6887,
          2708,
          1984,
          10144,
          1240,
          8613,
          766,
          2728,
          1881,
          709,
          4795,
          3416,
          2462,
          2288,
          3566,
          860,
          682,
          5371,
          1582,
          1346,
          1924,
          5848,
          7758,
          6967,
          1282,
          1288,
          339,
          3512,
          1898,
          2872,
          1055,
          1262,
          7308,
          909,
          2978,
          1131,
          1577,
          3972,
          1935,
          950,
          763,
          2064,
          1414,
          3414,
          7485,
          2577,
          338,
          1963,
          571,
          9572,
          4455,
          1647,
          3777,
          884,
          1360,
          5129,
          1175,
          674,
          3244,
          4591,
          3844,
          3915,
          2108,
          3031,
          1501,
          1382,
          951,
          2760,
          4297,
          936,
          1168,
          5117,
          902,
          1495,
          10623,
          1935,
          1424,
          6568,
          1413,
          3074,
          3835,
          5293,
          1908,
          3342,
          932,
          3104,
          3913,
          3021,
          1364,
          625,
          1200,
          707,
          2978,
          4657,
          2613,
          10961,
          7865,
          1478,
          3149,
          4210,
          2507,
          2141,
          866,
          1544,
          1823,
          14555,
          2767,
          1291,
          2522,
          915,
          1595,
          4605,
          1185,
          3447,
          1258,
          717,
          1204,
          1925,
          433,
          666,
          2251,
          2150,
          4151,
          2030,
          7418,
          2684,
          2149,
          3812,
          1154,
          1657,
          1603,
          5302,
          2748,
          1231,
          802,
          6304,
          1533,
          8978,
          999,
          2662,
          1402,
          12169,
          3060,
          11998,
          2697,
          2404,
          1262,
          4611,
          1901,
          3368,
          1574,
          1445,
          1520,
          3878,
          10722,
          4788,
          7582,
          1092,
          1024,
          1076,
          9398,
          6419,
          4796,
          7629,
          9960,
          4675,
          1287,
          2515,
          2745,
          672,
          3804,
          1344,
          1038,
          10127,
          1543,
          4811,
          727,
          1237,
          276,
          5381,
          5511,
          3749,
          685,
          1494,
          2746,
          708,
          4351,
          701,
          3643,
          4249,
          1938,
          2910,
          2659,
          1028,
          3398,
          5801,
          1525,
          4473,
          1068,
          6615,
          1864,
          7408,
          11590,
          4110,
          3384,
          2101,
          1275,
          4169,
          1521,
          5743,
          3599,
          3213,
          4439,
          3949,
          1459,
          882,
          3758,
          1743,
          1136,
          1236,
          959,
          3229,
          6199,
          727,
          1246,
          2331,
          4463,
          776,
          2406,
          1239,
          3399,
          2247,
          1766,
          2473,
          1542,
          3850,
          3650,
          3446,
          3001,
          3079,
          6070,
          2146,
          13756,
          14782,
          7685,
          2320,
          846,
          14318,
          362,
          2212,
          12976,
          1283,
          1330,
          4272,
          2238,
          1126,
          7374,
          2326,
          1449,
          1820,
          983,
          3249,
          1957,
          2406,
          11760,
          2578,
          2348,
          1223,
          1516,
          1473,
          1887,
          8648,
          802,
          2899,
          2039,
          2197,
          1053,
          3235,
          939,
          1967,
          7253,
          2292,
          1597,
          1381,
          5842,
          2579,
          8471,
          2782,
          1042,
          3186,
          2028,
          958,
          1591,
          2762,
          2779,
          2743,
          1149,
          1313,
          1190,
          3448,
          11328,
          1872,
          2058,
          2136,
          1484,
          660,
          1287,
          3394,
          609,
          1884,
          1620,
          2629,
          719,
          5096,
          1244,
          1842,
          2576,
          1424,
          1512,
          11054,
          518,
          2759,
          2670,
          4817,
          2679,
          3905,
          3386,
          343,
          4594,
          3620,
          1721,
          3017,
          754,
          1950,
          2924,
          1659,
          7238,
          2764,
          4679,
          3092,
          448,
          654,
          1238,
          1245,
          3114,
          2569,
          5152,
          1037,
          1478,
          3573,
          1201,
          3622,
          960,
          1163,
          1209,
          3077,
          3757,
          1418,
          3518,
          1934,
          8318,
          1237,
          368,
          2122,
          2996,
          9034,
          1585,
          1301,
          1323,
          3123,
          5493,
          1126,
          1216,
          1207,
          1309,
          2360,
          6850,
          1413,
          8588,
          759,
          4686,
          2687,
          585,
          2255,
          609,
          1361,
          7127,
          1203,
          700,
          5507,
          3190,
          7119,
          3488,
          1113,
          7966,
          1532,
          1503,
          2302,
          662,
          2273,
          2631,
          1503,
          1311,
          3105,
          2319,
          1374,
          3612,
          7763,
          3049,
          1534,
          2032,
          6350,
          2864,
          1255,
          1333,
          2022,
          1552,
          626,
          8858,
          996,
          1750,
          6999,
          1995,
          1199,
          1331,
          2278,
          5003,
          3552,
          1928,
          2964,
          1546,
          683,
          12389,
          4712,
          1553,
          1372,
          2578,
          3979,
          6758,
          3234,
          5954,
          5433,
          806,
          1082,
          2788,
          2930,
          1927,
          2820,
          937,
          1056,
          3124,
          1388,
          2384,
          2133,
          2039,
          2799,
          1289,
          1217,
          2246,
          385,
          1965,
          1572,
          2718,
          1358,
          931,
          1442,
          4241,
          2775,
          3863,
          2329,
          918,
          1837,
          3349,
          1275,
          2828,
          4526,
          2671,
          2051,
          1300,
          741,
          1240,
          3357,
          3632,
          1808,
          12204,
          9157,
          3676,
          3441,
          640,
          3652,
          1530,
          3914,
          1858,
          2600,
          1979,
          2116,
          1437,
          4042,
          3832,
          3660,
          1553,
          1444,
          1980,
          1355,
          1393,
          1376,
          15653,
          1493,
          4370,
          750,
          1308,
          4623,
          1851,
          1880,
          7980,
          4583,
          1386,
          947,
          684,
          7476,
          1922,
          2303,
          8086,
          2346,
          3973,
          888,
          10222,
          4221,
          6361,
          1297,
          900,
          2241,
          1050,
          1047,
          6314,
          3496,
          3609,
          4843,
          3017,
          4139,
          5742,
          10366,
          2080,
          2580,
          4530,
          5150,
          5595,
          2384,
          1453,
          1538,
          2279,
          1478,
          5103,
          9857,
          6527,
          1347,
          2862,
          2753,
          3651,
          975,
          2631,
          2896,
          4716,
          2284,
          1236,
          1103,
          926,
          1800,
          1905,
          1123,
          6331,
          1377,
          2503,
          2528,
          5324,
          6560,
          2969,
          1206,
          2118,
          629,
          1198,
          2476,
          1138,
          14027,
          7596,
          3077,
          1505,
          3148,
          6148,
          1337,
          433,
          1228,
          790,
          2570,
          250,
          1316,
          1882,
          6416,
          1275,
          6403,
          1987,
          760,
          2603,
          3380,
          3990,
          11560,
          4380,
          6761,
          4280,
          2325,
          1048,
          3160,
          2483,
          14179,
          1797,
          2511,
          1274,
          5248,
          3029,
          428,
          976,
          841,
          5771,
          1555,
          1285,
          1299,
          1271,
          1393,
          691,
          5045,
          2124,
          2214,
          12680,
          2463,
          1155,
          3108,
          2901,
          3617,
          1655,
          2812,
          8065,
          3275,
          2223,
          1480,
          1371,
          3535,
          3509,
          5711,
          3872,
          4933,
          1940,
          1410,
          836,
          6468,
          1941,
          2675,
          2751,
          6224,
          5998,
          1188,
          6313,
          1221,
          2892,
          3062,
          2301,
          7511,
          1258,
          717,
          1549,
          1597,
          1795,
          4272,
          976,
          7472,
          9271,
          590,
          930,
          9283,
          1778,
          907,
          484,
          9629,
          3051,
          3931,
          7432,
          1338,
          1554,
          15857,
          1345,
          1101,
          3016,
          2712,
          731,
          3780,
          1602,
          3966,
          4165,
          8335,
          6681,
          2375,
          1216,
          11816,
          5084,
          2327,
          1082,
          886,
          601,
          2957,
          2611,
          5179,
          2993,
          1943,
          1559,
          3422,
          3976,
          6761,
          1249,
          1364,
          709,
          2235,
          4042,
          1471,
          1442,
          10875,
          1474,
          894,
          3343,
          3959,
          3577,
          5804,
          2169,
          2439,
          4526,
          2210,
          2221,
          2389,
          3331,
          7409,
          652,
          7678,
          1343,
          1382,
          874,
          3590,
          1322,
          1940,
          3595,
          1422,
          6742,
          7814,
          9277,
          2181,
          1098,
          4057,
          795,
          2825,
          15672,
          6614,
          7824,
          2442,
          1829,
          2171,
          5800,
          1169,
          8947,
          2606,
          1592,
          2186,
          4153,
          2625,
          3485,
          10477,
          1386,
          1278,
          1107,
          3763,
          3711,
          3594,
          3195,
          4454,
          4736,
          2991,
          2142,
          3161,
          18424,
          2848,
          14896,
          2359,
          3345,
          1817,
          12749,
          1366,
          2002,
          6872,
          697,
          1049,
          10297,
          1867,
          1344,
          1747,
          1670,
          1224,
          522,
          1498,
          1919,
          745,
          2063,
          6288,
          6842,
          3527,
          1546,
          929,
          1455,
          1845,
          8358,
          3349,
          2859,
          1533,
          3621,
          3590,
          2145,
          4113,
          10974,
          1893,
          1231,
          3656,
          1154,
          4006,
          3069,
          1740,
          2353,
          3556,
          2397,
          454,
          1715,
          2520,
          3568,
          7166,
          3939,
          1514,
          7393,
          1193,
          7297,
          2831,
          1258,
          753,
          2427,
          2538,
          1264,
          8386,
          4844,
          2923,
          8229,
          2028,
          1433,
          6289,
          1409,
          6579,
          1743,
          3565,
          1569,
          1936,
          3959,
          2390,
          1736,
          3857,
          804,
          1845,
          4576
         ],
         "yaxis": "y"
        }
       ],
       "layout": {
        "coloraxis": {
         "colorbar": {
          "title": {
           "text": "age"
          }
         },
         "colorscale": [
          [
           0,
           "#0d0887"
          ],
          [
           0.1111111111111111,
           "#46039f"
          ],
          [
           0.2222222222222222,
           "#7201a8"
          ],
          [
           0.3333333333333333,
           "#9c179e"
          ],
          [
           0.4444444444444444,
           "#bd3786"
          ],
          [
           0.5555555555555556,
           "#d8576b"
          ],
          [
           0.6666666666666666,
           "#ed7953"
          ],
          [
           0.7777777777777778,
           "#fb9f3a"
          ],
          [
           0.8888888888888888,
           "#fdca26"
          ],
          [
           1,
           "#f0f921"
          ]
         ]
        },
        "legend": {
         "itemsizing": "constant",
         "tracegroupgap": 0
        },
        "margin": {
         "t": 60
        },
        "template": {
         "data": {
          "bar": [
           {
            "error_x": {
             "color": "#2a3f5f"
            },
            "error_y": {
             "color": "#2a3f5f"
            },
            "marker": {
             "line": {
              "color": "#E5ECF6",
              "width": 0.5
             }
            },
            "type": "bar"
           }
          ],
          "barpolar": [
           {
            "marker": {
             "line": {
              "color": "#E5ECF6",
              "width": 0.5
             }
            },
            "type": "barpolar"
           }
          ],
          "carpet": [
           {
            "aaxis": {
             "endlinecolor": "#2a3f5f",
             "gridcolor": "white",
             "linecolor": "white",
             "minorgridcolor": "white",
             "startlinecolor": "#2a3f5f"
            },
            "baxis": {
             "endlinecolor": "#2a3f5f",
             "gridcolor": "white",
             "linecolor": "white",
             "minorgridcolor": "white",
             "startlinecolor": "#2a3f5f"
            },
            "type": "carpet"
           }
          ],
          "choropleth": [
           {
            "colorbar": {
             "outlinewidth": 0,
             "ticks": ""
            },
            "type": "choropleth"
           }
          ],
          "contour": [
           {
            "colorbar": {
             "outlinewidth": 0,
             "ticks": ""
            },
            "colorscale": [
             [
              0,
              "#0d0887"
             ],
             [
              0.1111111111111111,
              "#46039f"
             ],
             [
              0.2222222222222222,
              "#7201a8"
             ],
             [
              0.3333333333333333,
              "#9c179e"
             ],
             [
              0.4444444444444444,
              "#bd3786"
             ],
             [
              0.5555555555555556,
              "#d8576b"
             ],
             [
              0.6666666666666666,
              "#ed7953"
             ],
             [
              0.7777777777777778,
              "#fb9f3a"
             ],
             [
              0.8888888888888888,
              "#fdca26"
             ],
             [
              1,
              "#f0f921"
             ]
            ],
            "type": "contour"
           }
          ],
          "contourcarpet": [
           {
            "colorbar": {
             "outlinewidth": 0,
             "ticks": ""
            },
            "type": "contourcarpet"
           }
          ],
          "heatmap": [
           {
            "colorbar": {
             "outlinewidth": 0,
             "ticks": ""
            },
            "colorscale": [
             [
              0,
              "#0d0887"
             ],
             [
              0.1111111111111111,
              "#46039f"
             ],
             [
              0.2222222222222222,
              "#7201a8"
             ],
             [
              0.3333333333333333,
              "#9c179e"
             ],
             [
              0.4444444444444444,
              "#bd3786"
             ],
             [
              0.5555555555555556,
              "#d8576b"
             ],
             [
              0.6666666666666666,
              "#ed7953"
             ],
             [
              0.7777777777777778,
              "#fb9f3a"
             ],
             [
              0.8888888888888888,
              "#fdca26"
             ],
             [
              1,
              "#f0f921"
             ]
            ],
            "type": "heatmap"
           }
          ],
          "heatmapgl": [
           {
            "colorbar": {
             "outlinewidth": 0,
             "ticks": ""
            },
            "colorscale": [
             [
              0,
              "#0d0887"
             ],
             [
              0.1111111111111111,
              "#46039f"
             ],
             [
              0.2222222222222222,
              "#7201a8"
             ],
             [
              0.3333333333333333,
              "#9c179e"
             ],
             [
              0.4444444444444444,
              "#bd3786"
             ],
             [
              0.5555555555555556,
              "#d8576b"
             ],
             [
              0.6666666666666666,
              "#ed7953"
             ],
             [
              0.7777777777777778,
              "#fb9f3a"
             ],
             [
              0.8888888888888888,
              "#fdca26"
             ],
             [
              1,
              "#f0f921"
             ]
            ],
            "type": "heatmapgl"
           }
          ],
          "histogram": [
           {
            "marker": {
             "colorbar": {
              "outlinewidth": 0,
              "ticks": ""
             }
            },
            "type": "histogram"
           }
          ],
          "histogram2d": [
           {
            "colorbar": {
             "outlinewidth": 0,
             "ticks": ""
            },
            "colorscale": [
             [
              0,
              "#0d0887"
             ],
             [
              0.1111111111111111,
              "#46039f"
             ],
             [
              0.2222222222222222,
              "#7201a8"
             ],
             [
              0.3333333333333333,
              "#9c179e"
             ],
             [
              0.4444444444444444,
              "#bd3786"
             ],
             [
              0.5555555555555556,
              "#d8576b"
             ],
             [
              0.6666666666666666,
              "#ed7953"
             ],
             [
              0.7777777777777778,
              "#fb9f3a"
             ],
             [
              0.8888888888888888,
              "#fdca26"
             ],
             [
              1,
              "#f0f921"
             ]
            ],
            "type": "histogram2d"
           }
          ],
          "histogram2dcontour": [
           {
            "colorbar": {
             "outlinewidth": 0,
             "ticks": ""
            },
            "colorscale": [
             [
              0,
              "#0d0887"
             ],
             [
              0.1111111111111111,
              "#46039f"
             ],
             [
              0.2222222222222222,
              "#7201a8"
             ],
             [
              0.3333333333333333,
              "#9c179e"
             ],
             [
              0.4444444444444444,
              "#bd3786"
             ],
             [
              0.5555555555555556,
              "#d8576b"
             ],
             [
              0.6666666666666666,
              "#ed7953"
             ],
             [
              0.7777777777777778,
              "#fb9f3a"
             ],
             [
              0.8888888888888888,
              "#fdca26"
             ],
             [
              1,
              "#f0f921"
             ]
            ],
            "type": "histogram2dcontour"
           }
          ],
          "mesh3d": [
           {
            "colorbar": {
             "outlinewidth": 0,
             "ticks": ""
            },
            "type": "mesh3d"
           }
          ],
          "parcoords": [
           {
            "line": {
             "colorbar": {
              "outlinewidth": 0,
              "ticks": ""
             }
            },
            "type": "parcoords"
           }
          ],
          "pie": [
           {
            "automargin": true,
            "type": "pie"
           }
          ],
          "scatter": [
           {
            "marker": {
             "colorbar": {
              "outlinewidth": 0,
              "ticks": ""
             }
            },
            "type": "scatter"
           }
          ],
          "scatter3d": [
           {
            "line": {
             "colorbar": {
              "outlinewidth": 0,
              "ticks": ""
             }
            },
            "marker": {
             "colorbar": {
              "outlinewidth": 0,
              "ticks": ""
             }
            },
            "type": "scatter3d"
           }
          ],
          "scattercarpet": [
           {
            "marker": {
             "colorbar": {
              "outlinewidth": 0,
              "ticks": ""
             }
            },
            "type": "scattercarpet"
           }
          ],
          "scattergeo": [
           {
            "marker": {
             "colorbar": {
              "outlinewidth": 0,
              "ticks": ""
             }
            },
            "type": "scattergeo"
           }
          ],
          "scattergl": [
           {
            "marker": {
             "colorbar": {
              "outlinewidth": 0,
              "ticks": ""
             }
            },
            "type": "scattergl"
           }
          ],
          "scattermapbox": [
           {
            "marker": {
             "colorbar": {
              "outlinewidth": 0,
              "ticks": ""
             }
            },
            "type": "scattermapbox"
           }
          ],
          "scatterpolar": [
           {
            "marker": {
             "colorbar": {
              "outlinewidth": 0,
              "ticks": ""
             }
            },
            "type": "scatterpolar"
           }
          ],
          "scatterpolargl": [
           {
            "marker": {
             "colorbar": {
              "outlinewidth": 0,
              "ticks": ""
             }
            },
            "type": "scatterpolargl"
           }
          ],
          "scatterternary": [
           {
            "marker": {
             "colorbar": {
              "outlinewidth": 0,
              "ticks": ""
             }
            },
            "type": "scatterternary"
           }
          ],
          "surface": [
           {
            "colorbar": {
             "outlinewidth": 0,
             "ticks": ""
            },
            "colorscale": [
             [
              0,
              "#0d0887"
             ],
             [
              0.1111111111111111,
              "#46039f"
             ],
             [
              0.2222222222222222,
              "#7201a8"
             ],
             [
              0.3333333333333333,
              "#9c179e"
             ],
             [
              0.4444444444444444,
              "#bd3786"
             ],
             [
              0.5555555555555556,
              "#d8576b"
             ],
             [
              0.6666666666666666,
              "#ed7953"
             ],
             [
              0.7777777777777778,
              "#fb9f3a"
             ],
             [
              0.8888888888888888,
              "#fdca26"
             ],
             [
              1,
              "#f0f921"
             ]
            ],
            "type": "surface"
           }
          ],
          "table": [
           {
            "cells": {
             "fill": {
              "color": "#EBF0F8"
             },
             "line": {
              "color": "white"
             }
            },
            "header": {
             "fill": {
              "color": "#C8D4E3"
             },
             "line": {
              "color": "white"
             }
            },
            "type": "table"
           }
          ]
         },
         "layout": {
          "annotationdefaults": {
           "arrowcolor": "#2a3f5f",
           "arrowhead": 0,
           "arrowwidth": 1
          },
          "coloraxis": {
           "colorbar": {
            "outlinewidth": 0,
            "ticks": ""
           }
          },
          "colorscale": {
           "diverging": [
            [
             0,
             "#8e0152"
            ],
            [
             0.1,
             "#c51b7d"
            ],
            [
             0.2,
             "#de77ae"
            ],
            [
             0.3,
             "#f1b6da"
            ],
            [
             0.4,
             "#fde0ef"
            ],
            [
             0.5,
             "#f7f7f7"
            ],
            [
             0.6,
             "#e6f5d0"
            ],
            [
             0.7,
             "#b8e186"
            ],
            [
             0.8,
             "#7fbc41"
            ],
            [
             0.9,
             "#4d9221"
            ],
            [
             1,
             "#276419"
            ]
           ],
           "sequential": [
            [
             0,
             "#0d0887"
            ],
            [
             0.1111111111111111,
             "#46039f"
            ],
            [
             0.2222222222222222,
             "#7201a8"
            ],
            [
             0.3333333333333333,
             "#9c179e"
            ],
            [
             0.4444444444444444,
             "#bd3786"
            ],
            [
             0.5555555555555556,
             "#d8576b"
            ],
            [
             0.6666666666666666,
             "#ed7953"
            ],
            [
             0.7777777777777778,
             "#fb9f3a"
            ],
            [
             0.8888888888888888,
             "#fdca26"
            ],
            [
             1,
             "#f0f921"
            ]
           ],
           "sequentialminus": [
            [
             0,
             "#0d0887"
            ],
            [
             0.1111111111111111,
             "#46039f"
            ],
            [
             0.2222222222222222,
             "#7201a8"
            ],
            [
             0.3333333333333333,
             "#9c179e"
            ],
            [
             0.4444444444444444,
             "#bd3786"
            ],
            [
             0.5555555555555556,
             "#d8576b"
            ],
            [
             0.6666666666666666,
             "#ed7953"
            ],
            [
             0.7777777777777778,
             "#fb9f3a"
            ],
            [
             0.8888888888888888,
             "#fdca26"
            ],
            [
             1,
             "#f0f921"
            ]
           ]
          },
          "colorway": [
           "#636efa",
           "#EF553B",
           "#00cc96",
           "#ab63fa",
           "#FFA15A",
           "#19d3f3",
           "#FF6692",
           "#B6E880",
           "#FF97FF",
           "#FECB52"
          ],
          "font": {
           "color": "#2a3f5f"
          },
          "geo": {
           "bgcolor": "white",
           "lakecolor": "white",
           "landcolor": "#E5ECF6",
           "showlakes": true,
           "showland": true,
           "subunitcolor": "white"
          },
          "hoverlabel": {
           "align": "left"
          },
          "hovermode": "closest",
          "mapbox": {
           "style": "light"
          },
          "paper_bgcolor": "white",
          "plot_bgcolor": "#E5ECF6",
          "polar": {
           "angularaxis": {
            "gridcolor": "white",
            "linecolor": "white",
            "ticks": ""
           },
           "bgcolor": "#E5ECF6",
           "radialaxis": {
            "gridcolor": "white",
            "linecolor": "white",
            "ticks": ""
           }
          },
          "scene": {
           "xaxis": {
            "backgroundcolor": "#E5ECF6",
            "gridcolor": "white",
            "gridwidth": 2,
            "linecolor": "white",
            "showbackground": true,
            "ticks": "",
            "zerolinecolor": "white"
           },
           "yaxis": {
            "backgroundcolor": "#E5ECF6",
            "gridcolor": "white",
            "gridwidth": 2,
            "linecolor": "white",
            "showbackground": true,
            "ticks": "",
            "zerolinecolor": "white"
           },
           "zaxis": {
            "backgroundcolor": "#E5ECF6",
            "gridcolor": "white",
            "gridwidth": 2,
            "linecolor": "white",
            "showbackground": true,
            "ticks": "",
            "zerolinecolor": "white"
           }
          },
          "shapedefaults": {
           "line": {
            "color": "#2a3f5f"
           }
          },
          "ternary": {
           "aaxis": {
            "gridcolor": "white",
            "linecolor": "white",
            "ticks": ""
           },
           "baxis": {
            "gridcolor": "white",
            "linecolor": "white",
            "ticks": ""
           },
           "bgcolor": "#E5ECF6",
           "caxis": {
            "gridcolor": "white",
            "linecolor": "white",
            "ticks": ""
           }
          },
          "title": {
           "x": 0.05
          },
          "xaxis": {
           "automargin": true,
           "gridcolor": "white",
           "linecolor": "white",
           "ticks": "",
           "title": {
            "standoff": 15
           },
           "zerolinecolor": "white",
           "zerolinewidth": 2
          },
          "yaxis": {
           "automargin": true,
           "gridcolor": "white",
           "linecolor": "white",
           "ticks": "",
           "title": {
            "standoff": 15
           },
           "zerolinecolor": "white",
           "zerolinewidth": 2
          }
         }
        },
        "xaxis": {
         "anchor": "y",
         "domain": [
          0,
          1
         ],
         "title": {
          "text": "credit_purpose"
         }
        },
        "yaxis": {
         "anchor": "x",
         "domain": [
          0,
          1
         ],
         "title": {
          "text": "credit_amount"
         }
        }
       }
      },
      "text/html": [
       "<div>                            <div id=\"302d33bf-db89-4b18-851b-8112e17b3182\" class=\"plotly-graph-div\" style=\"height:525px; width:100%;\"></div>            <script type=\"text/javascript\">                require([\"plotly\"], function(Plotly) {                    window.PLOTLYENV=window.PLOTLYENV || {};                                    if (document.getElementById(\"302d33bf-db89-4b18-851b-8112e17b3182\")) {                    Plotly.newPlot(                        \"302d33bf-db89-4b18-851b-8112e17b3182\",                        [{\"customdata\": [[\"radio/television\"], [\"radio/television\"], [\"education\"], [\"furniture/equipment\"], [\"car (new)\"], [\"education\"], [\"furniture/equipment\"], [\"car (used)\"], [\"radio/television\"], [\"car (new)\"], [\"car (new)\"], [\"business\"], [\"radio/television\"], [\"car (new)\"], [\"car (new)\"], [\"radio/television\"], [\"radio/television\"], [\"business\"], [\"car (used)\"], [\"radio/television\"], [\"car (new)\"], [\"radio/television\"], [\"car (new)\"], [\"car (used)\"], [\"furniture/equipment\"], [\"furniture/equipment\"], [\"radio/television\"], [\"radio/television\"], [\"radio/television\"], [\"business\"], [\"business\"], [\"furniture/equipment\"], [\"car (new)\"], [\"business\"], [\"furniture/equipment\"], [\"radio/television\"], [\"education\"], [\"radio/television\"], [\"domestic appliances\"], [\"radio/television\"], [\"radio/television\"], [\"radio/television\"], [\"repairs\"], [\"car (used)\"], [\"car (used)\"], [\"car (new)\"], [\"radio/television\"], [\"car (used)\"], [\"car (new)\"], [\"radio/television\"], [\"furniture/equipment\"], [\"car (used)\"], [\"radio/television\"], [\"car (used)\"], [\"car (new)\"], [\"car (new)\"], [\"radio/television\"], [\"radio/television\"], [\"car (new)\"], [\"furniture/equipment\"], [\"business\"], [\"radio/television\"], [\"business\"], [\"business\"], [\"radio/television\"], [\"repairs\"], [\"radio/television\"], [\"car (new)\"], [\"education\"], [\"radio/television\"], [\"car (used)\"], [\"radio/television\"], [\"others\"], [\"business\"], [\"education\"], [\"car (used)\"], [\"radio/television\"], [\"radio/television\"], [\"car (used)\"], [\"furniture/equipment\"], [\"radio/television\"], [\"radio/television\"], [\"business\"], [\"others\"], [\"radio/television\"], [\"business\"], [\"furniture/equipment\"], [\"education\"], [\"car (new)\"], [\"repairs\"], [\"radio/television\"], [\"car (used)\"], [\"radio/television\"], [\"furniture/equipment\"], [\"car (new)\"], [\"business\"], [\"education\"], [\"business\"], [\"radio/television\"], [\"car (used)\"], [\"car (new)\"], [\"radio/television\"], [\"radio/television\"], [\"furniture/equipment\"], [\"car (used)\"], [\"others\"], [\"car (new)\"], [\"car (new)\"], [\"furniture/equipment\"], [\"business\"], [\"business\"], [\"education\"], [\"car (new)\"], [\"car (new)\"], [\"radio/television\"], [\"radio/television\"], [\"radio/television\"], [\"furniture/equipment\"], [\"furniture/equipment\"], [\"car (new)\"], [\"radio/television\"], [\"car (used)\"], [\"furniture/equipment\"], [\"car (new)\"], [\"furniture/equipment\"], [\"car (new)\"], [\"radio/television\"], [\"repairs\"], [\"car (used)\"], [\"car (new)\"], [\"car (new)\"], [\"education\"], [\"furniture/equipment\"], [\"furniture/equipment\"], [\"radio/television\"], [\"radio/television\"], [\"car (used)\"], [\"radio/television\"], [\"radio/television\"], [\"radio/television\"], [\"car (new)\"], [\"radio/television\"], [\"radio/television\"], [\"furniture/equipment\"], [\"furniture/equipment\"], [\"business\"], [\"car (new)\"], [\"car (new)\"], [\"furniture/equipment\"], [\"radio/television\"], [\"radio/television\"], [\"radio/television\"], [\"radio/television\"], [\"car (used)\"], [\"business\"], [\"furniture/equipment\"], [\"repairs\"], [\"retraining\"], [\"car (new)\"], [\"radio/television\"], [\"radio/television\"], [\"car (new)\"], [\"domestic appliances\"], [\"car (new)\"], [\"car (new)\"], [\"furniture/equipment\"], [\"furniture/equipment\"], [\"furniture/equipment\"], [\"furniture/equipment\"], [\"business\"], [\"car (new)\"], [\"furniture/equipment\"], [\"furniture/equipment\"], [\"radio/television\"], [\"education\"], [\"car (used)\"], [\"furniture/equipment\"], [\"radio/television\"], [\"radio/television\"], [\"car (new)\"], [\"business\"], [\"business\"], [\"car (new)\"], [\"furniture/equipment\"], [\"car (new)\"], [\"radio/television\"], [\"car (used)\"], [\"car (new)\"], [\"radio/television\"], [\"furniture/equipment\"], [\"business\"], [\"business\"], [\"business\"], [\"radio/television\"], [\"radio/television\"], [\"education\"], [\"radio/television\"], [\"furniture/equipment\"], [\"car (used)\"], [\"furniture/equipment\"], [\"education\"], [\"car (new)\"], [\"business\"], [\"retraining\"], [\"car (new)\"], [\"car (used)\"], [\"furniture/equipment\"], [\"domestic appliances\"], [\"business\"], [\"car (used)\"], [\"radio/television\"], [\"radio/television\"], [\"business\"], [\"business\"], [\"radio/television\"], [\"retraining\"], [\"business\"], [\"radio/television\"], [\"furniture/equipment\"], [\"car (new)\"], [\"radio/television\"], [\"education\"], [\"radio/television\"], [\"business\"], [\"car (used)\"], [\"repairs\"], [\"radio/television\"], [\"furniture/equipment\"], [\"radio/television\"], [\"furniture/equipment\"], [\"radio/television\"], [\"car (new)\"], [\"radio/television\"], [\"radio/television\"], [\"radio/television\"], [\"radio/television\"], [\"car (new)\"], [\"business\"], [\"radio/television\"], [\"radio/television\"], [\"car (new)\"], [\"radio/television\"], [\"car (used)\"], [\"business\"], [\"retraining\"], [\"business\"], [\"radio/television\"], [\"car (new)\"], [\"furniture/equipment\"], [\"radio/television\"], [\"car (new)\"], [\"furniture/equipment\"], [\"car (new)\"], [\"furniture/equipment\"], [\"furniture/equipment\"], [\"radio/television\"], [\"radio/television\"], [\"radio/television\"], [\"car (used)\"], [\"radio/television\"], [\"furniture/equipment\"], [\"radio/television\"], [\"car (new)\"], [\"education\"], [\"car (new)\"], [\"radio/television\"], [\"business\"], [\"radio/television\"], [\"car (new)\"], [\"radio/television\"], [\"car (new)\"], [\"furniture/equipment\"], [\"car (new)\"], [\"radio/television\"], [\"repairs\"], [\"radio/television\"], [\"radio/television\"], [\"furniture/equipment\"], [\"furniture/equipment\"], [\"radio/television\"], [\"car (used)\"], [\"furniture/equipment\"], [\"radio/television\"], [\"furniture/equipment\"], [\"car (new)\"], [\"car (new)\"], [\"car (used)\"], [\"others\"], [\"radio/television\"], [\"radio/television\"], [\"business\"], [\"car (used)\"], [\"car (used)\"], [\"car (used)\"], [\"business\"], [\"furniture/equipment\"], [\"car (used)\"], [\"car (new)\"], [\"furniture/equipment\"], [\"furniture/equipment\"], [\"car (new)\"], [\"radio/television\"], [\"car (new)\"], [\"car (new)\"], [\"car (new)\"], [\"furniture/equipment\"], [\"car (used)\"], [\"radio/television\"], [\"furniture/equipment\"], [\"car (new)\"], [\"others\"], [\"furniture/equipment\"], [\"furniture/equipment\"], [\"car (new)\"], [\"car (new)\"], [\"furniture/equipment\"], [\"furniture/equipment\"], [\"furniture/equipment\"], [\"education\"], [\"furniture/equipment\"], [\"car (new)\"], [\"radio/television\"], [\"car (used)\"], [\"furniture/equipment\"], [\"car (new)\"], [\"car (new)\"], [\"furniture/equipment\"], [\"car (new)\"], [\"radio/television\"], [\"radio/television\"], [\"car (used)\"], [\"education\"], [\"car (new)\"], [\"car (used)\"], [\"furniture/equipment\"], [\"furniture/equipment\"], [\"radio/television\"], [\"domestic appliances\"], [\"furniture/equipment\"], [\"furniture/equipment\"], [\"education\"], [\"furniture/equipment\"], [\"radio/television\"], [\"business\"], [\"car (new)\"], [\"radio/television\"], [\"radio/television\"], [\"radio/television\"], [\"business\"], [\"education\"], [\"domestic appliances\"], [\"furniture/equipment\"], [\"car (used)\"], [\"radio/television\"], [\"education\"], [\"car (new)\"], [\"radio/television\"], [\"radio/television\"], [\"radio/television\"], [\"furniture/equipment\"], [\"education\"], [\"radio/television\"], [\"car (new)\"], [\"furniture/equipment\"], [\"furniture/equipment\"], [\"business\"], [\"car (used)\"], [\"furniture/equipment\"], [\"furniture/equipment\"], [\"furniture/equipment\"], [\"car (new)\"], [\"radio/television\"], [\"furniture/equipment\"], [\"car (new)\"], [\"others\"], [\"business\"], [\"radio/television\"], [\"radio/television\"], [\"car (new)\"], [\"car (new)\"], [\"furniture/equipment\"], [\"car (used)\"], [\"car (new)\"], [\"car (new)\"], [\"business\"], [\"radio/television\"], [\"radio/television\"], [\"furniture/equipment\"], [\"business\"], [\"business\"], [\"car (new)\"], [\"furniture/equipment\"], [\"car (new)\"], [\"radio/television\"], [\"furniture/equipment\"], [\"education\"], [\"furniture/equipment\"], [\"furniture/equipment\"], [\"car (new)\"], [\"radio/television\"], [\"radio/television\"], [\"business\"], [\"business\"], [\"car (new)\"], [\"car (new)\"], [\"radio/television\"], [\"car (used)\"], [\"radio/television\"], [\"radio/television\"], [\"car (new)\"], [\"radio/television\"], [\"car (used)\"], [\"business\"], [\"car (new)\"], [\"car (new)\"], [\"car (used)\"], [\"car (new)\"], [\"education\"], [\"car (new)\"], [\"car (new)\"], [\"car (new)\"], [\"car (used)\"], [\"car (new)\"], [\"furniture/equipment\"], [\"furniture/equipment\"], [\"car (used)\"], [\"radio/television\"], [\"radio/television\"], [\"furniture/equipment\"], [\"repairs\"], [\"business\"], [\"others\"], [\"furniture/equipment\"], [\"repairs\"], [\"furniture/equipment\"], [\"radio/television\"], [\"repairs\"], [\"car (new)\"], [\"repairs\"], [\"business\"], [\"car (new)\"], [\"furniture/equipment\"], [\"others\"], [\"education\"], [\"furniture/equipment\"], [\"education\"], [\"car (new)\"], [\"radio/television\"], [\"furniture/equipment\"], [\"repairs\"], [\"car (used)\"], [\"radio/television\"], [\"furniture/equipment\"], [\"car (used)\"], [\"car (new)\"], [\"car (used)\"], [\"car (new)\"], [\"car (used)\"], [\"domestic appliances\"], [\"radio/television\"], [\"furniture/equipment\"], [\"car (new)\"], [\"furniture/equipment\"], [\"retraining\"], [\"business\"], [\"car (used)\"], [\"radio/television\"], [\"radio/television\"], [\"business\"], [\"car (used)\"], [\"radio/television\"], [\"education\"], [\"car (new)\"], [\"retraining\"], [\"radio/television\"], [\"furniture/equipment\"], [\"car (used)\"], [\"radio/television\"], [\"business\"], [\"furniture/equipment\"], [\"radio/television\"], [\"car (new)\"], [\"furniture/equipment\"], [\"furniture/equipment\"], [\"car (new)\"], [\"car (new)\"], [\"radio/television\"], [\"car (new)\"], [\"car (new)\"], [\"car (new)\"], [\"radio/television\"], [\"business\"], [\"radio/television\"], [\"radio/television\"], [\"car (new)\"], [\"furniture/equipment\"], [\"furniture/equipment\"], [\"furniture/equipment\"], [\"radio/television\"], [\"car (new)\"], [\"car (new)\"], [\"car (used)\"], [\"radio/television\"], [\"radio/television\"], [\"car (new)\"], [\"car (new)\"], [\"car (used)\"], [\"car (new)\"], [\"radio/television\"], [\"car (used)\"], [\"car (new)\"], [\"car (used)\"], [\"business\"], [\"radio/television\"], [\"car (new)\"], [\"car (new)\"], [\"car (new)\"], [\"furniture/equipment\"], [\"car (new)\"], [\"radio/television\"], [\"repairs\"], [\"radio/television\"], [\"furniture/equipment\"], [\"car (used)\"], [\"radio/television\"], [\"car (used)\"], [\"education\"], [\"radio/television\"], [\"radio/television\"], [\"car (new)\"], [\"education\"], [\"car (new)\"], [\"car (used)\"], [\"radio/television\"], [\"radio/television\"], [\"education\"], [\"car (new)\"], [\"furniture/equipment\"], [\"car (new)\"], [\"furniture/equipment\"], [\"radio/television\"], [\"car (new)\"], [\"furniture/equipment\"], [\"furniture/equipment\"], [\"car (new)\"], [\"car (new)\"], [\"car (new)\"], [\"radio/television\"], [\"radio/television\"], [\"car (used)\"], [\"repairs\"], [\"radio/television\"], [\"radio/television\"], [\"car (new)\"], [\"education\"], [\"radio/television\"], [\"car (new)\"], [\"car (new)\"], [\"furniture/equipment\"], [\"furniture/equipment\"], [\"car (used)\"], [\"radio/television\"], [\"radio/television\"], [\"car (new)\"], [\"business\"], [\"radio/television\"], [\"car (new)\"], [\"radio/television\"], [\"radio/television\"], [\"radio/television\"], [\"furniture/equipment\"], [\"radio/television\"], [\"car (used)\"], [\"business\"], [\"radio/television\"], [\"furniture/equipment\"], [\"radio/television\"], [\"education\"], [\"car (new)\"], [\"retraining\"], [\"car (new)\"], [\"car (new)\"], [\"furniture/equipment\"], [\"repairs\"], [\"car (new)\"], [\"furniture/equipment\"], [\"car (new)\"], [\"furniture/equipment\"], [\"domestic appliances\"], [\"furniture/equipment\"], [\"radio/television\"], [\"car (new)\"], [\"business\"], [\"car (new)\"], [\"others\"], [\"car (new)\"], [\"car (new)\"], [\"business\"], [\"car (new)\"], [\"business\"], [\"radio/television\"], [\"furniture/equipment\"], [\"education\"], [\"furniture/equipment\"], [\"furniture/equipment\"], [\"furniture/equipment\"], [\"business\"], [\"radio/television\"], [\"radio/television\"], [\"car (used)\"], [\"domestic appliances\"], [\"car (new)\"], [\"radio/television\"], [\"car (used)\"], [\"furniture/equipment\"], [\"business\"], [\"radio/television\"], [\"car (new)\"], [\"furniture/equipment\"], [\"car (new)\"], [\"business\"], [\"car (new)\"], [\"business\"], [\"furniture/equipment\"], [\"radio/television\"], [\"radio/television\"], [\"furniture/equipment\"], [\"car (new)\"], [\"furniture/equipment\"], [\"education\"], [\"radio/television\"], [\"furniture/equipment\"], [\"radio/television\"], [\"furniture/equipment\"], [\"car (new)\"], [\"education\"], [\"radio/television\"], [\"radio/television\"], [\"radio/television\"], [\"radio/television\"], [\"education\"], [\"repairs\"], [\"education\"], [\"radio/television\"], [\"radio/television\"], [\"business\"], [\"furniture/equipment\"], [\"car (new)\"], [\"car (new)\"], [\"education\"], [\"education\"], [\"furniture/equipment\"], [\"car (new)\"], [\"car (new)\"], [\"car (used)\"], [\"car (new)\"], [\"car (new)\"], [\"radio/television\"], [\"business\"], [\"furniture/equipment\"], [\"radio/television\"], [\"car (new)\"], [\"furniture/equipment\"], [\"furniture/equipment\"], [\"education\"], [\"others\"], [\"furniture/equipment\"], [\"business\"], [\"car (new)\"], [\"radio/television\"], [\"business\"], [\"business\"], [\"car (new)\"], [\"car (new)\"], [\"business\"], [\"radio/television\"], [\"furniture/equipment\"], [\"radio/television\"], [\"radio/television\"], [\"radio/television\"], [\"education\"], [\"radio/television\"], [\"radio/television\"], [\"radio/television\"], [\"business\"], [\"car (new)\"], [\"radio/television\"], [\"car (new)\"], [\"radio/television\"], [\"car (new)\"], [\"furniture/equipment\"], [\"repairs\"], [\"radio/television\"], [\"car (new)\"], [\"radio/television\"], [\"car (used)\"], [\"radio/television\"], [\"car (new)\"], [\"radio/television\"], [\"education\"], [\"furniture/equipment\"], [\"car (used)\"], [\"radio/television\"], [\"business\"], [\"business\"], [\"car (new)\"], [\"car (new)\"], [\"furniture/equipment\"], [\"radio/television\"], [\"radio/television\"], [\"radio/television\"], [\"education\"], [\"car (used)\"], [\"radio/television\"], [\"car (new)\"], [\"car (used)\"], [\"radio/television\"], [\"radio/television\"], [\"radio/television\"], [\"car (used)\"], [\"radio/television\"], [\"education\"], [\"car (new)\"], [\"radio/television\"], [\"car (new)\"], [\"car (new)\"], [\"radio/television\"], [\"radio/television\"], [\"business\"], [\"business\"], [\"radio/television\"], [\"radio/television\"], [\"radio/television\"], [\"car (used)\"], [\"car (new)\"], [\"domestic appliances\"], [\"car (used)\"], [\"car (new)\"], [\"car (new)\"], [\"business\"], [\"car (new)\"], [\"radio/television\"], [\"radio/television\"], [\"furniture/equipment\"], [\"furniture/equipment\"], [\"business\"], [\"car (new)\"], [\"car (new)\"], [\"car (used)\"], [\"car (used)\"], [\"furniture/equipment\"], [\"car (new)\"], [\"business\"], [\"radio/television\"], [\"repairs\"], [\"car (new)\"], [\"car (new)\"], [\"radio/television\"], [\"car (new)\"], [\"car (new)\"], [\"car (new)\"], [\"furniture/equipment\"], [\"radio/television\"], [\"car (new)\"], [\"car (new)\"], [\"radio/television\"], [\"furniture/equipment\"], [\"car (used)\"], [\"furniture/equipment\"], [\"radio/television\"], [\"car (used)\"], [\"education\"], [\"car (used)\"], [\"radio/television\"], [\"car (new)\"], [\"car (new)\"], [\"car (new)\"], [\"radio/television\"], [\"car (used)\"], [\"repairs\"], [\"radio/television\"], [\"car (new)\"], [\"retraining\"], [\"car (new)\"], [\"car (used)\"], [\"business\"], [\"radio/television\"], [\"car (used)\"], [\"education\"], [\"education\"], [\"business\"], [\"car (used)\"], [\"furniture/equipment\"], [\"furniture/equipment\"], [\"furniture/equipment\"], [\"furniture/equipment\"], [\"car (used)\"], [\"furniture/equipment\"], [\"car (new)\"], [\"car (new)\"], [\"education\"], [\"radio/television\"], [\"furniture/equipment\"], [\"radio/television\"], [\"car (new)\"], [\"car (new)\"], [\"radio/television\"], [\"radio/television\"], [\"car (used)\"], [\"car (new)\"], [\"business\"], [\"radio/television\"], [\"car (used)\"], [\"domestic appliances\"], [\"car (new)\"], [\"car (new)\"], [\"domestic appliances\"], [\"radio/television\"], [\"others\"], [\"radio/television\"], [\"car (new)\"], [\"radio/television\"], [\"furniture/equipment\"], [\"car (new)\"], [\"furniture/equipment\"], [\"car (new)\"], [\"car (new)\"], [\"business\"], [\"car (used)\"], [\"business\"], [\"business\"], [\"car (new)\"], [\"business\"], [\"radio/television\"], [\"radio/television\"], [\"car (new)\"], [\"radio/television\"], [\"furniture/equipment\"], [\"car (used)\"], [\"radio/television\"], [\"furniture/equipment\"], [\"car (used)\"], [\"repairs\"], [\"business\"], [\"furniture/equipment\"], [\"furniture/equipment\"], [\"car (new)\"], [\"car (new)\"], [\"radio/television\"], [\"radio/television\"], [\"car (new)\"], [\"car (used)\"], [\"radio/television\"], [\"car (new)\"], [\"car (new)\"], [\"car (new)\"], [\"retraining\"], [\"furniture/equipment\"], [\"car (new)\"], [\"car (new)\"], [\"car (used)\"], [\"business\"], [\"radio/television\"], [\"furniture/equipment\"], [\"furniture/equipment\"], [\"furniture/equipment\"], [\"radio/television\"], [\"furniture/equipment\"], [\"business\"], [\"furniture/equipment\"], [\"furniture/equipment\"], [\"car (new)\"], [\"business\"], [\"domestic appliances\"], [\"furniture/equipment\"], [\"car (new)\"], [\"radio/television\"], [\"radio/television\"], [\"car (new)\"], [\"radio/television\"], [\"car (used)\"], [\"car (used)\"], [\"car (new)\"], [\"radio/television\"], [\"furniture/equipment\"], [\"education\"], [\"business\"], [\"business\"], [\"car (new)\"], [\"car (used)\"], [\"business\"], [\"radio/television\"], [\"car (new)\"], [\"car (used)\"], [\"radio/television\"], [\"car (used)\"], [\"radio/television\"], [\"furniture/equipment\"], [\"furniture/equipment\"], [\"furniture/equipment\"], [\"car (new)\"], [\"car (new)\"], [\"car (used)\"], [\"radio/television\"], [\"radio/television\"], [\"radio/television\"], [\"car (new)\"], [\"education\"], [\"car (used)\"], [\"car (new)\"], [\"radio/television\"], [\"furniture/equipment\"], [\"radio/television\"], [\"business\"], [\"business\"], [\"others\"], [\"car (used)\"], [\"car (new)\"], [\"furniture/equipment\"], [\"furniture/equipment\"], [\"furniture/equipment\"], [\"radio/television\"], [\"radio/television\"], [\"car (new)\"], [\"furniture/equipment\"], [\"car (new)\"], [\"furniture/equipment\"], [\"car (used)\"], [\"radio/television\"], [\"car (new)\"], [\"furniture/equipment\"], [\"radio/television\"], [\"car (new)\"], [\"radio/television\"], [\"radio/television\"], [\"radio/television\"], [\"radio/television\"], [\"radio/television\"], [\"education\"], [\"car (used)\"], [\"car (new)\"], [\"car (new)\"], [\"furniture/equipment\"], [\"car (new)\"], [\"furniture/equipment\"], [\"car (new)\"], [\"furniture/equipment\"], [\"car (new)\"], [\"furniture/equipment\"], [\"radio/television\"], [\"business\"], [\"business\"], [\"car (used)\"], [\"furniture/equipment\"], [\"car (new)\"], [\"radio/television\"], [\"radio/television\"], [\"radio/television\"], [\"car (new)\"], [\"furniture/equipment\"], [\"radio/television\"], [\"car (new)\"], [\"car (new)\"], [\"radio/television\"], [\"repairs\"], [\"radio/television\"], [\"radio/television\"], [\"radio/television\"], [\"radio/television\"], [\"car (new)\"], [\"repairs\"], [\"car (new)\"], [\"car (new)\"], [\"business\"], [\"radio/television\"], [\"radio/television\"], [\"radio/television\"], [\"business\"], [\"car (new)\"], [\"car (new)\"], [\"furniture/equipment\"], [\"business\"], [\"car (new)\"], [\"car (used)\"], [\"furniture/equipment\"], [\"furniture/equipment\"], [\"business\"], [\"radio/television\"], [\"car (used)\"], [\"radio/television\"], [\"education\"], [\"radio/television\"], [\"radio/television\"], [\"furniture/equipment\"], [\"car (new)\"], [\"furniture/equipment\"], [\"car (used)\"], [\"radio/television\"], [\"radio/television\"], [\"car (used)\"]], \"hovertemplate\": \"credit_purpose=%{customdata[0]}<br>credit_amount=%{marker.size}<br>age=%{marker.color}<extra></extra>\", \"legendgroup\": \"\", \"marker\": {\"color\": [67, 22, 49, 45, 53, 35, 53, 35, 61, 28, 25, 24, 22, 60, 28, 32, 53, 25, 44, 31, 48, 44, 48, 44, 26, 36, 39, 42, 34, 63, 36, 27, 30, 57, 33, 25, 31, 37, 37, 24, 30, 26, 44, 24, 58, 35, 39, 23, 39, 28, 29, 30, 25, 31, 57, 26, 52, 31, 23, 23, 27, 50, 61, 25, 26, 48, 29, 22, 37, 25, 30, 46, 51, 41, 40, 66, 34, 51, 39, 22, 44, 47, 24, 58, 52, 29, 27, 47, 30, 28, 56, 54, 33, 20, 54, 58, 61, 34, 36, 36, 41, 24, 24, 35, 26, 39, 39, 32, 30, 35, 31, 23, 28, 25, 35, 47, 30, 27, 23, 36, 25, 41, 24, 63, 27, 30, 40, 30, 34, 29, 24, 29, 27, 47, 21, 38, 27, 66, 35, 44, 27, 30, 27, 22, 23, 30, 39, 51, 28, 46, 42, 38, 24, 29, 36, 20, 48, 45, 38, 34, 36, 30, 36, 70, 36, 32, 33, 20, 25, 31, 33, 26, 34, 33, 26, 53, 42, 52, 31, 65, 28, 30, 40, 50, 36, 31, 74, 68, 20, 33, 54, 34, 36, 29, 21, 34, 28, 27, 36, 40, 52, 27, 26, 21, 38, 38, 43, 26, 21, 55, 33, 45, 50, 66, 51, 39, 31, 23, 24, 64, 26, 23, 30, 32, 30, 27, 27, 53, 22, 22, 26, 51, 35, 25, 42, 30, 23, 61, 35, 39, 29, 51, 24, 27, 35, 25, 52, 35, 26, 22, 39, 46, 24, 35, 24, 27, 35, 29, 23, 57, 27, 55, 36, 57, 32, 37, 36, 38, 45, 25, 32, 37, 36, 28, 34, 32, 26, 49, 32, 29, 23, 50, 49, 63, 37, 35, 26, 31, 49, 48, 26, 28, 44, 56, 46, 26, 20, 45, 43, 32, 54, 42, 37, 49, 44, 33, 24, 33, 24, 22, 40, 25, 26, 25, 29, 31, 38, 48, 32, 27, 28, 32, 34, 28, 36, 39, 49, 34, 31, 28, 75, 30, 24, 24, 23, 44, 23, 24, 28, 31, 24, 26, 25, 33, 37, 43, 23, 23, 34, 32, 23, 29, 38, 28, 46, 23, 49, 26, 28, 23, 61, 37, 36, 21, 25, 36, 27, 22, 42, 40, 36, 33, 23, 63, 60, 37, 34, 36, 57, 52, 39, 38, 25, 26, 26, 25, 21, 40, 27, 27, 30, 19, 39, 31, 31, 32, 55, 46, 46, 43, 39, 28, 27, 27, 43, 22, 43, 27, 26, 28, 20, 35, 42, 40, 35, 35, 33, 23, 31, 33, 20, 30, 47, 34, 25, 21, 29, 46, 20, 55, 74, 29, 36, 33, 25, 25, 23, 37, 65, 26, 39, 30, 29, 41, 30, 41, 34, 35, 55, 61, 30, 29, 34, 35, 31, 29, 36, 35, 27, 32, 37, 36, 34, 38, 34, 63, 29, 32, 26, 35, 22, 23, 28, 36, 33, 26, 24, 25, 39, 44, 23, 26, 57, 30, 44, 47, 52, 62, 35, 26, 26, 42, 27, 38, 39, 20, 29, 40, 32, 28, 27, 42, 49, 38, 24, 27, 36, 34, 28, 45, 26, 32, 26, 20, 54, 37, 40, 23, 43, 36, 44, 24, 53, 23, 26, 30, 31, 42, 31, 41, 32, 28, 41, 26, 25, 33, 75, 37, 42, 45, 23, 60, 31, 34, 61, 43, 37, 32, 24, 35, 23, 45, 34, 27, 67, 22, 28, 29, 27, 31, 49, 24, 29, 37, 37, 23, 36, 34, 41, 31, 23, 38, 26, 22, 27, 24, 27, 33, 27, 27, 30, 49, 26, 33, 52, 20, 36, 21, 47, 60, 58, 42, 36, 20, 40, 32, 23, 36, 31, 32, 45, 30, 34, 28, 23, 22, 74, 50, 33, 45, 22, 48, 29, 22, 22, 48, 27, 37, 21, 49, 27, 32, 38, 22, 65, 35, 41, 29, 36, 64, 28, 44, 23, 19, 25, 47, 28, 21, 34, 26, 27, 38, 40, 33, 32, 27, 32, 26, 38, 40, 50, 37, 45, 42, 35, 22, 41, 37, 28, 41, 23, 23, 50, 35, 50, 27, 34, 27, 43, 47, 27, 31, 42, 24, 41, 26, 33, 24, 64, 26, 56, 37, 33, 47, 31, 34, 27, 30, 35, 31, 25, 25, 29, 44, 28, 50, 29, 38, 24, 40, 29, 46, 47, 41, 32, 35, 24, 25, 25, 37, 32, 35, 46, 25, 27, 63, 40, 32, 31, 31, 34, 24, 24, 66, 21, 41, 47, 25, 59, 36, 33, 21, 44, 28, 37, 29, 23, 35, 45, 26, 32, 23, 41, 22, 30, 28, 23, 37, 26, 33, 49, 23, 23, 25, 55, 32, 74, 39, 31, 35, 59, 24, 24, 30, 27, 40, 31, 31, 28, 63, 26, 25, 36, 52, 66, 25, 37, 25, 38, 67, 25, 60, 31, 23, 60, 35, 40, 38, 50, 27, 39, 41, 27, 51, 32, 22, 51, 22, 54, 35, 54, 48, 24, 35, 24, 24, 26, 65, 55, 26, 26, 28, 24, 54, 46, 54, 62, 24, 43, 26, 27, 24, 41, 47, 35, 30, 33, 36, 47, 38, 44, 23, 29, 42, 25, 48, 21, 23, 63, 46, 29, 28, 23, 50, 47, 35, 68, 28, 59, 57, 33, 43, 35, 32, 45, 33, 40, 28, 29, 26, 27, 28, 35, 32, 25, 20, 27, 42, 37, 24, 40, 46, 26, 24, 29, 40, 36, 28, 27, 36, 38, 48, 36, 65, 43, 53, 34, 23, 34, 40, 43, 46, 38, 34, 29, 31, 28, 35, 33, 42, 43, 44, 42, 40, 36, 20, 24, 27, 46, 33, 34, 25, 25, 28, 31, 32, 32, 68, 33, 39, 28, 37, 22, 30, 55, 46, 21, 39, 58, 43, 24, 22, 30, 42, 23, 30, 28, 30, 42, 46, 45, 31, 31, 42, 46, 30, 30, 38, 43, 31, 40, 24, 28, 26, 29, 57, 49, 37, 45, 30, 30, 47, 29, 35, 22, 26, 23, 54, 29, 40, 22, 43, 29, 36, 33, 57, 64, 42, 47, 25, 49, 33, 28, 26, 30, 25, 33, 64, 29, 48, 37, 34, 23, 30, 50, 31, 40, 38, 23, 27], \"coloraxis\": \"coloraxis\", \"size\": [1169, 5951, 2096, 7882, 4870, 9055, 2835, 6948, 3059, 5234, 1295, 4308, 1567, 1199, 1403, 1282, 2424, 8072, 12579, 3430, 2134, 2647, 2241, 1804, 2069, 1374, 426, 409, 2415, 6836, 1913, 4020, 5866, 1264, 1474, 4746, 6110, 2100, 1225, 458, 2333, 1158, 6204, 6187, 6143, 1393, 2299, 1352, 7228, 2073, 2333, 5965, 1262, 3378, 2225, 783, 6468, 9566, 1961, 6229, 1391, 1537, 1953, 14421, 3181, 5190, 2171, 1007, 1819, 2394, 8133, 730, 1164, 5954, 1977, 1526, 3965, 4771, 9436, 3832, 5943, 1213, 1568, 1755, 2315, 1412, 1295, 12612, 2249, 1108, 618, 1409, 797, 3617, 1318, 15945, 2012, 2622, 2337, 7057, 1469, 2323, 932, 1919, 2445, 11938, 6458, 6078, 7721, 1410, 1449, 392, 6260, 7855, 1680, 3578, 7174, 2132, 4281, 2366, 1835, 3868, 1768, 781, 1924, 2121, 701, 639, 1860, 3499, 8487, 6887, 2708, 1984, 10144, 1240, 8613, 766, 2728, 1881, 709, 4795, 3416, 2462, 2288, 3566, 860, 682, 5371, 1582, 1346, 1924, 5848, 7758, 6967, 1282, 1288, 339, 3512, 1898, 2872, 1055, 1262, 7308, 909, 2978, 1131, 1577, 3972, 1935, 950, 763, 2064, 1414, 3414, 7485, 2577, 338, 1963, 571, 9572, 4455, 1647, 3777, 884, 1360, 5129, 1175, 674, 3244, 4591, 3844, 3915, 2108, 3031, 1501, 1382, 951, 2760, 4297, 936, 1168, 5117, 902, 1495, 10623, 1935, 1424, 6568, 1413, 3074, 3835, 5293, 1908, 3342, 932, 3104, 3913, 3021, 1364, 625, 1200, 707, 2978, 4657, 2613, 10961, 7865, 1478, 3149, 4210, 2507, 2141, 866, 1544, 1823, 14555, 2767, 1291, 2522, 915, 1595, 4605, 1185, 3447, 1258, 717, 1204, 1925, 433, 666, 2251, 2150, 4151, 2030, 7418, 2684, 2149, 3812, 1154, 1657, 1603, 5302, 2748, 1231, 802, 6304, 1533, 8978, 999, 2662, 1402, 12169, 3060, 11998, 2697, 2404, 1262, 4611, 1901, 3368, 1574, 1445, 1520, 3878, 10722, 4788, 7582, 1092, 1024, 1076, 9398, 6419, 4796, 7629, 9960, 4675, 1287, 2515, 2745, 672, 3804, 1344, 1038, 10127, 1543, 4811, 727, 1237, 276, 5381, 5511, 3749, 685, 1494, 2746, 708, 4351, 701, 3643, 4249, 1938, 2910, 2659, 1028, 3398, 5801, 1525, 4473, 1068, 6615, 1864, 7408, 11590, 4110, 3384, 2101, 1275, 4169, 1521, 5743, 3599, 3213, 4439, 3949, 1459, 882, 3758, 1743, 1136, 1236, 959, 3229, 6199, 727, 1246, 2331, 4463, 776, 2406, 1239, 3399, 2247, 1766, 2473, 1542, 3850, 3650, 3446, 3001, 3079, 6070, 2146, 13756, 14782, 7685, 2320, 846, 14318, 362, 2212, 12976, 1283, 1330, 4272, 2238, 1126, 7374, 2326, 1449, 1820, 983, 3249, 1957, 2406, 11760, 2578, 2348, 1223, 1516, 1473, 1887, 8648, 802, 2899, 2039, 2197, 1053, 3235, 939, 1967, 7253, 2292, 1597, 1381, 5842, 2579, 8471, 2782, 1042, 3186, 2028, 958, 1591, 2762, 2779, 2743, 1149, 1313, 1190, 3448, 11328, 1872, 2058, 2136, 1484, 660, 1287, 3394, 609, 1884, 1620, 2629, 719, 5096, 1244, 1842, 2576, 1424, 1512, 11054, 518, 2759, 2670, 4817, 2679, 3905, 3386, 343, 4594, 3620, 1721, 3017, 754, 1950, 2924, 1659, 7238, 2764, 4679, 3092, 448, 654, 1238, 1245, 3114, 2569, 5152, 1037, 1478, 3573, 1201, 3622, 960, 1163, 1209, 3077, 3757, 1418, 3518, 1934, 8318, 1237, 368, 2122, 2996, 9034, 1585, 1301, 1323, 3123, 5493, 1126, 1216, 1207, 1309, 2360, 6850, 1413, 8588, 759, 4686, 2687, 585, 2255, 609, 1361, 7127, 1203, 700, 5507, 3190, 7119, 3488, 1113, 7966, 1532, 1503, 2302, 662, 2273, 2631, 1503, 1311, 3105, 2319, 1374, 3612, 7763, 3049, 1534, 2032, 6350, 2864, 1255, 1333, 2022, 1552, 626, 8858, 996, 1750, 6999, 1995, 1199, 1331, 2278, 5003, 3552, 1928, 2964, 1546, 683, 12389, 4712, 1553, 1372, 2578, 3979, 6758, 3234, 5954, 5433, 806, 1082, 2788, 2930, 1927, 2820, 937, 1056, 3124, 1388, 2384, 2133, 2039, 2799, 1289, 1217, 2246, 385, 1965, 1572, 2718, 1358, 931, 1442, 4241, 2775, 3863, 2329, 918, 1837, 3349, 1275, 2828, 4526, 2671, 2051, 1300, 741, 1240, 3357, 3632, 1808, 12204, 9157, 3676, 3441, 640, 3652, 1530, 3914, 1858, 2600, 1979, 2116, 1437, 4042, 3832, 3660, 1553, 1444, 1980, 1355, 1393, 1376, 15653, 1493, 4370, 750, 1308, 4623, 1851, 1880, 7980, 4583, 1386, 947, 684, 7476, 1922, 2303, 8086, 2346, 3973, 888, 10222, 4221, 6361, 1297, 900, 2241, 1050, 1047, 6314, 3496, 3609, 4843, 3017, 4139, 5742, 10366, 2080, 2580, 4530, 5150, 5595, 2384, 1453, 1538, 2279, 1478, 5103, 9857, 6527, 1347, 2862, 2753, 3651, 975, 2631, 2896, 4716, 2284, 1236, 1103, 926, 1800, 1905, 1123, 6331, 1377, 2503, 2528, 5324, 6560, 2969, 1206, 2118, 629, 1198, 2476, 1138, 14027, 7596, 3077, 1505, 3148, 6148, 1337, 433, 1228, 790, 2570, 250, 1316, 1882, 6416, 1275, 6403, 1987, 760, 2603, 3380, 3990, 11560, 4380, 6761, 4280, 2325, 1048, 3160, 2483, 14179, 1797, 2511, 1274, 5248, 3029, 428, 976, 841, 5771, 1555, 1285, 1299, 1271, 1393, 691, 5045, 2124, 2214, 12680, 2463, 1155, 3108, 2901, 3617, 1655, 2812, 8065, 3275, 2223, 1480, 1371, 3535, 3509, 5711, 3872, 4933, 1940, 1410, 836, 6468, 1941, 2675, 2751, 6224, 5998, 1188, 6313, 1221, 2892, 3062, 2301, 7511, 1258, 717, 1549, 1597, 1795, 4272, 976, 7472, 9271, 590, 930, 9283, 1778, 907, 484, 9629, 3051, 3931, 7432, 1338, 1554, 15857, 1345, 1101, 3016, 2712, 731, 3780, 1602, 3966, 4165, 8335, 6681, 2375, 1216, 11816, 5084, 2327, 1082, 886, 601, 2957, 2611, 5179, 2993, 1943, 1559, 3422, 3976, 6761, 1249, 1364, 709, 2235, 4042, 1471, 1442, 10875, 1474, 894, 3343, 3959, 3577, 5804, 2169, 2439, 4526, 2210, 2221, 2389, 3331, 7409, 652, 7678, 1343, 1382, 874, 3590, 1322, 1940, 3595, 1422, 6742, 7814, 9277, 2181, 1098, 4057, 795, 2825, 15672, 6614, 7824, 2442, 1829, 2171, 5800, 1169, 8947, 2606, 1592, 2186, 4153, 2625, 3485, 10477, 1386, 1278, 1107, 3763, 3711, 3594, 3195, 4454, 4736, 2991, 2142, 3161, 18424, 2848, 14896, 2359, 3345, 1817, 12749, 1366, 2002, 6872, 697, 1049, 10297, 1867, 1344, 1747, 1670, 1224, 522, 1498, 1919, 745, 2063, 6288, 6842, 3527, 1546, 929, 1455, 1845, 8358, 3349, 2859, 1533, 3621, 3590, 2145, 4113, 10974, 1893, 1231, 3656, 1154, 4006, 3069, 1740, 2353, 3556, 2397, 454, 1715, 2520, 3568, 7166, 3939, 1514, 7393, 1193, 7297, 2831, 1258, 753, 2427, 2538, 1264, 8386, 4844, 2923, 8229, 2028, 1433, 6289, 1409, 6579, 1743, 3565, 1569, 1936, 3959, 2390, 1736, 3857, 804, 1845, 4576], \"sizemode\": \"area\", \"sizeref\": 46.06, \"symbol\": \"circle\"}, \"mode\": \"markers\", \"name\": \"\", \"orientation\": \"v\", \"showlegend\": false, \"type\": \"scatter\", \"x\": [\"radio/television\", \"radio/television\", \"education\", \"furniture/equipment\", \"car (new)\", \"education\", \"furniture/equipment\", \"car (used)\", \"radio/television\", \"car (new)\", \"car (new)\", \"business\", \"radio/television\", \"car (new)\", \"car (new)\", \"radio/television\", \"radio/television\", \"business\", \"car (used)\", \"radio/television\", \"car (new)\", \"radio/television\", \"car (new)\", \"car (used)\", \"furniture/equipment\", \"furniture/equipment\", \"radio/television\", \"radio/television\", \"radio/television\", \"business\", \"business\", \"furniture/equipment\", \"car (new)\", \"business\", \"furniture/equipment\", \"radio/television\", \"education\", \"radio/television\", \"domestic appliances\", \"radio/television\", \"radio/television\", \"radio/television\", \"repairs\", \"car (used)\", \"car (used)\", \"car (new)\", \"radio/television\", \"car (used)\", \"car (new)\", \"radio/television\", \"furniture/equipment\", \"car (used)\", \"radio/television\", \"car (used)\", \"car (new)\", \"car (new)\", \"radio/television\", \"radio/television\", \"car (new)\", \"furniture/equipment\", \"business\", \"radio/television\", \"business\", \"business\", \"radio/television\", \"repairs\", \"radio/television\", \"car (new)\", \"education\", \"radio/television\", \"car (used)\", \"radio/television\", \"others\", \"business\", \"education\", \"car (used)\", \"radio/television\", \"radio/television\", \"car (used)\", \"furniture/equipment\", \"radio/television\", \"radio/television\", \"business\", \"others\", \"radio/television\", \"business\", \"furniture/equipment\", \"education\", \"car (new)\", \"repairs\", \"radio/television\", \"car (used)\", \"radio/television\", \"furniture/equipment\", \"car (new)\", \"business\", \"education\", \"business\", \"radio/television\", \"car (used)\", \"car (new)\", \"radio/television\", \"radio/television\", \"furniture/equipment\", \"car (used)\", \"others\", \"car (new)\", \"car (new)\", \"furniture/equipment\", \"business\", \"business\", \"education\", \"car (new)\", \"car (new)\", \"radio/television\", \"radio/television\", \"radio/television\", \"furniture/equipment\", \"furniture/equipment\", \"car (new)\", \"radio/television\", \"car (used)\", \"furniture/equipment\", \"car (new)\", \"furniture/equipment\", \"car (new)\", \"radio/television\", \"repairs\", \"car (used)\", \"car (new)\", \"car (new)\", \"education\", \"furniture/equipment\", \"furniture/equipment\", \"radio/television\", \"radio/television\", \"car (used)\", \"radio/television\", \"radio/television\", \"radio/television\", \"car (new)\", \"radio/television\", \"radio/television\", \"furniture/equipment\", \"furniture/equipment\", \"business\", \"car (new)\", \"car (new)\", \"furniture/equipment\", \"radio/television\", \"radio/television\", \"radio/television\", \"radio/television\", \"car (used)\", \"business\", \"furniture/equipment\", \"repairs\", \"retraining\", \"car (new)\", \"radio/television\", \"radio/television\", \"car (new)\", \"domestic appliances\", \"car (new)\", \"car (new)\", \"furniture/equipment\", \"furniture/equipment\", \"furniture/equipment\", \"furniture/equipment\", \"business\", \"car (new)\", \"furniture/equipment\", \"furniture/equipment\", \"radio/television\", \"education\", \"car (used)\", \"furniture/equipment\", \"radio/television\", \"radio/television\", \"car (new)\", \"business\", \"business\", \"car (new)\", \"furniture/equipment\", \"car (new)\", \"radio/television\", \"car (used)\", \"car (new)\", \"radio/television\", \"furniture/equipment\", \"business\", \"business\", \"business\", \"radio/television\", \"radio/television\", \"education\", \"radio/television\", \"furniture/equipment\", \"car (used)\", \"furniture/equipment\", \"education\", \"car (new)\", \"business\", \"retraining\", \"car (new)\", \"car (used)\", \"furniture/equipment\", \"domestic appliances\", \"business\", \"car (used)\", \"radio/television\", \"radio/television\", \"business\", \"business\", \"radio/television\", \"retraining\", \"business\", \"radio/television\", \"furniture/equipment\", \"car (new)\", \"radio/television\", \"education\", \"radio/television\", \"business\", \"car (used)\", \"repairs\", \"radio/television\", \"furniture/equipment\", \"radio/television\", \"furniture/equipment\", \"radio/television\", \"car (new)\", \"radio/television\", \"radio/television\", \"radio/television\", \"radio/television\", \"car (new)\", \"business\", \"radio/television\", \"radio/television\", \"car (new)\", \"radio/television\", \"car (used)\", \"business\", \"retraining\", \"business\", \"radio/television\", \"car (new)\", \"furniture/equipment\", \"radio/television\", \"car (new)\", \"furniture/equipment\", \"car (new)\", \"furniture/equipment\", \"furniture/equipment\", \"radio/television\", \"radio/television\", \"radio/television\", \"car (used)\", \"radio/television\", \"furniture/equipment\", \"radio/television\", \"car (new)\", \"education\", \"car (new)\", \"radio/television\", \"business\", \"radio/television\", \"car (new)\", \"radio/television\", \"car (new)\", \"furniture/equipment\", \"car (new)\", \"radio/television\", \"repairs\", \"radio/television\", \"radio/television\", \"furniture/equipment\", \"furniture/equipment\", \"radio/television\", \"car (used)\", \"furniture/equipment\", \"radio/television\", \"furniture/equipment\", \"car (new)\", \"car (new)\", \"car (used)\", \"others\", \"radio/television\", \"radio/television\", \"business\", \"car (used)\", \"car (used)\", \"car (used)\", \"business\", \"furniture/equipment\", \"car (used)\", \"car (new)\", \"furniture/equipment\", \"furniture/equipment\", \"car (new)\", \"radio/television\", \"car (new)\", \"car (new)\", \"car (new)\", \"furniture/equipment\", \"car (used)\", \"radio/television\", \"furniture/equipment\", \"car (new)\", \"others\", \"furniture/equipment\", \"furniture/equipment\", \"car (new)\", \"car (new)\", \"furniture/equipment\", \"furniture/equipment\", \"furniture/equipment\", \"education\", \"furniture/equipment\", \"car (new)\", \"radio/television\", \"car (used)\", \"furniture/equipment\", \"car (new)\", \"car (new)\", \"furniture/equipment\", \"car (new)\", \"radio/television\", \"radio/television\", \"car (used)\", \"education\", \"car (new)\", \"car (used)\", \"furniture/equipment\", \"furniture/equipment\", \"radio/television\", \"domestic appliances\", \"furniture/equipment\", \"furniture/equipment\", \"education\", \"furniture/equipment\", \"radio/television\", \"business\", \"car (new)\", \"radio/television\", \"radio/television\", \"radio/television\", \"business\", \"education\", \"domestic appliances\", \"furniture/equipment\", \"car (used)\", \"radio/television\", \"education\", \"car (new)\", \"radio/television\", \"radio/television\", \"radio/television\", \"furniture/equipment\", \"education\", \"radio/television\", \"car (new)\", \"furniture/equipment\", \"furniture/equipment\", \"business\", \"car (used)\", \"furniture/equipment\", \"furniture/equipment\", \"furniture/equipment\", \"car (new)\", \"radio/television\", \"furniture/equipment\", \"car (new)\", \"others\", \"business\", \"radio/television\", \"radio/television\", \"car (new)\", \"car (new)\", \"furniture/equipment\", \"car (used)\", \"car (new)\", \"car (new)\", \"business\", \"radio/television\", \"radio/television\", \"furniture/equipment\", \"business\", \"business\", \"car (new)\", \"furniture/equipment\", \"car (new)\", \"radio/television\", \"furniture/equipment\", \"education\", \"furniture/equipment\", \"furniture/equipment\", \"car (new)\", \"radio/television\", \"radio/television\", \"business\", \"business\", \"car (new)\", \"car (new)\", \"radio/television\", \"car (used)\", \"radio/television\", \"radio/television\", \"car (new)\", \"radio/television\", \"car (used)\", \"business\", \"car (new)\", \"car (new)\", \"car (used)\", \"car (new)\", \"education\", \"car (new)\", \"car (new)\", \"car (new)\", \"car (used)\", \"car (new)\", \"furniture/equipment\", \"furniture/equipment\", \"car (used)\", \"radio/television\", \"radio/television\", \"furniture/equipment\", \"repairs\", \"business\", \"others\", \"furniture/equipment\", \"repairs\", \"furniture/equipment\", \"radio/television\", \"repairs\", \"car (new)\", \"repairs\", \"business\", \"car (new)\", \"furniture/equipment\", \"others\", \"education\", \"furniture/equipment\", \"education\", \"car (new)\", \"radio/television\", \"furniture/equipment\", \"repairs\", \"car (used)\", \"radio/television\", \"furniture/equipment\", \"car (used)\", \"car (new)\", \"car (used)\", \"car (new)\", \"car (used)\", \"domestic appliances\", \"radio/television\", \"furniture/equipment\", \"car (new)\", \"furniture/equipment\", \"retraining\", \"business\", \"car (used)\", \"radio/television\", \"radio/television\", \"business\", \"car (used)\", \"radio/television\", \"education\", \"car (new)\", \"retraining\", \"radio/television\", \"furniture/equipment\", \"car (used)\", \"radio/television\", \"business\", \"furniture/equipment\", \"radio/television\", \"car (new)\", \"furniture/equipment\", \"furniture/equipment\", \"car (new)\", \"car (new)\", \"radio/television\", \"car (new)\", \"car (new)\", \"car (new)\", \"radio/television\", \"business\", \"radio/television\", \"radio/television\", \"car (new)\", \"furniture/equipment\", \"furniture/equipment\", \"furniture/equipment\", \"radio/television\", \"car (new)\", \"car (new)\", \"car (used)\", \"radio/television\", \"radio/television\", \"car (new)\", \"car (new)\", \"car (used)\", \"car (new)\", \"radio/television\", \"car (used)\", \"car (new)\", \"car (used)\", \"business\", \"radio/television\", \"car (new)\", \"car (new)\", \"car (new)\", \"furniture/equipment\", \"car (new)\", \"radio/television\", \"repairs\", \"radio/television\", \"furniture/equipment\", \"car (used)\", \"radio/television\", \"car (used)\", \"education\", \"radio/television\", \"radio/television\", \"car (new)\", \"education\", \"car (new)\", \"car (used)\", \"radio/television\", \"radio/television\", \"education\", \"car (new)\", \"furniture/equipment\", \"car (new)\", \"furniture/equipment\", \"radio/television\", \"car (new)\", \"furniture/equipment\", \"furniture/equipment\", \"car (new)\", \"car (new)\", \"car (new)\", \"radio/television\", \"radio/television\", \"car (used)\", \"repairs\", \"radio/television\", \"radio/television\", \"car (new)\", \"education\", \"radio/television\", \"car (new)\", \"car (new)\", \"furniture/equipment\", \"furniture/equipment\", \"car (used)\", \"radio/television\", \"radio/television\", \"car (new)\", \"business\", \"radio/television\", \"car (new)\", \"radio/television\", \"radio/television\", \"radio/television\", \"furniture/equipment\", \"radio/television\", \"car (used)\", \"business\", \"radio/television\", \"furniture/equipment\", \"radio/television\", \"education\", \"car (new)\", \"retraining\", \"car (new)\", \"car (new)\", \"furniture/equipment\", \"repairs\", \"car (new)\", \"furniture/equipment\", \"car (new)\", \"furniture/equipment\", \"domestic appliances\", \"furniture/equipment\", \"radio/television\", \"car (new)\", \"business\", \"car (new)\", \"others\", \"car (new)\", \"car (new)\", \"business\", \"car (new)\", \"business\", \"radio/television\", \"furniture/equipment\", \"education\", \"furniture/equipment\", \"furniture/equipment\", \"furniture/equipment\", \"business\", \"radio/television\", \"radio/television\", \"car (used)\", \"domestic appliances\", \"car (new)\", \"radio/television\", \"car (used)\", \"furniture/equipment\", \"business\", \"radio/television\", \"car (new)\", \"furniture/equipment\", \"car (new)\", \"business\", \"car (new)\", \"business\", \"furniture/equipment\", \"radio/television\", \"radio/television\", \"furniture/equipment\", \"car (new)\", \"furniture/equipment\", \"education\", \"radio/television\", \"furniture/equipment\", \"radio/television\", \"furniture/equipment\", \"car (new)\", \"education\", \"radio/television\", \"radio/television\", \"radio/television\", \"radio/television\", \"education\", \"repairs\", \"education\", \"radio/television\", \"radio/television\", \"business\", \"furniture/equipment\", \"car (new)\", \"car (new)\", \"education\", \"education\", \"furniture/equipment\", \"car (new)\", \"car (new)\", \"car (used)\", \"car (new)\", \"car (new)\", \"radio/television\", \"business\", \"furniture/equipment\", \"radio/television\", \"car (new)\", \"furniture/equipment\", \"furniture/equipment\", \"education\", \"others\", \"furniture/equipment\", \"business\", \"car (new)\", \"radio/television\", \"business\", \"business\", \"car (new)\", \"car (new)\", \"business\", \"radio/television\", \"furniture/equipment\", \"radio/television\", \"radio/television\", \"radio/television\", \"education\", \"radio/television\", \"radio/television\", \"radio/television\", \"business\", \"car (new)\", \"radio/television\", \"car (new)\", \"radio/television\", \"car (new)\", \"furniture/equipment\", \"repairs\", \"radio/television\", \"car (new)\", \"radio/television\", \"car (used)\", \"radio/television\", \"car (new)\", \"radio/television\", \"education\", \"furniture/equipment\", \"car (used)\", \"radio/television\", \"business\", \"business\", \"car (new)\", \"car (new)\", \"furniture/equipment\", \"radio/television\", \"radio/television\", \"radio/television\", \"education\", \"car (used)\", \"radio/television\", \"car (new)\", \"car (used)\", \"radio/television\", \"radio/television\", \"radio/television\", \"car (used)\", \"radio/television\", \"education\", \"car (new)\", \"radio/television\", \"car (new)\", \"car (new)\", \"radio/television\", \"radio/television\", \"business\", \"business\", \"radio/television\", \"radio/television\", \"radio/television\", \"car (used)\", \"car (new)\", \"domestic appliances\", \"car (used)\", \"car (new)\", \"car (new)\", \"business\", \"car (new)\", \"radio/television\", \"radio/television\", \"furniture/equipment\", \"furniture/equipment\", \"business\", \"car (new)\", \"car (new)\", \"car (used)\", \"car (used)\", \"furniture/equipment\", \"car (new)\", \"business\", \"radio/television\", \"repairs\", \"car (new)\", \"car (new)\", \"radio/television\", \"car (new)\", \"car (new)\", \"car (new)\", \"furniture/equipment\", \"radio/television\", \"car (new)\", \"car (new)\", \"radio/television\", \"furniture/equipment\", \"car (used)\", \"furniture/equipment\", \"radio/television\", \"car (used)\", \"education\", \"car (used)\", \"radio/television\", \"car (new)\", \"car (new)\", \"car (new)\", \"radio/television\", \"car (used)\", \"repairs\", \"radio/television\", \"car (new)\", \"retraining\", \"car (new)\", \"car (used)\", \"business\", \"radio/television\", \"car (used)\", \"education\", \"education\", \"business\", \"car (used)\", \"furniture/equipment\", \"furniture/equipment\", \"furniture/equipment\", \"furniture/equipment\", \"car (used)\", \"furniture/equipment\", \"car (new)\", \"car (new)\", \"education\", \"radio/television\", \"furniture/equipment\", \"radio/television\", \"car (new)\", \"car (new)\", \"radio/television\", \"radio/television\", \"car (used)\", \"car (new)\", \"business\", \"radio/television\", \"car (used)\", \"domestic appliances\", \"car (new)\", \"car (new)\", \"domestic appliances\", \"radio/television\", \"others\", \"radio/television\", \"car (new)\", \"radio/television\", \"furniture/equipment\", \"car (new)\", \"furniture/equipment\", \"car (new)\", \"car (new)\", \"business\", \"car (used)\", \"business\", \"business\", \"car (new)\", \"business\", \"radio/television\", \"radio/television\", \"car (new)\", \"radio/television\", \"furniture/equipment\", \"car (used)\", \"radio/television\", \"furniture/equipment\", \"car (used)\", \"repairs\", \"business\", \"furniture/equipment\", \"furniture/equipment\", \"car (new)\", \"car (new)\", \"radio/television\", \"radio/television\", \"car (new)\", \"car (used)\", \"radio/television\", \"car (new)\", \"car (new)\", \"car (new)\", \"retraining\", \"furniture/equipment\", \"car (new)\", \"car (new)\", \"car (used)\", \"business\", \"radio/television\", \"furniture/equipment\", \"furniture/equipment\", \"furniture/equipment\", \"radio/television\", \"furniture/equipment\", \"business\", \"furniture/equipment\", \"furniture/equipment\", \"car (new)\", \"business\", \"domestic appliances\", \"furniture/equipment\", \"car (new)\", \"radio/television\", \"radio/television\", \"car (new)\", \"radio/television\", \"car (used)\", \"car (used)\", \"car (new)\", \"radio/television\", \"furniture/equipment\", \"education\", \"business\", \"business\", \"car (new)\", \"car (used)\", \"business\", \"radio/television\", \"car (new)\", \"car (used)\", \"radio/television\", \"car (used)\", \"radio/television\", \"furniture/equipment\", \"furniture/equipment\", \"furniture/equipment\", \"car (new)\", \"car (new)\", \"car (used)\", \"radio/television\", \"radio/television\", \"radio/television\", \"car (new)\", \"education\", \"car (used)\", \"car (new)\", \"radio/television\", \"furniture/equipment\", \"radio/television\", \"business\", \"business\", \"others\", \"car (used)\", \"car (new)\", \"furniture/equipment\", \"furniture/equipment\", \"furniture/equipment\", \"radio/television\", \"radio/television\", \"car (new)\", \"furniture/equipment\", \"car (new)\", \"furniture/equipment\", \"car (used)\", \"radio/television\", \"car (new)\", \"furniture/equipment\", \"radio/television\", \"car (new)\", \"radio/television\", \"radio/television\", \"radio/television\", \"radio/television\", \"radio/television\", \"education\", \"car (used)\", \"car (new)\", \"car (new)\", \"furniture/equipment\", \"car (new)\", \"furniture/equipment\", \"car (new)\", \"furniture/equipment\", \"car (new)\", \"furniture/equipment\", \"radio/television\", \"business\", \"business\", \"car (used)\", \"furniture/equipment\", \"car (new)\", \"radio/television\", \"radio/television\", \"radio/television\", \"car (new)\", \"furniture/equipment\", \"radio/television\", \"car (new)\", \"car (new)\", \"radio/television\", \"repairs\", \"radio/television\", \"radio/television\", \"radio/television\", \"radio/television\", \"car (new)\", \"repairs\", \"car (new)\", \"car (new)\", \"business\", \"radio/television\", \"radio/television\", \"radio/television\", \"business\", \"car (new)\", \"car (new)\", \"furniture/equipment\", \"business\", \"car (new)\", \"car (used)\", \"furniture/equipment\", \"furniture/equipment\", \"business\", \"radio/television\", \"car (used)\", \"radio/television\", \"education\", \"radio/television\", \"radio/television\", \"furniture/equipment\", \"car (new)\", \"furniture/equipment\", \"car (used)\", \"radio/television\", \"radio/television\", \"car (used)\"], \"xaxis\": \"x\", \"y\": [1169, 5951, 2096, 7882, 4870, 9055, 2835, 6948, 3059, 5234, 1295, 4308, 1567, 1199, 1403, 1282, 2424, 8072, 12579, 3430, 2134, 2647, 2241, 1804, 2069, 1374, 426, 409, 2415, 6836, 1913, 4020, 5866, 1264, 1474, 4746, 6110, 2100, 1225, 458, 2333, 1158, 6204, 6187, 6143, 1393, 2299, 1352, 7228, 2073, 2333, 5965, 1262, 3378, 2225, 783, 6468, 9566, 1961, 6229, 1391, 1537, 1953, 14421, 3181, 5190, 2171, 1007, 1819, 2394, 8133, 730, 1164, 5954, 1977, 1526, 3965, 4771, 9436, 3832, 5943, 1213, 1568, 1755, 2315, 1412, 1295, 12612, 2249, 1108, 618, 1409, 797, 3617, 1318, 15945, 2012, 2622, 2337, 7057, 1469, 2323, 932, 1919, 2445, 11938, 6458, 6078, 7721, 1410, 1449, 392, 6260, 7855, 1680, 3578, 7174, 2132, 4281, 2366, 1835, 3868, 1768, 781, 1924, 2121, 701, 639, 1860, 3499, 8487, 6887, 2708, 1984, 10144, 1240, 8613, 766, 2728, 1881, 709, 4795, 3416, 2462, 2288, 3566, 860, 682, 5371, 1582, 1346, 1924, 5848, 7758, 6967, 1282, 1288, 339, 3512, 1898, 2872, 1055, 1262, 7308, 909, 2978, 1131, 1577, 3972, 1935, 950, 763, 2064, 1414, 3414, 7485, 2577, 338, 1963, 571, 9572, 4455, 1647, 3777, 884, 1360, 5129, 1175, 674, 3244, 4591, 3844, 3915, 2108, 3031, 1501, 1382, 951, 2760, 4297, 936, 1168, 5117, 902, 1495, 10623, 1935, 1424, 6568, 1413, 3074, 3835, 5293, 1908, 3342, 932, 3104, 3913, 3021, 1364, 625, 1200, 707, 2978, 4657, 2613, 10961, 7865, 1478, 3149, 4210, 2507, 2141, 866, 1544, 1823, 14555, 2767, 1291, 2522, 915, 1595, 4605, 1185, 3447, 1258, 717, 1204, 1925, 433, 666, 2251, 2150, 4151, 2030, 7418, 2684, 2149, 3812, 1154, 1657, 1603, 5302, 2748, 1231, 802, 6304, 1533, 8978, 999, 2662, 1402, 12169, 3060, 11998, 2697, 2404, 1262, 4611, 1901, 3368, 1574, 1445, 1520, 3878, 10722, 4788, 7582, 1092, 1024, 1076, 9398, 6419, 4796, 7629, 9960, 4675, 1287, 2515, 2745, 672, 3804, 1344, 1038, 10127, 1543, 4811, 727, 1237, 276, 5381, 5511, 3749, 685, 1494, 2746, 708, 4351, 701, 3643, 4249, 1938, 2910, 2659, 1028, 3398, 5801, 1525, 4473, 1068, 6615, 1864, 7408, 11590, 4110, 3384, 2101, 1275, 4169, 1521, 5743, 3599, 3213, 4439, 3949, 1459, 882, 3758, 1743, 1136, 1236, 959, 3229, 6199, 727, 1246, 2331, 4463, 776, 2406, 1239, 3399, 2247, 1766, 2473, 1542, 3850, 3650, 3446, 3001, 3079, 6070, 2146, 13756, 14782, 7685, 2320, 846, 14318, 362, 2212, 12976, 1283, 1330, 4272, 2238, 1126, 7374, 2326, 1449, 1820, 983, 3249, 1957, 2406, 11760, 2578, 2348, 1223, 1516, 1473, 1887, 8648, 802, 2899, 2039, 2197, 1053, 3235, 939, 1967, 7253, 2292, 1597, 1381, 5842, 2579, 8471, 2782, 1042, 3186, 2028, 958, 1591, 2762, 2779, 2743, 1149, 1313, 1190, 3448, 11328, 1872, 2058, 2136, 1484, 660, 1287, 3394, 609, 1884, 1620, 2629, 719, 5096, 1244, 1842, 2576, 1424, 1512, 11054, 518, 2759, 2670, 4817, 2679, 3905, 3386, 343, 4594, 3620, 1721, 3017, 754, 1950, 2924, 1659, 7238, 2764, 4679, 3092, 448, 654, 1238, 1245, 3114, 2569, 5152, 1037, 1478, 3573, 1201, 3622, 960, 1163, 1209, 3077, 3757, 1418, 3518, 1934, 8318, 1237, 368, 2122, 2996, 9034, 1585, 1301, 1323, 3123, 5493, 1126, 1216, 1207, 1309, 2360, 6850, 1413, 8588, 759, 4686, 2687, 585, 2255, 609, 1361, 7127, 1203, 700, 5507, 3190, 7119, 3488, 1113, 7966, 1532, 1503, 2302, 662, 2273, 2631, 1503, 1311, 3105, 2319, 1374, 3612, 7763, 3049, 1534, 2032, 6350, 2864, 1255, 1333, 2022, 1552, 626, 8858, 996, 1750, 6999, 1995, 1199, 1331, 2278, 5003, 3552, 1928, 2964, 1546, 683, 12389, 4712, 1553, 1372, 2578, 3979, 6758, 3234, 5954, 5433, 806, 1082, 2788, 2930, 1927, 2820, 937, 1056, 3124, 1388, 2384, 2133, 2039, 2799, 1289, 1217, 2246, 385, 1965, 1572, 2718, 1358, 931, 1442, 4241, 2775, 3863, 2329, 918, 1837, 3349, 1275, 2828, 4526, 2671, 2051, 1300, 741, 1240, 3357, 3632, 1808, 12204, 9157, 3676, 3441, 640, 3652, 1530, 3914, 1858, 2600, 1979, 2116, 1437, 4042, 3832, 3660, 1553, 1444, 1980, 1355, 1393, 1376, 15653, 1493, 4370, 750, 1308, 4623, 1851, 1880, 7980, 4583, 1386, 947, 684, 7476, 1922, 2303, 8086, 2346, 3973, 888, 10222, 4221, 6361, 1297, 900, 2241, 1050, 1047, 6314, 3496, 3609, 4843, 3017, 4139, 5742, 10366, 2080, 2580, 4530, 5150, 5595, 2384, 1453, 1538, 2279, 1478, 5103, 9857, 6527, 1347, 2862, 2753, 3651, 975, 2631, 2896, 4716, 2284, 1236, 1103, 926, 1800, 1905, 1123, 6331, 1377, 2503, 2528, 5324, 6560, 2969, 1206, 2118, 629, 1198, 2476, 1138, 14027, 7596, 3077, 1505, 3148, 6148, 1337, 433, 1228, 790, 2570, 250, 1316, 1882, 6416, 1275, 6403, 1987, 760, 2603, 3380, 3990, 11560, 4380, 6761, 4280, 2325, 1048, 3160, 2483, 14179, 1797, 2511, 1274, 5248, 3029, 428, 976, 841, 5771, 1555, 1285, 1299, 1271, 1393, 691, 5045, 2124, 2214, 12680, 2463, 1155, 3108, 2901, 3617, 1655, 2812, 8065, 3275, 2223, 1480, 1371, 3535, 3509, 5711, 3872, 4933, 1940, 1410, 836, 6468, 1941, 2675, 2751, 6224, 5998, 1188, 6313, 1221, 2892, 3062, 2301, 7511, 1258, 717, 1549, 1597, 1795, 4272, 976, 7472, 9271, 590, 930, 9283, 1778, 907, 484, 9629, 3051, 3931, 7432, 1338, 1554, 15857, 1345, 1101, 3016, 2712, 731, 3780, 1602, 3966, 4165, 8335, 6681, 2375, 1216, 11816, 5084, 2327, 1082, 886, 601, 2957, 2611, 5179, 2993, 1943, 1559, 3422, 3976, 6761, 1249, 1364, 709, 2235, 4042, 1471, 1442, 10875, 1474, 894, 3343, 3959, 3577, 5804, 2169, 2439, 4526, 2210, 2221, 2389, 3331, 7409, 652, 7678, 1343, 1382, 874, 3590, 1322, 1940, 3595, 1422, 6742, 7814, 9277, 2181, 1098, 4057, 795, 2825, 15672, 6614, 7824, 2442, 1829, 2171, 5800, 1169, 8947, 2606, 1592, 2186, 4153, 2625, 3485, 10477, 1386, 1278, 1107, 3763, 3711, 3594, 3195, 4454, 4736, 2991, 2142, 3161, 18424, 2848, 14896, 2359, 3345, 1817, 12749, 1366, 2002, 6872, 697, 1049, 10297, 1867, 1344, 1747, 1670, 1224, 522, 1498, 1919, 745, 2063, 6288, 6842, 3527, 1546, 929, 1455, 1845, 8358, 3349, 2859, 1533, 3621, 3590, 2145, 4113, 10974, 1893, 1231, 3656, 1154, 4006, 3069, 1740, 2353, 3556, 2397, 454, 1715, 2520, 3568, 7166, 3939, 1514, 7393, 1193, 7297, 2831, 1258, 753, 2427, 2538, 1264, 8386, 4844, 2923, 8229, 2028, 1433, 6289, 1409, 6579, 1743, 3565, 1569, 1936, 3959, 2390, 1736, 3857, 804, 1845, 4576], \"yaxis\": \"y\"}],                        {\"coloraxis\": {\"colorbar\": {\"title\": {\"text\": \"age\"}}, \"colorscale\": [[0.0, \"#0d0887\"], [0.1111111111111111, \"#46039f\"], [0.2222222222222222, \"#7201a8\"], [0.3333333333333333, \"#9c179e\"], [0.4444444444444444, \"#bd3786\"], [0.5555555555555556, \"#d8576b\"], [0.6666666666666666, \"#ed7953\"], [0.7777777777777778, \"#fb9f3a\"], [0.8888888888888888, \"#fdca26\"], [1.0, \"#f0f921\"]]}, \"legend\": {\"itemsizing\": \"constant\", \"tracegroupgap\": 0}, \"margin\": {\"t\": 60}, \"template\": {\"data\": {\"bar\": [{\"error_x\": {\"color\": \"#2a3f5f\"}, \"error_y\": {\"color\": \"#2a3f5f\"}, \"marker\": {\"line\": {\"color\": \"#E5ECF6\", \"width\": 0.5}}, \"type\": \"bar\"}], \"barpolar\": [{\"marker\": {\"line\": {\"color\": \"#E5ECF6\", \"width\": 0.5}}, \"type\": \"barpolar\"}], \"carpet\": [{\"aaxis\": {\"endlinecolor\": \"#2a3f5f\", \"gridcolor\": \"white\", \"linecolor\": \"white\", \"minorgridcolor\": \"white\", \"startlinecolor\": \"#2a3f5f\"}, \"baxis\": {\"endlinecolor\": \"#2a3f5f\", \"gridcolor\": \"white\", \"linecolor\": \"white\", \"minorgridcolor\": \"white\", \"startlinecolor\": \"#2a3f5f\"}, \"type\": \"carpet\"}], \"choropleth\": [{\"colorbar\": {\"outlinewidth\": 0, \"ticks\": \"\"}, \"type\": \"choropleth\"}], \"contour\": [{\"colorbar\": {\"outlinewidth\": 0, \"ticks\": \"\"}, \"colorscale\": [[0.0, \"#0d0887\"], [0.1111111111111111, \"#46039f\"], [0.2222222222222222, \"#7201a8\"], [0.3333333333333333, \"#9c179e\"], [0.4444444444444444, \"#bd3786\"], [0.5555555555555556, \"#d8576b\"], [0.6666666666666666, \"#ed7953\"], [0.7777777777777778, \"#fb9f3a\"], [0.8888888888888888, \"#fdca26\"], [1.0, \"#f0f921\"]], \"type\": \"contour\"}], \"contourcarpet\": [{\"colorbar\": {\"outlinewidth\": 0, \"ticks\": \"\"}, \"type\": \"contourcarpet\"}], \"heatmap\": [{\"colorbar\": {\"outlinewidth\": 0, \"ticks\": \"\"}, \"colorscale\": [[0.0, \"#0d0887\"], [0.1111111111111111, \"#46039f\"], [0.2222222222222222, \"#7201a8\"], [0.3333333333333333, \"#9c179e\"], [0.4444444444444444, \"#bd3786\"], [0.5555555555555556, \"#d8576b\"], [0.6666666666666666, \"#ed7953\"], [0.7777777777777778, \"#fb9f3a\"], [0.8888888888888888, \"#fdca26\"], [1.0, \"#f0f921\"]], \"type\": \"heatmap\"}], \"heatmapgl\": [{\"colorbar\": {\"outlinewidth\": 0, \"ticks\": \"\"}, \"colorscale\": [[0.0, \"#0d0887\"], [0.1111111111111111, \"#46039f\"], [0.2222222222222222, \"#7201a8\"], [0.3333333333333333, \"#9c179e\"], [0.4444444444444444, \"#bd3786\"], [0.5555555555555556, \"#d8576b\"], [0.6666666666666666, \"#ed7953\"], [0.7777777777777778, \"#fb9f3a\"], [0.8888888888888888, \"#fdca26\"], [1.0, \"#f0f921\"]], \"type\": \"heatmapgl\"}], \"histogram\": [{\"marker\": {\"colorbar\": {\"outlinewidth\": 0, \"ticks\": \"\"}}, \"type\": \"histogram\"}], \"histogram2d\": [{\"colorbar\": {\"outlinewidth\": 0, \"ticks\": \"\"}, \"colorscale\": [[0.0, \"#0d0887\"], [0.1111111111111111, \"#46039f\"], [0.2222222222222222, \"#7201a8\"], [0.3333333333333333, \"#9c179e\"], [0.4444444444444444, \"#bd3786\"], [0.5555555555555556, \"#d8576b\"], [0.6666666666666666, \"#ed7953\"], [0.7777777777777778, \"#fb9f3a\"], [0.8888888888888888, \"#fdca26\"], [1.0, \"#f0f921\"]], \"type\": \"histogram2d\"}], \"histogram2dcontour\": [{\"colorbar\": {\"outlinewidth\": 0, \"ticks\": \"\"}, \"colorscale\": [[0.0, \"#0d0887\"], [0.1111111111111111, \"#46039f\"], [0.2222222222222222, \"#7201a8\"], [0.3333333333333333, \"#9c179e\"], [0.4444444444444444, \"#bd3786\"], [0.5555555555555556, \"#d8576b\"], [0.6666666666666666, \"#ed7953\"], [0.7777777777777778, \"#fb9f3a\"], [0.8888888888888888, \"#fdca26\"], [1.0, \"#f0f921\"]], \"type\": \"histogram2dcontour\"}], \"mesh3d\": [{\"colorbar\": {\"outlinewidth\": 0, \"ticks\": \"\"}, \"type\": \"mesh3d\"}], \"parcoords\": [{\"line\": {\"colorbar\": {\"outlinewidth\": 0, \"ticks\": \"\"}}, \"type\": \"parcoords\"}], \"pie\": [{\"automargin\": true, \"type\": \"pie\"}], \"scatter\": [{\"marker\": {\"colorbar\": {\"outlinewidth\": 0, \"ticks\": \"\"}}, \"type\": \"scatter\"}], \"scatter3d\": [{\"line\": {\"colorbar\": {\"outlinewidth\": 0, \"ticks\": \"\"}}, \"marker\": {\"colorbar\": {\"outlinewidth\": 0, \"ticks\": \"\"}}, \"type\": \"scatter3d\"}], \"scattercarpet\": [{\"marker\": {\"colorbar\": {\"outlinewidth\": 0, \"ticks\": \"\"}}, \"type\": \"scattercarpet\"}], \"scattergeo\": [{\"marker\": {\"colorbar\": {\"outlinewidth\": 0, \"ticks\": \"\"}}, \"type\": \"scattergeo\"}], \"scattergl\": [{\"marker\": {\"colorbar\": {\"outlinewidth\": 0, \"ticks\": \"\"}}, \"type\": \"scattergl\"}], \"scattermapbox\": [{\"marker\": {\"colorbar\": {\"outlinewidth\": 0, \"ticks\": \"\"}}, \"type\": \"scattermapbox\"}], \"scatterpolar\": [{\"marker\": {\"colorbar\": {\"outlinewidth\": 0, \"ticks\": \"\"}}, \"type\": \"scatterpolar\"}], \"scatterpolargl\": [{\"marker\": {\"colorbar\": {\"outlinewidth\": 0, \"ticks\": \"\"}}, \"type\": \"scatterpolargl\"}], \"scatterternary\": [{\"marker\": {\"colorbar\": {\"outlinewidth\": 0, \"ticks\": \"\"}}, \"type\": \"scatterternary\"}], \"surface\": [{\"colorbar\": {\"outlinewidth\": 0, \"ticks\": \"\"}, \"colorscale\": [[0.0, \"#0d0887\"], [0.1111111111111111, \"#46039f\"], [0.2222222222222222, \"#7201a8\"], [0.3333333333333333, \"#9c179e\"], [0.4444444444444444, \"#bd3786\"], [0.5555555555555556, \"#d8576b\"], [0.6666666666666666, \"#ed7953\"], [0.7777777777777778, \"#fb9f3a\"], [0.8888888888888888, \"#fdca26\"], [1.0, \"#f0f921\"]], \"type\": \"surface\"}], \"table\": [{\"cells\": {\"fill\": {\"color\": \"#EBF0F8\"}, \"line\": {\"color\": \"white\"}}, \"header\": {\"fill\": {\"color\": \"#C8D4E3\"}, \"line\": {\"color\": \"white\"}}, \"type\": \"table\"}]}, \"layout\": {\"annotationdefaults\": {\"arrowcolor\": \"#2a3f5f\", \"arrowhead\": 0, \"arrowwidth\": 1}, \"coloraxis\": {\"colorbar\": {\"outlinewidth\": 0, \"ticks\": \"\"}}, \"colorscale\": {\"diverging\": [[0, \"#8e0152\"], [0.1, \"#c51b7d\"], [0.2, \"#de77ae\"], [0.3, \"#f1b6da\"], [0.4, \"#fde0ef\"], [0.5, \"#f7f7f7\"], [0.6, \"#e6f5d0\"], [0.7, \"#b8e186\"], [0.8, \"#7fbc41\"], [0.9, \"#4d9221\"], [1, \"#276419\"]], \"sequential\": [[0.0, \"#0d0887\"], [0.1111111111111111, \"#46039f\"], [0.2222222222222222, \"#7201a8\"], [0.3333333333333333, \"#9c179e\"], [0.4444444444444444, \"#bd3786\"], [0.5555555555555556, \"#d8576b\"], [0.6666666666666666, \"#ed7953\"], [0.7777777777777778, \"#fb9f3a\"], [0.8888888888888888, \"#fdca26\"], [1.0, \"#f0f921\"]], \"sequentialminus\": [[0.0, \"#0d0887\"], [0.1111111111111111, \"#46039f\"], [0.2222222222222222, \"#7201a8\"], [0.3333333333333333, \"#9c179e\"], [0.4444444444444444, \"#bd3786\"], [0.5555555555555556, \"#d8576b\"], [0.6666666666666666, \"#ed7953\"], [0.7777777777777778, \"#fb9f3a\"], [0.8888888888888888, \"#fdca26\"], [1.0, \"#f0f921\"]]}, \"colorway\": [\"#636efa\", \"#EF553B\", \"#00cc96\", \"#ab63fa\", \"#FFA15A\", \"#19d3f3\", \"#FF6692\", \"#B6E880\", \"#FF97FF\", \"#FECB52\"], \"font\": {\"color\": \"#2a3f5f\"}, \"geo\": {\"bgcolor\": \"white\", \"lakecolor\": \"white\", \"landcolor\": \"#E5ECF6\", \"showlakes\": true, \"showland\": true, \"subunitcolor\": \"white\"}, \"hoverlabel\": {\"align\": \"left\"}, \"hovermode\": \"closest\", \"mapbox\": {\"style\": \"light\"}, \"paper_bgcolor\": \"white\", \"plot_bgcolor\": \"#E5ECF6\", \"polar\": {\"angularaxis\": {\"gridcolor\": \"white\", \"linecolor\": \"white\", \"ticks\": \"\"}, \"bgcolor\": \"#E5ECF6\", \"radialaxis\": {\"gridcolor\": \"white\", \"linecolor\": \"white\", \"ticks\": \"\"}}, \"scene\": {\"xaxis\": {\"backgroundcolor\": \"#E5ECF6\", \"gridcolor\": \"white\", \"gridwidth\": 2, \"linecolor\": \"white\", \"showbackground\": true, \"ticks\": \"\", \"zerolinecolor\": \"white\"}, \"yaxis\": {\"backgroundcolor\": \"#E5ECF6\", \"gridcolor\": \"white\", \"gridwidth\": 2, \"linecolor\": \"white\", \"showbackground\": true, \"ticks\": \"\", \"zerolinecolor\": \"white\"}, \"zaxis\": {\"backgroundcolor\": \"#E5ECF6\", \"gridcolor\": \"white\", \"gridwidth\": 2, \"linecolor\": \"white\", \"showbackground\": true, \"ticks\": \"\", \"zerolinecolor\": \"white\"}}, \"shapedefaults\": {\"line\": {\"color\": \"#2a3f5f\"}}, \"ternary\": {\"aaxis\": {\"gridcolor\": \"white\", \"linecolor\": \"white\", \"ticks\": \"\"}, \"baxis\": {\"gridcolor\": \"white\", \"linecolor\": \"white\", \"ticks\": \"\"}, \"bgcolor\": \"#E5ECF6\", \"caxis\": {\"gridcolor\": \"white\", \"linecolor\": \"white\", \"ticks\": \"\"}}, \"title\": {\"x\": 0.05}, \"xaxis\": {\"automargin\": true, \"gridcolor\": \"white\", \"linecolor\": \"white\", \"ticks\": \"\", \"title\": {\"standoff\": 15}, \"zerolinecolor\": \"white\", \"zerolinewidth\": 2}, \"yaxis\": {\"automargin\": true, \"gridcolor\": \"white\", \"linecolor\": \"white\", \"ticks\": \"\", \"title\": {\"standoff\": 15}, \"zerolinecolor\": \"white\", \"zerolinewidth\": 2}}}, \"xaxis\": {\"anchor\": \"y\", \"domain\": [0.0, 1.0], \"title\": {\"text\": \"credit_purpose\"}}, \"yaxis\": {\"anchor\": \"x\", \"domain\": [0.0, 1.0], \"title\": {\"text\": \"credit_amount\"}}},                        {\"responsive\": true}                    ).then(function(){\n",
       "                            \n",
       "var gd = document.getElementById('302d33bf-db89-4b18-851b-8112e17b3182');\n",
       "var x = new MutationObserver(function (mutations, observer) {{\n",
       "        var display = window.getComputedStyle(gd).display;\n",
       "        if (!display || display === 'none') {{\n",
       "            console.log([gd, 'removed!']);\n",
       "            Plotly.purge(gd);\n",
       "            observer.disconnect();\n",
       "        }}\n",
       "}});\n",
       "\n",
       "// Listen for the removal of the full notebook cells\n",
       "var notebookContainer = gd.closest('#notebook-container');\n",
       "if (notebookContainer) {{\n",
       "    x.observe(notebookContainer, {childList: true});\n",
       "}}\n",
       "\n",
       "// Listen for the clearing of the current output cell\n",
       "var outputEl = gd.closest('.output');\n",
       "if (outputEl) {{\n",
       "    x.observe(outputEl, {childList: true});\n",
       "}}\n",
       "\n",
       "                        })                };                });            </script>        </div>"
      ]
     },
     "metadata": {},
     "output_type": "display_data"
    }
   ],
   "source": [
    "row = df[['credit_purpose', 'credit_amount', 'age', 'gender']]\n",
    "\n",
    "credit_purpose_dict = {\n",
    "    'A40': 'car (new)',\n",
    "    'A41': 'car (used)',\n",
    "    'A42': 'furniture/equipment',\n",
    "    'A43': 'radio/television',\n",
    "    'A44': 'domestic appliances',\n",
    "    'A45': 'repairs',\n",
    "    'A46': 'education',\n",
    "    'A47': 'vacation',\n",
    "    'A48': 'retraining',\n",
    "    'A49': 'business',\n",
    "    'A410': 'others'\n",
    "}\n",
    "row['credit_purpose'] = row['credit_purpose'].map(credit_purpose_dict)\n",
    "\n",
    "print('The list of loans needs by desceding order: \\n', row['credit_purpose'].value_counts())\n",
    "print('The list of loans needs for male gender by desceding order: \\n', row[row['gender'] == 'male']['credit_purpose'].value_counts())\n",
    "print('The list of loans needs for female gender by desceding order: \\n', row[row['gender'] == 'female']['credit_purpose'].value_counts())\n",
    "\n",
    "# filtered by age\n",
    "print('The list of loans needs for male gender by desceding order: \\n', row[row['gender'] == 'male']['credit_purpose'].value_counts())\n",
    "print('The list of loans needs for female gender by desceding order: \\n', row[row['gender'] == 'female']['credit_purpose'].value_counts())\n",
    "\n",
    "fig = px.scatter(row, x=row['credit_purpose'], y='credit_amount', color='age',\n",
    "                 size='credit_amount', hover_data=['credit_purpose'])\n",
    "fig.show()\n",
    "\n",
    "# Conclusion\n",
    "# - The list of ALL loans needs by desceding order per male AND female:\n",
    "# radio/television       280\n",
    "# car (new)              234\n",
    "# furniture/equipment    181\n",
    "# car (used)             103\n",
    "# business                97\n",
    "# education               50\n",
    "# repairs                 22\n",
    "# others                  12\n",
    "# domestic appliances     12\n",
    "# retraining               9\n",
    "\n",
    "# - The TOP 5 list of loans needs for male gender by desceding order:\n",
    "# radio/television       195\n",
    "# car (new)              164\n",
    "# furniture/equipment    107\n",
    "# car (used)              79\n",
    "# business                78\n",
    "\n",
    "# - The TOP 5 list of loans needs for female gender by desceding order:\n",
    "# radio/television       85\n",
    "# furniture/equipment    74\n",
    "# car (new)              70\n",
    "# car (used)             24\n",
    "# education              21\n",
    "# business               19"
   ]
  },
  {
   "cell_type": "code",
   "execution_count": 295,
   "metadata": {},
   "outputs": [
    {
     "data": {
      "text/html": [
       "<div>\n",
       "<style scoped>\n",
       "    .dataframe tbody tr th:only-of-type {\n",
       "        vertical-align: middle;\n",
       "    }\n",
       "\n",
       "    .dataframe tbody tr th {\n",
       "        vertical-align: top;\n",
       "    }\n",
       "\n",
       "    .dataframe thead th {\n",
       "        text-align: right;\n",
       "    }\n",
       "</style>\n",
       "<table border=\"1\" class=\"dataframe\">\n",
       "  <thead>\n",
       "    <tr style=\"text-align: right;\">\n",
       "      <th></th>\n",
       "      <th></th>\n",
       "      <th>credit_amount</th>\n",
       "      <th>gender</th>\n",
       "    </tr>\n",
       "    <tr>\n",
       "      <th>credit_purpose</th>\n",
       "      <th>age</th>\n",
       "      <th></th>\n",
       "      <th></th>\n",
       "    </tr>\n",
       "  </thead>\n",
       "  <tbody>\n",
       "    <tr>\n",
       "      <th rowspan=\"5\" valign=\"top\">business</th>\n",
       "      <th>21</th>\n",
       "      <td>6568</td>\n",
       "      <td>male</td>\n",
       "    </tr>\n",
       "    <tr>\n",
       "      <th>23</th>\n",
       "      <td>15672</td>\n",
       "      <td>male</td>\n",
       "    </tr>\n",
       "    <tr>\n",
       "      <th>24</th>\n",
       "      <td>2145</td>\n",
       "      <td>male</td>\n",
       "    </tr>\n",
       "    <tr>\n",
       "      <th>25</th>\n",
       "      <td>14421</td>\n",
       "      <td>male</td>\n",
       "    </tr>\n",
       "    <tr>\n",
       "      <th>26</th>\n",
       "      <td>5117</td>\n",
       "      <td>male</td>\n",
       "    </tr>\n",
       "    <tr>\n",
       "      <th>...</th>\n",
       "      <th>...</th>\n",
       "      <td>...</td>\n",
       "      <td>...</td>\n",
       "    </tr>\n",
       "    <tr>\n",
       "      <th rowspan=\"5\" valign=\"top\">retraining</th>\n",
       "      <th>27</th>\n",
       "      <td>937</td>\n",
       "      <td>male</td>\n",
       "    </tr>\n",
       "    <tr>\n",
       "      <th>31</th>\n",
       "      <td>1410</td>\n",
       "      <td>male</td>\n",
       "    </tr>\n",
       "    <tr>\n",
       "      <th>36</th>\n",
       "      <td>1238</td>\n",
       "      <td>male</td>\n",
       "    </tr>\n",
       "    <tr>\n",
       "      <th>38</th>\n",
       "      <td>754</td>\n",
       "      <td>male</td>\n",
       "    </tr>\n",
       "    <tr>\n",
       "      <th>45</th>\n",
       "      <td>339</td>\n",
       "      <td>male</td>\n",
       "    </tr>\n",
       "  </tbody>\n",
       "</table>\n",
       "<p>238 rows × 2 columns</p>\n",
       "</div>"
      ],
      "text/plain": [
       "                    credit_amount gender\n",
       "credit_purpose age                      \n",
       "business       21            6568   male\n",
       "               23           15672   male\n",
       "               24            2145   male\n",
       "               25           14421   male\n",
       "               26            5117   male\n",
       "...                           ...    ...\n",
       "retraining     27             937   male\n",
       "               31            1410   male\n",
       "               36            1238   male\n",
       "               38             754   male\n",
       "               45             339   male\n",
       "\n",
       "[238 rows x 2 columns]"
      ]
     },
     "execution_count": 295,
     "metadata": {},
     "output_type": "execute_result"
    }
   ],
   "source": [
    "# MALE Statistics of age + credit amount + gender per each credit purpose group\n",
    "row[row['gender'] == 'male'].groupby(['credit_purpose', 'age']).max()"
   ]
  },
  {
   "cell_type": "code",
   "execution_count": 296,
   "metadata": {},
   "outputs": [
    {
     "data": {
      "text/html": [
       "<div>\n",
       "<style scoped>\n",
       "    .dataframe tbody tr th:only-of-type {\n",
       "        vertical-align: middle;\n",
       "    }\n",
       "\n",
       "    .dataframe tbody tr th {\n",
       "        vertical-align: top;\n",
       "    }\n",
       "\n",
       "    .dataframe thead th {\n",
       "        text-align: right;\n",
       "    }\n",
       "</style>\n",
       "<table border=\"1\" class=\"dataframe\">\n",
       "  <thead>\n",
       "    <tr style=\"text-align: right;\">\n",
       "      <th></th>\n",
       "      <th></th>\n",
       "      <th>credit_amount</th>\n",
       "      <th>gender</th>\n",
       "    </tr>\n",
       "    <tr>\n",
       "      <th>credit_purpose</th>\n",
       "      <th>age</th>\n",
       "      <th></th>\n",
       "      <th></th>\n",
       "    </tr>\n",
       "  </thead>\n",
       "  <tbody>\n",
       "    <tr>\n",
       "      <th rowspan=\"5\" valign=\"top\">business</th>\n",
       "      <th>22</th>\n",
       "      <td>806</td>\n",
       "      <td>female</td>\n",
       "    </tr>\n",
       "    <tr>\n",
       "      <th>23</th>\n",
       "      <td>841</td>\n",
       "      <td>female</td>\n",
       "    </tr>\n",
       "    <tr>\n",
       "      <th>24</th>\n",
       "      <td>4308</td>\n",
       "      <td>female</td>\n",
       "    </tr>\n",
       "    <tr>\n",
       "      <th>26</th>\n",
       "      <td>4280</td>\n",
       "      <td>female</td>\n",
       "    </tr>\n",
       "    <tr>\n",
       "      <th>27</th>\n",
       "      <td>3609</td>\n",
       "      <td>female</td>\n",
       "    </tr>\n",
       "    <tr>\n",
       "      <th>...</th>\n",
       "      <th>...</th>\n",
       "      <td>...</td>\n",
       "      <td>...</td>\n",
       "    </tr>\n",
       "    <tr>\n",
       "      <th rowspan=\"2\" valign=\"top\">repairs</th>\n",
       "      <th>55</th>\n",
       "      <td>1190</td>\n",
       "      <td>female</td>\n",
       "    </tr>\n",
       "    <tr>\n",
       "      <th>67</th>\n",
       "      <td>3872</td>\n",
       "      <td>female</td>\n",
       "    </tr>\n",
       "    <tr>\n",
       "      <th rowspan=\"3\" valign=\"top\">retraining</th>\n",
       "      <th>35</th>\n",
       "      <td>3447</td>\n",
       "      <td>female</td>\n",
       "    </tr>\n",
       "    <tr>\n",
       "      <th>39</th>\n",
       "      <td>932</td>\n",
       "      <td>female</td>\n",
       "    </tr>\n",
       "    <tr>\n",
       "      <th>40</th>\n",
       "      <td>894</td>\n",
       "      <td>female</td>\n",
       "    </tr>\n",
       "  </tbody>\n",
       "</table>\n",
       "<p>148 rows × 2 columns</p>\n",
       "</div>"
      ],
      "text/plain": [
       "                    credit_amount  gender\n",
       "credit_purpose age                       \n",
       "business       22             806  female\n",
       "               23             841  female\n",
       "               24            4308  female\n",
       "               26            4280  female\n",
       "               27            3609  female\n",
       "...                           ...     ...\n",
       "repairs        55            1190  female\n",
       "               67            3872  female\n",
       "retraining     35            3447  female\n",
       "               39             932  female\n",
       "               40             894  female\n",
       "\n",
       "[148 rows x 2 columns]"
      ]
     },
     "execution_count": 296,
     "metadata": {},
     "output_type": "execute_result"
    }
   ],
   "source": [
    "# FEMALE Statistics of age + credit amount + gender per each credit purpose group\n",
    "row[row['gender'] == 'female'].groupby(['credit_purpose', 'age']).max()"
   ]
  },
  {
   "cell_type": "markdown",
   "metadata": {},
   "source": [
    "### How often people with already existed credits make repeted loans? "
   ]
  },
  {
   "cell_type": "code",
   "execution_count": null,
   "metadata": {},
   "outputs": [],
   "source": []
  },
  {
   "cell_type": "code",
   "execution_count": null,
   "metadata": {},
   "outputs": [],
   "source": []
  }
 ],
 "metadata": {
  "kernelspec": {
   "display_name": "Python 3",
   "language": "python",
   "name": "python3"
  },
  "language_info": {
   "codemirror_mode": {
    "name": "ipython",
    "version": 3
   },
   "file_extension": ".py",
   "mimetype": "text/x-python",
   "name": "python",
   "nbconvert_exporter": "python",
   "pygments_lexer": "ipython3",
   "version": "3.6.10"
  }
 },
 "nbformat": 4,
 "nbformat_minor": 4
}
